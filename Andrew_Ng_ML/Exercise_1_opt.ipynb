{
 "cells": [
  {
   "cell_type": "code",
   "execution_count": 1,
   "metadata": {
    "collapsed": true
   },
   "outputs": [],
   "source": [
    "import numpy as np\n",
    "import matplotlib.pyplot as plt\n",
    "%matplotlib inline"
   ]
  },
  {
   "cell_type": "code",
   "execution_count": 5,
   "metadata": {
    "collapsed": true
   },
   "outputs": [],
   "source": [
    "my_data=np.loadtxt('ex1data2.txt',delimiter=',')\n",
    "m=my_data.shape[0]"
   ]
  },
  {
   "cell_type": "code",
   "execution_count": 40,
   "metadata": {
    "collapsed": true
   },
   "outputs": [],
   "source": [
    "def normalize(X):\n",
    "    n_col=X.shape[1]\n",
    "    Xc=X.copy()\n",
    "    for i in range(n_col):\n",
    "        Xc[:,i]=(Xc[:,i]-Xc[:,i].mean())/Xc[:,i].std()\n",
    "    return Xc\n",
    "    "
   ]
  },
  {
   "cell_type": "code",
   "execution_count": 42,
   "metadata": {},
   "outputs": [],
   "source": [
    "my_data_n=normalize(my_data)"
   ]
  },
  {
   "cell_type": "code",
   "execution_count": 47,
   "metadata": {},
   "outputs": [],
   "source": [
    "X=np.c_[np.ones((m,1)),my_data_n[:,[0,1]]]"
   ]
  },
  {
   "cell_type": "code",
   "execution_count": 51,
   "metadata": {},
   "outputs": [],
   "source": [
    "def compute_cost(X,theta):\n",
    "    m=X.shape[0]\n",
    "    res=np.dot(X,theta)-my_data_n[:,-1,np.newaxis]\n",
    "    return (res**2).sum()/(2*m)"
   ]
  },
  {
   "cell_type": "code",
   "execution_count": 52,
   "metadata": {
    "collapsed": true
   },
   "outputs": [],
   "source": [
    "theta=np.array([0,0,0]).reshape((3,1))"
   ]
  },
  {
   "cell_type": "code",
   "execution_count": 114,
   "metadata": {},
   "outputs": [],
   "source": [
    "def gradient_descent(X,y,theta,alpha,iterations):\n",
    "    J=[]\n",
    "    m=X.shape[0]\n",
    "    for i in range(iterations):\n",
    "        J.append(compute_cost(X,theta))\n",
    "        tmp=np.dot(X,theta)-y\n",
    "        for j in range(theta.shape[]):\n",
    "            theta[j]=theta[j]-alpha/m*(tmp*X[:,j]).sum()\n",
    "    return (J,theta)"
   ]
  },
  {
   "cell_type": "code",
   "execution_count": 125,
   "metadata": {
    "collapsed": true
   },
   "outputs": [],
   "source": [
    "alpha=0.005\n",
    "theta=np.array([0,0,0],float).reshape((3,1))\n",
    "iterations=2000\n",
    "L=gradient_descent(X,my_data_n[:,-1,np.newaxis],theta,alpha,iterations)"
   ]
  },
  {
   "cell_type": "code",
   "execution_count": 126,
   "metadata": {},
   "outputs": [
    {
     "data": {
      "text/plain": [
       "array([[ -8.24252014e-17],\n",
       "       [  8.79037912e-01],\n",
       "       [ -4.74508756e-02]])"
      ]
     },
     "execution_count": 126,
     "metadata": {},
     "output_type": "execute_result"
    }
   ],
   "source": [
    "L[1]"
   ]
  },
  {
   "cell_type": "code",
   "execution_count": 131,
   "metadata": {},
   "outputs": [
    {
     "data": {
      "text/plain": [
       "array([[  5.89805982e-17],\n",
       "       [  8.84765988e-01],\n",
       "       [ -5.31788197e-02]])"
      ]
     },
     "execution_count": 131,
     "metadata": {},
     "output_type": "execute_result"
    }
   ],
   "source": [
    "A=np.linalg.pinv(np.dot(X.T,X))\n",
    "np.dot(np.dot(A,X.T),y)"
   ]
  },
  {
   "cell_type": "code",
   "execution_count": 130,
   "metadata": {},
   "outputs": [
    {
     "data": {
      "text/plain": [
       "array([[ 0.48089023],\n",
       "       [-0.08498338],\n",
       "       [ 0.23109745],\n",
       "       [-0.87639804],\n",
       "       [ 1.61263744],\n",
       "       [-0.32750064],\n",
       "       [-0.20624201],\n",
       "       [-1.1431751 ],\n",
       "       [-1.03807621],\n",
       "       [-0.791517  ],\n",
       "       [-0.81173485],\n",
       "       [ 0.05325146],\n",
       "       [-0.08418307],\n",
       "       [ 2.90606282],\n",
       "       [-0.65085698],\n",
       "       [ 0.88508566],\n",
       "       [-0.32750064],\n",
       "       [-1.1358915 ],\n",
       "       [ 1.29007331],\n",
       "       [ 2.09039644],\n",
       "       [-0.70744435],\n",
       "       [-0.69046814],\n",
       "       [-0.78828343],\n",
       "       [-0.65085698],\n",
       "       [ 1.88749033],\n",
       "       [-0.73169607],\n",
       "       [ 1.00311072],\n",
       "       [ 1.03948831],\n",
       "       [ 1.08799176],\n",
       "       [-0.32750064],\n",
       "       [ 0.07669479],\n",
       "       [-1.37840876],\n",
       "       [-0.20624201],\n",
       "       [ 1.93599378],\n",
       "       [-0.44067536],\n",
       "       [-0.73169607],\n",
       "       [-0.89337424],\n",
       "       [ 0.03708364],\n",
       "       [ 1.686201  ],\n",
       "       [-0.43178306],\n",
       "       [ 0.22705549],\n",
       "       [-0.08498338],\n",
       "       [-0.21351753],\n",
       "       [-0.33477616],\n",
       "       [-1.29756968],\n",
       "       [-0.32750064],\n",
       "       [-0.81576872]])"
      ]
     },
     "execution_count": 130,
     "metadata": {},
     "output_type": "execute_result"
    }
   ],
   "source": [
    "y"
   ]
  },
  {
   "cell_type": "code",
   "execution_count": null,
   "metadata": {
    "collapsed": true
   },
   "outputs": [],
   "source": []
  }
 ],
 "metadata": {
  "kernelspec": {
   "display_name": "Python 3",
   "language": "python",
   "name": "python3"
  },
  "language_info": {
   "codemirror_mode": {
    "name": "ipython",
    "version": 3
   },
   "file_extension": ".py",
   "mimetype": "text/x-python",
   "name": "python",
   "nbconvert_exporter": "python",
   "pygments_lexer": "ipython3",
   "version": "3.6.0"
  }
 },
 "nbformat": 4,
 "nbformat_minor": 2
}
