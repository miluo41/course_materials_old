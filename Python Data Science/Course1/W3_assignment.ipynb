{
 "cells": [
  {
   "cell_type": "code",
   "execution_count": 287,
   "metadata": {
    "collapsed": true
   },
   "outputs": [],
   "source": [
    "import pandas as pd\n",
    "import numpy as np"
   ]
  },
  {
   "cell_type": "markdown",
   "metadata": {},
   "source": [
    "#### Q1\n",
    "Load the energy data from the file Energy Indicators.xls, which is a list of indicators of energy supply and renewable electricity production from the United Nations for the year 2013, and should be put into a DataFrame with the variable name of energy.\n",
    "Keep in mind that this is an Excel file, and not a comma separated values file. Also, make sure to exclude the footer and header information from the datafile. The first two columns are unneccessary, so you should get rid of them, and you should change the column labels so that the columns are:\n",
    "['Country', 'Energy Supply', 'Energy Supply per Capita', '% Renewable']\n",
    "Convert Energy Supply to gigajoules (there are 1,000,000 gigajoules in a petajoule). For all countries which have missing data (e.g. data with \"...\") make sure this is reflected as np.NaN values.\n",
    "Rename the following list of countries (for use in later questions):\n",
    "\"Republic of Korea\": \"South Korea\",\n",
    "\"United States of America\": \"United States\",\n",
    "\"United Kingdom of Great Britain and Northern Ireland\": \"United Kingdom\",\n",
    "\"China, Hong Kong Special Administrative Region\": \"Hong Kong\"\n",
    "There are also several countries with numbers and/or parenthesis in their name. Be sure to remove these,\n",
    "e.g.\n",
    "'Bolivia (Plurinational State of)' should be 'Bolivia',\n",
    "'Switzerland17' should be 'Switzerland'.\n",
    "\n",
    "Next, load the GDP data from the file world_bank.csv, which is a csv containing countries' GDP from 1960 to 2015 from World Bank. Call this DataFrame GDP.\n",
    "Make sure to skip the header, and rename the following list of countries:\n",
    "\"Korea, Rep.\": \"South Korea\", \n",
    "\"Iran, Islamic Rep.\": \"Iran\",\n",
    "\"Hong Kong SAR, China\": \"Hong Kong\"\n",
    "\n",
    "Finally, load the Sciamgo Journal and Country Rank data for Energy Engineering and Power Technology from the file scimagojr-3.xlsx, which ranks countries based on their journal contributions in the aforementioned area. Call this DataFrame ScimEn.\n",
    "Join the three datasets: GDP, Energy, and ScimEn into a new dataset (using the intersection of country names). Use only the last 10 years (2006-2015) of GDP data and only the top 15 countries by Scimagojr 'Rank' (Rank 1 through 15).\n",
    "The index of this DataFrame should be the name of the country, and the columns should be ['Rank', 'Documents', 'Citable documents', 'Citations', 'Self-citations', 'Citations per document', 'H index', 'Energy Supply', 'Energy Supply per Capita', '% Renewable', '2006', '2007', '2008', '2009', '2010', '2011', '2012', '2013', '2014', '2015'].\n",
    "This function should return a DataFrame with 20 columns and 15 entries."
   ]
  },
  {
   "cell_type": "code",
   "execution_count": 305,
   "metadata": {},
   "outputs": [],
   "source": [
    "energy=pd.read_excel('Energy Indicators.xls',skiprows=16,skip_footer=38)\n",
    "energy=energy.drop(energy.columns[[0,1]],axis=1)\n",
    "energy_units=energy.iloc[0]\n",
    "energy=energy.rename(columns={'Unnamed: 2':'Country','Renewable Electricity Production':'% Renewable',\n",
    "                             'Energy Supply per capita':'Energy Supply per Capita'}).drop(energy.index[0])\n",
    "energy['Energy Supply']=energy['Energy Supply']*int(1e6)\n",
    "tmp1=(energy['Country'].\n",
    "     str.replace('\\(.*\\)|\\d','').\n",
    "     str.strip().\n",
    "     replace({\"Republic of Korea\": \"South Korea\",\n",
    "                \"United States of America\": \"United States\",\n",
    "                \"United Kingdom of Great Britain and Northern Ireland\": \"United Kingdom\",\n",
    "                \"China, Hong Kong Special Administrative Region\": \"Hong Kong\"}))\n",
    "energy['Country']=tmp1\n",
    "\n",
    "GDP=pd.read_csv('world_bank.csv',header=2)\n",
    "GDP['Country Name']=GDP[GDP.columns[0]].replace({\"Korea, Rep.\": \"South Korea\", \n",
    "                        \"Iran, Islamic Rep.\": \"Iran\",\n",
    "                        \"Hong Kong SAR, China\": \"Hong Kong\"})\n",
    "\n",
    "ScimEn=pd.read_excel('scimagojr.xlsx')"
   ]
  },
  {
   "cell_type": "code",
   "execution_count": 306,
   "metadata": {},
   "outputs": [],
   "source": [
    "df=energy.merge(GDP,how='inner',left_on='Country',right_on='Country Name')\n",
    "df=df.merge(ScimEn,left_on='Country',right_on='Country')\n",
    "\n",
    "df=df.loc[:,['Country','Rank', 'Documents', 'Citable documents', 'Citations', 'Self-citations', 'Citations per document', \n",
    "          'H index', 'Energy Supply', 'Energy Supply per Capita', '% Renewable', '2006', '2007', '2008', \n",
    "          '2009', '2010', '2011', '2012', '2013', '2014', '2015']]\n",
    "df=df.set_index('Country')\n",
    "df2=df[df['Rank']<=15]\n",
    "df2=df2.sort_values('Rank')"
   ]
  },
  {
   "cell_type": "code",
   "execution_count": 308,
   "metadata": {},
   "outputs": [
    {
     "data": {
      "text/html": [
       "<div>\n",
       "<style>\n",
       "    .dataframe thead tr:only-child th {\n",
       "        text-align: right;\n",
       "    }\n",
       "\n",
       "    .dataframe thead th {\n",
       "        text-align: left;\n",
       "    }\n",
       "\n",
       "    .dataframe tbody tr th {\n",
       "        vertical-align: top;\n",
       "    }\n",
       "</style>\n",
       "<table border=\"1\" class=\"dataframe\">\n",
       "  <thead>\n",
       "    <tr style=\"text-align: right;\">\n",
       "      <th></th>\n",
       "      <th>Rank</th>\n",
       "      <th>Documents</th>\n",
       "      <th>Citable documents</th>\n",
       "      <th>Citations</th>\n",
       "      <th>Self-citations</th>\n",
       "      <th>Citations per document</th>\n",
       "      <th>H index</th>\n",
       "      <th>Energy Supply</th>\n",
       "      <th>Energy Supply per Capita</th>\n",
       "      <th>% Renewable</th>\n",
       "      <th>2006</th>\n",
       "      <th>2007</th>\n",
       "      <th>2008</th>\n",
       "      <th>2009</th>\n",
       "      <th>2010</th>\n",
       "      <th>2011</th>\n",
       "      <th>2012</th>\n",
       "      <th>2013</th>\n",
       "      <th>2014</th>\n",
       "      <th>2015</th>\n",
       "    </tr>\n",
       "    <tr>\n",
       "      <th>Country</th>\n",
       "      <th></th>\n",
       "      <th></th>\n",
       "      <th></th>\n",
       "      <th></th>\n",
       "      <th></th>\n",
       "      <th></th>\n",
       "      <th></th>\n",
       "      <th></th>\n",
       "      <th></th>\n",
       "      <th></th>\n",
       "      <th></th>\n",
       "      <th></th>\n",
       "      <th></th>\n",
       "      <th></th>\n",
       "      <th></th>\n",
       "      <th></th>\n",
       "      <th></th>\n",
       "      <th></th>\n",
       "      <th></th>\n",
       "      <th></th>\n",
       "    </tr>\n",
       "  </thead>\n",
       "  <tbody>\n",
       "    <tr>\n",
       "      <th>China</th>\n",
       "      <td>1</td>\n",
       "      <td>147887</td>\n",
       "      <td>147512</td>\n",
       "      <td>856806</td>\n",
       "      <td>583858</td>\n",
       "      <td>5.79</td>\n",
       "      <td>162</td>\n",
       "      <td>127191000000</td>\n",
       "      <td>93</td>\n",
       "      <td>19.7549</td>\n",
       "      <td>2.752132e+12</td>\n",
       "      <td>3.552183e+12</td>\n",
       "      <td>4.598205e+12</td>\n",
       "      <td>5.109954e+12</td>\n",
       "      <td>6.100620e+12</td>\n",
       "      <td>7.572554e+12</td>\n",
       "      <td>8.560547e+12</td>\n",
       "      <td>9.607224e+12</td>\n",
       "      <td>1.048237e+13</td>\n",
       "      <td>1.106466e+13</td>\n",
       "    </tr>\n",
       "    <tr>\n",
       "      <th>United States</th>\n",
       "      <td>2</td>\n",
       "      <td>113579</td>\n",
       "      <td>111426</td>\n",
       "      <td>1085684</td>\n",
       "      <td>370574</td>\n",
       "      <td>9.56</td>\n",
       "      <td>259</td>\n",
       "      <td>90838000000</td>\n",
       "      <td>286</td>\n",
       "      <td>11.571</td>\n",
       "      <td>1.385589e+13</td>\n",
       "      <td>1.447764e+13</td>\n",
       "      <td>1.471858e+13</td>\n",
       "      <td>1.441874e+13</td>\n",
       "      <td>1.496437e+13</td>\n",
       "      <td>1.551793e+13</td>\n",
       "      <td>1.615526e+13</td>\n",
       "      <td>1.669152e+13</td>\n",
       "      <td>1.739310e+13</td>\n",
       "      <td>1.803665e+13</td>\n",
       "    </tr>\n",
       "    <tr>\n",
       "      <th>Japan</th>\n",
       "      <td>3</td>\n",
       "      <td>34294</td>\n",
       "      <td>34054</td>\n",
       "      <td>275980</td>\n",
       "      <td>73491</td>\n",
       "      <td>8.05</td>\n",
       "      <td>145</td>\n",
       "      <td>18984000000</td>\n",
       "      <td>149</td>\n",
       "      <td>10.2328</td>\n",
       "      <td>4.530377e+12</td>\n",
       "      <td>4.515265e+12</td>\n",
       "      <td>5.037908e+12</td>\n",
       "      <td>5.231383e+12</td>\n",
       "      <td>5.700098e+12</td>\n",
       "      <td>6.157460e+12</td>\n",
       "      <td>6.203213e+12</td>\n",
       "      <td>5.155717e+12</td>\n",
       "      <td>4.848733e+12</td>\n",
       "      <td>4.383076e+12</td>\n",
       "    </tr>\n",
       "    <tr>\n",
       "      <th>United Kingdom</th>\n",
       "      <td>4</td>\n",
       "      <td>24328</td>\n",
       "      <td>23671</td>\n",
       "      <td>278694</td>\n",
       "      <td>52119</td>\n",
       "      <td>11.46</td>\n",
       "      <td>159</td>\n",
       "      <td>7920000000</td>\n",
       "      <td>124</td>\n",
       "      <td>10.6005</td>\n",
       "      <td>2.678278e+12</td>\n",
       "      <td>3.063005e+12</td>\n",
       "      <td>2.875463e+12</td>\n",
       "      <td>2.367127e+12</td>\n",
       "      <td>2.429680e+12</td>\n",
       "      <td>2.608825e+12</td>\n",
       "      <td>2.646003e+12</td>\n",
       "      <td>2.719509e+12</td>\n",
       "      <td>2.998834e+12</td>\n",
       "      <td>2.861091e+12</td>\n",
       "    </tr>\n",
       "    <tr>\n",
       "      <th>India</th>\n",
       "      <td>5</td>\n",
       "      <td>21450</td>\n",
       "      <td>21183</td>\n",
       "      <td>179494</td>\n",
       "      <td>54929</td>\n",
       "      <td>8.37</td>\n",
       "      <td>132</td>\n",
       "      <td>33195000000</td>\n",
       "      <td>26</td>\n",
       "      <td>14.9691</td>\n",
       "      <td>9.203165e+11</td>\n",
       "      <td>1.201112e+12</td>\n",
       "      <td>1.186953e+12</td>\n",
       "      <td>1.323940e+12</td>\n",
       "      <td>1.656617e+12</td>\n",
       "      <td>1.823050e+12</td>\n",
       "      <td>1.827638e+12</td>\n",
       "      <td>1.856722e+12</td>\n",
       "      <td>2.035393e+12</td>\n",
       "      <td>2.111751e+12</td>\n",
       "    </tr>\n",
       "  </tbody>\n",
       "</table>\n",
       "</div>"
      ],
      "text/plain": [
       "                Rank  Documents  Citable documents  Citations  Self-citations  \\\n",
       "Country                                                                         \n",
       "China              1     147887             147512     856806          583858   \n",
       "United States      2     113579             111426    1085684          370574   \n",
       "Japan              3      34294              34054     275980           73491   \n",
       "United Kingdom     4      24328              23671     278694           52119   \n",
       "India              5      21450              21183     179494           54929   \n",
       "\n",
       "                Citations per document  H index Energy Supply  \\\n",
       "Country                                                         \n",
       "China                             5.79      162  127191000000   \n",
       "United States                     9.56      259   90838000000   \n",
       "Japan                             8.05      145   18984000000   \n",
       "United Kingdom                   11.46      159    7920000000   \n",
       "India                             8.37      132   33195000000   \n",
       "\n",
       "               Energy Supply per Capita % Renewable          2006  \\\n",
       "Country                                                             \n",
       "China                                93     19.7549  2.752132e+12   \n",
       "United States                       286      11.571  1.385589e+13   \n",
       "Japan                               149     10.2328  4.530377e+12   \n",
       "United Kingdom                      124     10.6005  2.678278e+12   \n",
       "India                                26     14.9691  9.203165e+11   \n",
       "\n",
       "                        2007          2008          2009          2010  \\\n",
       "Country                                                                  \n",
       "China           3.552183e+12  4.598205e+12  5.109954e+12  6.100620e+12   \n",
       "United States   1.447764e+13  1.471858e+13  1.441874e+13  1.496437e+13   \n",
       "Japan           4.515265e+12  5.037908e+12  5.231383e+12  5.700098e+12   \n",
       "United Kingdom  3.063005e+12  2.875463e+12  2.367127e+12  2.429680e+12   \n",
       "India           1.201112e+12  1.186953e+12  1.323940e+12  1.656617e+12   \n",
       "\n",
       "                        2011          2012          2013          2014  \\\n",
       "Country                                                                  \n",
       "China           7.572554e+12  8.560547e+12  9.607224e+12  1.048237e+13   \n",
       "United States   1.551793e+13  1.615526e+13  1.669152e+13  1.739310e+13   \n",
       "Japan           6.157460e+12  6.203213e+12  5.155717e+12  4.848733e+12   \n",
       "United Kingdom  2.608825e+12  2.646003e+12  2.719509e+12  2.998834e+12   \n",
       "India           1.823050e+12  1.827638e+12  1.856722e+12  2.035393e+12   \n",
       "\n",
       "                        2015  \n",
       "Country                       \n",
       "China           1.106466e+13  \n",
       "United States   1.803665e+13  \n",
       "Japan           4.383076e+12  \n",
       "United Kingdom  2.861091e+12  \n",
       "India           2.111751e+12  "
      ]
     },
     "execution_count": 308,
     "metadata": {},
     "output_type": "execute_result"
    }
   ],
   "source": [
    "df2.head()"
   ]
  },
  {
   "cell_type": "markdown",
   "metadata": {},
   "source": [
    "#### Q2\n",
    "The previous question joined three datasets then reduced this to just the top 15 entries. When you joined the datasets, but before you reduced this to the top 15 items, how many entries did you lose?\n",
    "This function should return a single number."
   ]
  },
  {
   "cell_type": "code",
   "execution_count": 303,
   "metadata": {},
   "outputs": [],
   "source": [
    "all_df=energy.merge(GDP,how='outer',left_on='Country',right_on='Country Name').merge(ScimEn,how='outer',on='Country')"
   ]
  },
  {
   "cell_type": "code",
   "execution_count": 304,
   "metadata": {},
   "outputs": [
    {
     "data": {
      "text/plain": [
       "(323, 73)"
      ]
     },
     "execution_count": 304,
     "metadata": {},
     "output_type": "execute_result"
    }
   ],
   "source": [
    "all_df.shape[0]-df.shape[0]"
   ]
  },
  {
   "cell_type": "markdown",
   "metadata": {},
   "source": [
    "#### Q3\n",
    "What is the average GDP over the last 10 years for each country? (exclude missing values from this calculation.)"
   ]
  },
  {
   "cell_type": "code",
   "execution_count": 315,
   "metadata": {},
   "outputs": [
    {
     "data": {
      "text/plain": [
       "Country\n",
       "United States         1.562297e+13\n",
       "China                 6.940046e+12\n",
       "Japan                 5.176323e+12\n",
       "Germany               3.532694e+12\n",
       "United Kingdom        2.724782e+12\n",
       "France                2.688773e+12\n",
       "Italy                 2.130288e+12\n",
       "Brazil                1.989028e+12\n",
       "Russian Federation    1.656010e+12\n",
       "Canada                1.611540e+12\n",
       "India                 1.594349e+12\n",
       "Spain                 1.406409e+12\n",
       "Australia             1.202763e+12\n",
       "South Korea           1.165810e+12\n",
       "Iran                  4.369708e+11\n",
       "dtype: float64"
      ]
     },
     "execution_count": 315,
     "metadata": {},
     "output_type": "execute_result"
    }
   ],
   "source": [
    "import numpy as np\n",
    "df2.iloc[:,-10:].apply(np.mean,axis=1).sort_values(ascending=False)"
   ]
  },
  {
   "cell_type": "markdown",
   "metadata": {},
   "source": [
    "#### Q4\n",
    "By how much had the GDP changed over the 10 year span for the country with the 6th largest average GDP?\n",
    "This function should return a single number."
   ]
  },
  {
   "cell_type": "code",
   "execution_count": 334,
   "metadata": {},
   "outputs": [
    {
     "data": {
      "text/plain": [
       "Country\n",
       "Russian Federation    3.759347e+11\n",
       "dtype: float64"
      ]
     },
     "execution_count": 334,
     "metadata": {},
     "output_type": "execute_result"
    }
   ],
   "source": [
    "df2.where(df2['Rank']==6).dropna().loc[:,['2006','2015']].apply(lambda x:x['2015']-x['2006'],axis=1)"
   ]
  },
  {
   "cell_type": "markdown",
   "metadata": {},
   "source": [
    "#### Q5\n",
    "What is the mean Energy Supply per Capita?"
   ]
  },
  {
   "cell_type": "code",
   "execution_count": 336,
   "metadata": {},
   "outputs": [
    {
     "data": {
      "text/plain": [
       "157.59999999999999"
      ]
     },
     "execution_count": 336,
     "metadata": {},
     "output_type": "execute_result"
    }
   ],
   "source": [
    "np.mean(df2.loc[:,'Energy Supply per Capita'])"
   ]
  },
  {
   "cell_type": "markdown",
   "metadata": {},
   "source": [
    "#### Q6\n",
    "What country has the maximum % Renewable and what is the percentage?\n",
    "This function should return a tuple with the name of the country and the percentage."
   ]
  },
  {
   "cell_type": "code",
   "execution_count": 351,
   "metadata": {},
   "outputs": [
    {
     "data": {
      "text/plain": [
       "('Brazil', 69.64803)"
      ]
     },
     "execution_count": 351,
     "metadata": {},
     "output_type": "execute_result"
    }
   ],
   "source": [
    "q6=df2.where(df2['% Renewable']==np.max(df2['% Renewable'])).dropna()\n",
    "q6.index[0],q6['% Renewable'][0]"
   ]
  },
  {
   "cell_type": "markdown",
   "metadata": {},
   "source": [
    "#### Q7\n",
    "Create a new column that is the ratio of Self-Citations to Total Citations. What is the maximum value for this new column, and what country has the highest ratio?"
   ]
  },
  {
   "cell_type": "code",
   "execution_count": 359,
   "metadata": {},
   "outputs": [],
   "source": [
    "q7=df2.copy()\n",
    "q7['cite_ratio']=q7['Self-citations']/q7['Citations']\n",
    "q7=q7.where(q7['cite_ratio']==np.max(q7['cite_ratio'])).dropna()"
   ]
  },
  {
   "cell_type": "code",
   "execution_count": 360,
   "metadata": {},
   "outputs": [
    {
     "data": {
      "text/html": [
       "<div>\n",
       "<style>\n",
       "    .dataframe thead tr:only-child th {\n",
       "        text-align: right;\n",
       "    }\n",
       "\n",
       "    .dataframe thead th {\n",
       "        text-align: left;\n",
       "    }\n",
       "\n",
       "    .dataframe tbody tr th {\n",
       "        vertical-align: top;\n",
       "    }\n",
       "</style>\n",
       "<table border=\"1\" class=\"dataframe\">\n",
       "  <thead>\n",
       "    <tr style=\"text-align: right;\">\n",
       "      <th></th>\n",
       "      <th>Rank</th>\n",
       "      <th>Documents</th>\n",
       "      <th>Citable documents</th>\n",
       "      <th>Citations</th>\n",
       "      <th>Self-citations</th>\n",
       "      <th>Citations per document</th>\n",
       "      <th>H index</th>\n",
       "      <th>Energy Supply</th>\n",
       "      <th>Energy Supply per Capita</th>\n",
       "      <th>% Renewable</th>\n",
       "      <th>...</th>\n",
       "      <th>2007</th>\n",
       "      <th>2008</th>\n",
       "      <th>2009</th>\n",
       "      <th>2010</th>\n",
       "      <th>2011</th>\n",
       "      <th>2012</th>\n",
       "      <th>2013</th>\n",
       "      <th>2014</th>\n",
       "      <th>2015</th>\n",
       "      <th>cite_ratio</th>\n",
       "    </tr>\n",
       "    <tr>\n",
       "      <th>Country</th>\n",
       "      <th></th>\n",
       "      <th></th>\n",
       "      <th></th>\n",
       "      <th></th>\n",
       "      <th></th>\n",
       "      <th></th>\n",
       "      <th></th>\n",
       "      <th></th>\n",
       "      <th></th>\n",
       "      <th></th>\n",
       "      <th></th>\n",
       "      <th></th>\n",
       "      <th></th>\n",
       "      <th></th>\n",
       "      <th></th>\n",
       "      <th></th>\n",
       "      <th></th>\n",
       "      <th></th>\n",
       "      <th></th>\n",
       "      <th></th>\n",
       "      <th></th>\n",
       "    </tr>\n",
       "  </thead>\n",
       "  <tbody>\n",
       "    <tr>\n",
       "      <th>China</th>\n",
       "      <td>1.0</td>\n",
       "      <td>147887.0</td>\n",
       "      <td>147512.0</td>\n",
       "      <td>856806.0</td>\n",
       "      <td>583858.0</td>\n",
       "      <td>5.79</td>\n",
       "      <td>162.0</td>\n",
       "      <td>127191000000</td>\n",
       "      <td>93</td>\n",
       "      <td>19.7549</td>\n",
       "      <td>...</td>\n",
       "      <td>3.552183e+12</td>\n",
       "      <td>4.598205e+12</td>\n",
       "      <td>5.109954e+12</td>\n",
       "      <td>6.100620e+12</td>\n",
       "      <td>7.572554e+12</td>\n",
       "      <td>8.560547e+12</td>\n",
       "      <td>9.607224e+12</td>\n",
       "      <td>1.048237e+13</td>\n",
       "      <td>1.106466e+13</td>\n",
       "      <td>0.681435</td>\n",
       "    </tr>\n",
       "  </tbody>\n",
       "</table>\n",
       "<p>1 rows × 21 columns</p>\n",
       "</div>"
      ],
      "text/plain": [
       "         Rank  Documents  Citable documents  Citations  Self-citations  \\\n",
       "Country                                                                  \n",
       "China     1.0   147887.0           147512.0   856806.0        583858.0   \n",
       "\n",
       "         Citations per document  H index Energy Supply  \\\n",
       "Country                                                  \n",
       "China                      5.79    162.0  127191000000   \n",
       "\n",
       "        Energy Supply per Capita % Renewable     ...              2007  \\\n",
       "Country                                          ...                     \n",
       "China                         93     19.7549     ...      3.552183e+12   \n",
       "\n",
       "                 2008          2009          2010          2011          2012  \\\n",
       "Country                                                                         \n",
       "China    4.598205e+12  5.109954e+12  6.100620e+12  7.572554e+12  8.560547e+12   \n",
       "\n",
       "                 2013          2014          2015  cite_ratio  \n",
       "Country                                                        \n",
       "China    9.607224e+12  1.048237e+13  1.106466e+13    0.681435  \n",
       "\n",
       "[1 rows x 21 columns]"
      ]
     },
     "execution_count": 360,
     "metadata": {},
     "output_type": "execute_result"
    }
   ],
   "source": [
    "q7"
   ]
  },
  {
   "cell_type": "markdown",
   "metadata": {},
   "source": [
    "#### Q8 \n",
    "Create a column that estimates the population using Energy Supply and Energy Supply per capita. What is the third most populous country according to this estimate?\n",
    "This function should return a single string value."
   ]
  },
  {
   "cell_type": "code",
   "execution_count": 364,
   "metadata": {},
   "outputs": [],
   "source": [
    "q8=df2.copy()\n",
    "q8['pop.est']=q8['Energy Supply']/q8['Energy Supply per Capita']\n",
    "q8=q8.where(q8['pop.est']==np.max(q8['pop.est'])).dropna()"
   ]
  },
  {
   "cell_type": "markdown",
   "metadata": {},
   "source": [
    "#### Q9\n",
    "Create a column that estimates the number of citable documents per person. What is the correlation between the number of citable documents per capita and the energy supply per capita? Use the .corr() method, (Pearson's correlation).\n",
    "This function should return a single number."
   ]
  },
  {
   "cell_type": "code",
   "execution_count": 409,
   "metadata": {},
   "outputs": [
    {
     "data": {
      "text/plain": [
       "0.79199716982784063"
      ]
     },
     "execution_count": 409,
     "metadata": {},
     "output_type": "execute_result"
    }
   ],
   "source": [
    "q9=df2.copy()\n",
    "q9['pop.est']=q9['Energy Supply']/q9['Energy Supply per Capita']\n",
    "q9['citable per capita']=q9['Citable documents']/q9['pop.est']\n",
    "q9['Energy Supply per Capita']=q9['Energy Supply per Capita'].astype('float64')\n",
    "q9['citable per capita']=q9['citable per capita'].astype('float64')\n",
    "q9['citable per capita'].corr(q9['Energy Supply per Capita'])"
   ]
  },
  {
   "cell_type": "markdown",
   "metadata": {},
   "source": [
    "#### Q10\n",
    "Create a new column with a 1 if the country's % Renewable value is at or above the median for all countries in the top 15, and a 0 if the country's % Renewable value is below the median.\n",
    "This function should return a series named HighRenew whose index is the country name sorted in ascending order of rank."
   ]
  },
  {
   "cell_type": "code",
   "execution_count": 410,
   "metadata": {
    "collapsed": true
   },
   "outputs": [],
   "source": [
    "q10=df2.copy()"
   ]
  },
  {
   "cell_type": "code",
   "execution_count": 417,
   "metadata": {},
   "outputs": [],
   "source": [
    "q10['HighRenew']=(q10['% Renewable']>np.median(df['% Renewable'])).astype('int')"
   ]
  },
  {
   "cell_type": "code",
   "execution_count": 419,
   "metadata": {},
   "outputs": [
    {
     "data": {
      "text/plain": [
       "Country\n",
       "China                 0\n",
       "United States         0\n",
       "Japan                 0\n",
       "United Kingdom        0\n",
       "India                 0\n",
       "Russian Federation    0\n",
       "Germany               0\n",
       "Canada                1\n",
       "France                0\n",
       "South Korea           0\n",
       "Italy                 1\n",
       "Spain                 1\n",
       "Iran                  0\n",
       "Australia             0\n",
       "Brazil                1\n",
       "Name: HighRenew, dtype: int32"
      ]
     },
     "execution_count": 419,
     "metadata": {},
     "output_type": "execute_result"
    }
   ],
   "source": [
    "q10['HighRenew']"
   ]
  },
  {
   "cell_type": "markdown",
   "metadata": {},
   "source": [
    "#### Q11\n",
    "Use the following dictionary to group the Countries by Continent, then create a dateframe that displays the sample size (the number of countries in each continent bin), and the sum, mean, and std deviation for the estimated population of each country.\n",
    "ContinentDict  = {'China':'Asia', \n",
    "                  'United States':'North America', \n",
    "                  'Japan':'Asia', \n",
    "                  'United Kingdom':'Europe', \n",
    "                  'Russian Federation':'Europe', \n",
    "                  'Canada':'North America', \n",
    "                  'Germany':'Europe', \n",
    "                  'India':'Asia',\n",
    "                  'France':'Europe', \n",
    "                  'South Korea':'Asia', \n",
    "                  'Italy':'Europe', \n",
    "                  'Spain':'Europe', \n",
    "                  'Iran':'Asia',\n",
    "                  'Australia':'Australia', \n",
    "                  'Brazil':'South America'}\n",
    "This function should return a DataFrame with index named Continent ['Asia', 'Australia', 'Europe', 'North America', 'South America'] and columns ['size', 'sum', 'mean', 'std']"
   ]
  },
  {
   "cell_type": "code",
   "execution_count": 464,
   "metadata": {},
   "outputs": [],
   "source": [
    "q11=df2.copy()\n",
    "q11['pop.est']=(q11['Energy Supply']/q11['Energy Supply per Capita']).astype('float64')\n",
    "ContinentDict  = {'China':'Asia', \n",
    "                  'United States':'North America', \n",
    "                  'Japan':'Asia', \n",
    "                  'United Kingdom':'Europe', \n",
    "                  'Russian Federation':'Europe', \n",
    "                  'Canada':'North America', \n",
    "                  'Germany':'Europe', \n",
    "                  'India':'Asia',\n",
    "                  'France':'Europe', \n",
    "                  'South Korea':'Asia', \n",
    "                  'Italy':'Europe', \n",
    "                  'Spain':'Europe', \n",
    "                  'Iran':'Asia',\n",
    "                  'Australia':'Australia', \n",
    "                  'Brazil':'South America'}\n",
    "a11=q11.groupby(ContinentDict).agg({'pop.est':[len,sum,np.mean,np.std]})\n",
    "a11.columns=a11.columns.droplevel()\n",
    "a11=a11.rename(columns={'len':'size'})\n",
    "a11['size']=a11['size'].astype('int')"
   ]
  },
  {
   "cell_type": "code",
   "execution_count": 465,
   "metadata": {},
   "outputs": [
    {
     "data": {
      "text/html": [
       "<div>\n",
       "<style>\n",
       "    .dataframe thead tr:only-child th {\n",
       "        text-align: right;\n",
       "    }\n",
       "\n",
       "    .dataframe thead th {\n",
       "        text-align: left;\n",
       "    }\n",
       "\n",
       "    .dataframe tbody tr th {\n",
       "        vertical-align: top;\n",
       "    }\n",
       "</style>\n",
       "<table border=\"1\" class=\"dataframe\">\n",
       "  <thead>\n",
       "    <tr style=\"text-align: right;\">\n",
       "      <th></th>\n",
       "      <th>size</th>\n",
       "      <th>sum</th>\n",
       "      <th>mean</th>\n",
       "      <th>std</th>\n",
       "    </tr>\n",
       "  </thead>\n",
       "  <tbody>\n",
       "    <tr>\n",
       "      <th>Asia</th>\n",
       "      <td>5</td>\n",
       "      <td>2.898666e+09</td>\n",
       "      <td>5.797333e+08</td>\n",
       "      <td>6.790979e+08</td>\n",
       "    </tr>\n",
       "    <tr>\n",
       "      <th>Australia</th>\n",
       "      <td>1</td>\n",
       "      <td>2.331602e+07</td>\n",
       "      <td>2.331602e+07</td>\n",
       "      <td>NaN</td>\n",
       "    </tr>\n",
       "    <tr>\n",
       "      <th>Europe</th>\n",
       "      <td>6</td>\n",
       "      <td>4.579297e+08</td>\n",
       "      <td>7.632161e+07</td>\n",
       "      <td>3.464767e+07</td>\n",
       "    </tr>\n",
       "    <tr>\n",
       "      <th>North America</th>\n",
       "      <td>2</td>\n",
       "      <td>3.528552e+08</td>\n",
       "      <td>1.764276e+08</td>\n",
       "      <td>1.996696e+08</td>\n",
       "    </tr>\n",
       "    <tr>\n",
       "      <th>South America</th>\n",
       "      <td>1</td>\n",
       "      <td>2.059153e+08</td>\n",
       "      <td>2.059153e+08</td>\n",
       "      <td>NaN</td>\n",
       "    </tr>\n",
       "  </tbody>\n",
       "</table>\n",
       "</div>"
      ],
      "text/plain": [
       "               size           sum          mean           std\n",
       "Asia              5  2.898666e+09  5.797333e+08  6.790979e+08\n",
       "Australia         1  2.331602e+07  2.331602e+07           NaN\n",
       "Europe            6  4.579297e+08  7.632161e+07  3.464767e+07\n",
       "North America     2  3.528552e+08  1.764276e+08  1.996696e+08\n",
       "South America     1  2.059153e+08  2.059153e+08           NaN"
      ]
     },
     "execution_count": 465,
     "metadata": {},
     "output_type": "execute_result"
    }
   ],
   "source": [
    "a11"
   ]
  },
  {
   "cell_type": "markdown",
   "metadata": {},
   "source": [
    " #### Q12\n",
    " Cut % Renewable into 5 bins. Group Top15 by the Continent, as well as these new % Renewable bins. How many countries are in each of these groups?\n",
    "This function should return a Series with a MultiIndex of Continent, then the bins for % Renewable. Do not include groups with no countries."
   ]
  },
  {
   "cell_type": "code",
   "execution_count": 473,
   "metadata": {},
   "outputs": [
    {
     "data": {
      "text/html": [
       "<div>\n",
       "<style>\n",
       "    .dataframe thead tr:only-child th {\n",
       "        text-align: right;\n",
       "    }\n",
       "\n",
       "    .dataframe thead th {\n",
       "        text-align: left;\n",
       "    }\n",
       "\n",
       "    .dataframe tbody tr th {\n",
       "        vertical-align: top;\n",
       "    }\n",
       "</style>\n",
       "<table border=\"1\" class=\"dataframe\">\n",
       "  <thead>\n",
       "    <tr style=\"text-align: right;\">\n",
       "      <th></th>\n",
       "      <th></th>\n",
       "      <th>% Renewable</th>\n",
       "    </tr>\n",
       "    <tr>\n",
       "      <th></th>\n",
       "      <th>% Renewable</th>\n",
       "      <th></th>\n",
       "    </tr>\n",
       "  </thead>\n",
       "  <tbody>\n",
       "    <tr>\n",
       "      <th rowspan=\"2\" valign=\"top\">Asia</th>\n",
       "      <th>(2.212, 15.753]</th>\n",
       "      <td>4</td>\n",
       "    </tr>\n",
       "    <tr>\n",
       "      <th>(15.753, 29.227]</th>\n",
       "      <td>1</td>\n",
       "    </tr>\n",
       "    <tr>\n",
       "      <th>Australia</th>\n",
       "      <th>(2.212, 15.753]</th>\n",
       "      <td>1</td>\n",
       "    </tr>\n",
       "    <tr>\n",
       "      <th rowspan=\"3\" valign=\"top\">Europe</th>\n",
       "      <th>(2.212, 15.753]</th>\n",
       "      <td>1</td>\n",
       "    </tr>\n",
       "    <tr>\n",
       "      <th>(15.753, 29.227]</th>\n",
       "      <td>3</td>\n",
       "    </tr>\n",
       "    <tr>\n",
       "      <th>(29.227, 42.701]</th>\n",
       "      <td>2</td>\n",
       "    </tr>\n",
       "    <tr>\n",
       "      <th rowspan=\"2\" valign=\"top\">North America</th>\n",
       "      <th>(2.212, 15.753]</th>\n",
       "      <td>1</td>\n",
       "    </tr>\n",
       "    <tr>\n",
       "      <th>(56.174, 69.648]</th>\n",
       "      <td>1</td>\n",
       "    </tr>\n",
       "    <tr>\n",
       "      <th>South America</th>\n",
       "      <th>(56.174, 69.648]</th>\n",
       "      <td>1</td>\n",
       "    </tr>\n",
       "  </tbody>\n",
       "</table>\n",
       "</div>"
      ],
      "text/plain": [
       "                                % Renewable\n",
       "              % Renewable                  \n",
       "Asia          (2.212, 15.753]             4\n",
       "              (15.753, 29.227]            1\n",
       "Australia     (2.212, 15.753]             1\n",
       "Europe        (2.212, 15.753]             1\n",
       "              (15.753, 29.227]            3\n",
       "              (29.227, 42.701]            2\n",
       "North America (2.212, 15.753]             1\n",
       "              (56.174, 69.648]            1\n",
       "South America (56.174, 69.648]            1"
      ]
     },
     "execution_count": 473,
     "metadata": {},
     "output_type": "execute_result"
    }
   ],
   "source": [
    "q12=df2.copy()\n",
    "q12['% Renewable']=pd.cut(q12['% Renewable'],5)\n",
    "ContinentDict  = {'China':'Asia', \n",
    "                  'United States':'North America', \n",
    "                  'Japan':'Asia', \n",
    "                  'United Kingdom':'Europe', \n",
    "                  'Russian Federation':'Europe', \n",
    "                  'Canada':'North America', \n",
    "                  'Germany':'Europe', \n",
    "                  'India':'Asia',\n",
    "                  'France':'Europe', \n",
    "                  'South Korea':'Asia', \n",
    "                  'Italy':'Europe', \n",
    "                  'Spain':'Europe', \n",
    "                  'Iran':'Asia',\n",
    "                  'Australia':'Australia', \n",
    "                  'Brazil':'South America'}\n",
    "q12.groupby([ContinentDict,'% Renewable']).agg({'% Renewable':len})"
   ]
  },
  {
   "cell_type": "markdown",
   "metadata": {},
   "source": [
    "#### Q13\n",
    "Convert the Population Estimate series to a string with thousands separator (using commas). Do not round the results.\n",
    "e.g. 317615384.61538464 -> 317,615,384.61538464\n",
    "This function should return a Series PopEst whose index is the country name and whose values are the population estimate string."
   ]
  },
  {
   "cell_type": "code",
   "execution_count": 479,
   "metadata": {},
   "outputs": [],
   "source": [
    "q13=df2.copy()\n",
    "q13['PopEst']=(q13['Energy Supply']/q13['Energy Supply per Capita']).astype('int')\n",
    "q13['PopEst'].apply(lambda x:'{0:,}'.format(x))"
   ]
  },
  {
   "cell_type": "code",
   "execution_count": 482,
   "metadata": {},
   "outputs": [
    {
     "data": {
      "text/plain": [
       "Country\n",
       "China                 1,367,645,161\n",
       "United States           317,615,384\n",
       "Japan                   127,409,395\n",
       "United Kingdom           63,870,967\n",
       "India                 1,276,730,769\n",
       "Russian Federation      143,500,000\n",
       "Germany                  80,369,696\n",
       "Canada                   35,239,864\n",
       "France                   63,837,349\n",
       "South Korea              49,805,429\n",
       "Italy                    59,908,256\n",
       "Spain                    46,443,396\n",
       "Iran                     77,075,630\n",
       "Australia                23,316,017\n",
       "Brazil                  205,915,254\n",
       "Name: PopEst, dtype: object"
      ]
     },
     "execution_count": 482,
     "metadata": {},
     "output_type": "execute_result"
    }
   ],
   "source": []
  },
  {
   "cell_type": "code",
   "execution_count": 481,
   "metadata": {},
   "outputs": [
    {
     "data": {
      "text/plain": [
       "'1,000,000'"
      ]
     },
     "execution_count": 481,
     "metadata": {},
     "output_type": "execute_result"
    }
   ],
   "source": [
    "'{0:,}'.format(1000000)"
   ]
  },
  {
   "cell_type": "code",
   "execution_count": null,
   "metadata": {
    "collapsed": true
   },
   "outputs": [],
   "source": []
  }
 ],
 "metadata": {
  "kernelspec": {
   "display_name": "Python 3",
   "language": "python",
   "name": "python3"
  },
  "language_info": {
   "codemirror_mode": {
    "name": "ipython",
    "version": 3
   },
   "file_extension": ".py",
   "mimetype": "text/x-python",
   "name": "python",
   "nbconvert_exporter": "python",
   "pygments_lexer": "ipython3",
   "version": "3.6.1"
  },
  "varInspector": {
   "cols": {
    "lenName": 16,
    "lenType": 16,
    "lenVar": 40
   },
   "kernels_config": {
    "python": {
     "delete_cmd_postfix": "",
     "delete_cmd_prefix": "del ",
     "library": "var_list.py",
     "varRefreshCmd": "print(var_dic_list())"
    },
    "r": {
     "delete_cmd_postfix": ") ",
     "delete_cmd_prefix": "rm(",
     "library": "var_list.r",
     "varRefreshCmd": "cat(var_dic_list()) "
    }
   },
   "types_to_exclude": [
    "module",
    "function",
    "builtin_function_or_method",
    "instance",
    "_Feature"
   ],
   "window_display": false
  }
 },
 "nbformat": 4,
 "nbformat_minor": 2
}
