{
 "cells": [
  {
   "cell_type": "code",
   "execution_count": 1,
   "metadata": {},
   "outputs": [],
   "source": [
    "import numpy as np\n",
    "import matplotlib.pyplot as plt\n",
    "from scipy.io import loadmat\n",
    "%matplotlib inline"
   ]
  },
  {
   "cell_type": "code",
   "execution_count": 2,
   "metadata": {
    "collapsed": true
   },
   "outputs": [],
   "source": [
    "from numpy.random import randint"
   ]
  },
  {
   "cell_type": "code",
   "execution_count": 24,
   "metadata": {
    "collapsed": true
   },
   "outputs": [],
   "source": [
    "from scipy.misc import toimage"
   ]
  },
  {
   "cell_type": "code",
   "execution_count": 3,
   "metadata": {
    "collapsed": true
   },
   "outputs": [],
   "source": [
    "from scipy.misc import imread"
   ]
  },
  {
   "cell_type": "code",
   "execution_count": 4,
   "metadata": {},
   "outputs": [],
   "source": [
    "infile1=loadmat('ex7data2.mat')"
   ]
  },
  {
   "cell_type": "code",
   "execution_count": 5,
   "metadata": {},
   "outputs": [
    {
     "data": {
      "text/plain": [
       "dict_keys(['__header__', '__version__', '__globals__', 'X'])"
      ]
     },
     "execution_count": 5,
     "metadata": {},
     "output_type": "execute_result"
    }
   ],
   "source": [
    "infile1.keys()"
   ]
  },
  {
   "cell_type": "code",
   "execution_count": 6,
   "metadata": {
    "collapsed": true
   },
   "outputs": [],
   "source": [
    "X1=infile1['X'].copy()"
   ]
  },
  {
   "cell_type": "code",
   "execution_count": 7,
   "metadata": {},
   "outputs": [],
   "source": [
    "K=3\n",
    "initial_centroids = np.array([[3,3],[6,2],[8,5]])"
   ]
  },
  {
   "cell_type": "code",
   "execution_count": 8,
   "metadata": {},
   "outputs": [
    {
     "data": {
      "text/plain": [
       "<matplotlib.collections.PathCollection at 0x1efff04cb00>"
      ]
     },
     "execution_count": 8,
     "metadata": {},
     "output_type": "execute_result"
    },
    {
     "data": {
      "image/png": "[encoded data removed]",
      "text/plain": [
       "<matplotlib.figure.Figure at 0x1effef895c0>"
      ]
     },
     "metadata": {},
     "output_type": "display_data"
    }
   ],
   "source": [
    "plt.scatter(X1[:,0],X1[:,1])"
   ]
  },
  {
   "cell_type": "code",
   "execution_count": 9,
   "metadata": {},
   "outputs": [],
   "source": [
    "def find_closest_centroid(X,centroids):\n",
    "    d_matrix=np.zeros((X.shape[0],len(centroids)))\n",
    "    for i,j in enumerate(centroids):\n",
    "        diff=X-j\n",
    "        d=np.apply_along_axis(lambda a:a[0]**2+a[1]**2,1,diff)\n",
    "        d_matrix[:,i]=d\n",
    "    idx=np.apply_along_axis(lambda a: np.argmin(a)+1,1,d_matrix)\n",
    "    return idx\n",
    "        \n",
    "    "
   ]
  },
  {
   "cell_type": "code",
   "execution_count": 10,
   "metadata": {
    "collapsed": true
   },
   "outputs": [],
   "source": [
    "def compute_centroids(X,idx):\n",
    "    idx_index=np.unique(idx)\n",
    "    centroids=np.zeros((len(idx_index),X.shape[1]))\n",
    "    for i,j in enumerate(idx_index):\n",
    "        cluster=X[idx==j]\n",
    "        centroids[i]=np.apply_along_axis(np.mean,0,cluster)\n",
    "    return centroids\n",
    "        "
   ]
  },
  {
   "cell_type": "code",
   "execution_count": 51,
   "metadata": {
    "collapsed": true
   },
   "outputs": [],
   "source": [
    "def run_Kmeans(X,initial_centroids,max_iter):\n",
    "    centroids=initial_centroids\n",
    "    for i in range(max_iter):\n",
    "        idx=find_closest_centroid(X,centroids)\n",
    "        centroids=compute_centroids(X,idx)\n",
    "        return centroids,idx"
   ]
  },
  {
   "cell_type": "code",
   "execution_count": 12,
   "metadata": {
    "collapsed": true
   },
   "outputs": [],
   "source": [
    "k_mean1=run_Kmeans(X1,initial_centroids,30)[0]"
   ]
  },
  {
   "cell_type": "code",
   "execution_count": 13,
   "metadata": {},
   "outputs": [
    {
     "data": {
      "text/plain": [
       "<matplotlib.collections.PathCollection at 0x1efff246e10>"
      ]
     },
     "execution_count": 13,
     "metadata": {},
     "output_type": "execute_result"
    },
    {
     "data": {
      "image/png": "[encoded data removed]",
      "text/plain": [
       "<matplotlib.figure.Figure at 0x1efff05f860>"
      ]
     },
     "metadata": {},
     "output_type": "display_data"
    }
   ],
   "source": [
    "plt.scatter(X1[:,0],X1[:,1])\n",
    "plt.scatter(k_mean1[:,0],k_mean1[:,1])\n",
    "plt.scatter(initial_centroids[:,0],initial_centroids[:,1])"
   ]
  },
  {
   "cell_type": "code",
   "execution_count": 14,
   "metadata": {
    "collapsed": true
   },
   "outputs": [],
   "source": [
    "def random_init(X,K):\n",
    "    rand_index=randint(0,X.shape[0],K)\n",
    "    initial_centroids=X[rand_index,:]\n",
    "    return initial_centroids"
   ]
  },
  {
   "cell_type": "code",
   "execution_count": 15,
   "metadata": {
    "collapsed": true
   },
   "outputs": [],
   "source": [
    "A=imread('bird_small.png')"
   ]
  },
  {
   "cell_type": "code",
   "execution_count": 19,
   "metadata": {},
   "outputs": [
    {
     "data": {
      "text/plain": [
       "(128, 128, 3)"
      ]
     },
     "execution_count": 19,
     "metadata": {},
     "output_type": "execute_result"
    }
   ],
   "source": [
    "A.shape"
   ]
  },
  {
   "cell_type": "code",
   "execution_count": 17,
   "metadata": {},
   "outputs": [],
   "source": [
    "B=A.reshape((A.shape[0]*A.shape[1],3))"
   ]
  },
  {
   "cell_type": "code",
   "execution_count": 18,
   "metadata": {},
   "outputs": [
    {
     "data": {
      "text/plain": [
       "(16384, 3)"
      ]
     },
     "execution_count": 18,
     "metadata": {},
     "output_type": "execute_result"
    }
   ],
   "source": [
    "B.shape"
   ]
  },
  {
   "cell_type": "code",
   "execution_count": 20,
   "metadata": {
    "collapsed": true
   },
   "outputs": [],
   "source": [
    "centroid_ini=random_init(B,16)"
   ]
  },
  {
   "cell_type": "code",
   "execution_count": 23,
   "metadata": {},
   "outputs": [
    {
     "name": "stdout",
     "output_type": "stream",
     "text": [
      "0\n",
      "1\n",
      "2\n",
      "3\n",
      "4\n",
      "5\n",
      "6\n",
      "7\n",
      "8\n",
      "9\n",
      "10\n",
      "11\n",
      "12\n",
      "13\n",
      "14\n",
      "15\n",
      "16\n",
      "17\n",
      "18\n",
      "19\n"
     ]
    }
   ],
   "source": [
    "im_centroid,im_idx=run_Kmeans(B,centroid_ini,20)"
   ]
  },
  {
   "cell_type": "code",
   "execution_count": 25,
   "metadata": {},
   "outputs": [
    {
     "data": {
      "image/png": "[encoded data removed]",
      "text/plain": [
       "<PIL.Image.Image image mode=RGB size=128x128 at 0x1EFFF305828>"
      ]
     },
     "execution_count": 25,
     "metadata": {},
     "output_type": "execute_result"
    }
   ],
   "source": [
    "toimage(A)"
   ]
  },
  {
   "cell_type": "code",
   "execution_count": 26,
   "metadata": {},
   "outputs": [
    {
     "data": {
      "text/plain": [
       "((16, 3), (16384,))"
      ]
     },
     "execution_count": 26,
     "metadata": {},
     "output_type": "execute_result"
    }
   ],
   "source": [
    "im_centroid.shape,im_idx.shape"
   ]
  },
  {
   "cell_type": "code",
   "execution_count": 27,
   "metadata": {},
   "outputs": [
    {
     "data": {
      "text/plain": [
       "array([13, 13, 13, 13, 13], dtype=int64)"
      ]
     },
     "execution_count": 27,
     "metadata": {},
     "output_type": "execute_result"
    }
   ],
   "source": [
    "im_idx[:5]"
   ]
  },
  {
   "cell_type": "code",
   "execution_count": 30,
   "metadata": {},
   "outputs": [
    {
     "data": {
      "text/plain": [
       "array([ 0,  1,  2,  3,  4,  5,  6,  7,  8,  9, 10, 11, 12, 13, 14, 15], dtype=int64)"
      ]
     },
     "execution_count": 30,
     "metadata": {},
     "output_type": "execute_result"
    }
   ],
   "source": [
    "np.unique(im_idx)-1"
   ]
  },
  {
   "cell_type": "code",
   "execution_count": 43,
   "metadata": {
    "collapsed": true
   },
   "outputs": [],
   "source": [
    "img_comp=B.copy()"
   ]
  },
  {
   "cell_type": "code",
   "execution_count": 44,
   "metadata": {},
   "outputs": [
    {
     "data": {
      "text/plain": [
       "(16384, 3)"
      ]
     },
     "execution_count": 44,
     "metadata": {},
     "output_type": "execute_result"
    }
   ],
   "source": [
    "img_comp.shape"
   ]
  },
  {
   "cell_type": "code",
   "execution_count": 45,
   "metadata": {},
   "outputs": [],
   "source": [
    "for i in range(img_comp.shape[0]):\n",
    "    img_comp[i]=im_centroid[im_idx[i]-1]"
   ]
  },
  {
   "cell_type": "code",
   "execution_count": 49,
   "metadata": {},
   "outputs": [],
   "source": [
    "img_comp=img_comp.reshape((128,128,3))"
   ]
  },
  {
   "cell_type": "code",
   "execution_count": 48,
   "metadata": {},
   "outputs": [
    {
     "data": {
      "text/plain": [
       "(16384, 3)"
      ]
     },
     "execution_count": 48,
     "metadata": {},
     "output_type": "execute_result"
    }
   ],
   "source": [
    "img_comp.shape"
   ]
  },
  {
   "cell_type": "code",
   "execution_count": 50,
   "metadata": {},
   "outputs": [
    {
     "data": {
      "image/png": "[encoded data removed]",
      "text/plain": [
       "<PIL.Image.Image image mode=RGB size=128x128 at 0x1EFFF3143C8>"
      ]
     },
     "execution_count": 50,
     "metadata": {},
     "output_type": "execute_result"
    }
   ],
   "source": [
    "toimage(img_comp)"
   ]
  },
  {
   "cell_type": "code",
   "execution_count": 52,
   "metadata": {
    "collapsed": true
   },
   "outputs": [],
   "source": [
    "infile2=loadmat('ex7data1.mat')"
   ]
  },
  {
   "cell_type": "code",
   "execution_count": 53,
   "metadata": {},
   "outputs": [
    {
     "data": {
      "text/plain": [
       "dict_keys(['__header__', '__version__', '__globals__', 'X'])"
      ]
     },
     "execution_count": 53,
     "metadata": {},
     "output_type": "execute_result"
    }
   ],
   "source": [
    "infile2.keys()"
   ]
  },
  {
   "cell_type": "code",
   "execution_count": 54,
   "metadata": {
    "collapsed": true
   },
   "outputs": [],
   "source": [
    "X2=infile2['X'].copy()"
   ]
  },
  {
   "cell_type": "code",
   "execution_count": 55,
   "metadata": {},
   "outputs": [
    {
     "data": {
      "text/plain": [
       "(50, 2)"
      ]
     },
     "execution_count": 55,
     "metadata": {},
     "output_type": "execute_result"
    }
   ],
   "source": [
    "X2.shape"
   ]
  },
  {
   "cell_type": "code",
   "execution_count": 56,
   "metadata": {},
   "outputs": [
    {
     "data": {
      "text/plain": [
       "<matplotlib.collections.PathCollection at 0x1efff3cf5f8>"
      ]
     },
     "execution_count": 56,
     "metadata": {},
     "output_type": "execute_result"
    },
    {
     "data": {
      "image/png": "[encoded data removed]",
      "text/plain": [
       "<matplotlib.figure.Figure at 0x1efff2fa9b0>"
      ]
     },
     "metadata": {},
     "output_type": "display_data"
    }
   ],
   "source": [
    "plt.scatter(X2[:,0],X2[:,1])"
   ]
  },
  {
   "cell_type": "code",
   "execution_count": 61,
   "metadata": {
    "collapsed": true
   },
   "outputs": [],
   "source": [
    "def normalize_data(X):\n",
    "    out=np.zeros_like(X)\n",
    "    for i in range(X.shape[1]):\n",
    "        out[:,i]=(X[:,i]-X[:,i].mean())/X[:,i].std()\n",
    "    return out"
   ]
  },
  {
   "cell_type": "code",
   "execution_count": 64,
   "metadata": {},
   "outputs": [],
   "source": [
    "X2_n=normalize_data(X2)"
   ]
  },
  {
   "cell_type": "code",
   "execution_count": 66,
   "metadata": {},
   "outputs": [
    {
     "data": {
      "text/plain": [
       "<matplotlib.legend.Legend at 0x1efff507d30>"
      ]
     },
     "execution_count": 66,
     "metadata": {},
     "output_type": "execute_result"
    },
    {
     "data": {
      "image/png": "[encoded data removed]",
      "text/plain": [
       "<matplotlib.figure.Figure at 0x1efff3d85f8>"
      ]
     },
     "metadata": {},
     "output_type": "display_data"
    }
   ],
   "source": [
    "plt.scatter(X2[:,0],X2[:,1],label='original')\n",
    "plt.scatter(X2_n[:,0],X2_n[:,1],label='normalized')\n",
    "plt.legend()"
   ]
  },
  {
   "cell_type": "code",
   "execution_count": 67,
   "metadata": {
    "collapsed": true
   },
   "outputs": [],
   "source": [
    "m=X2_n.shape[0]\n",
    "cov_matrix=(1/m)*(X2_n.T.dot(X2_n))"
   ]
  },
  {
   "cell_type": "code",
   "execution_count": 69,
   "metadata": {
    "collapsed": true
   },
   "outputs": [],
   "source": [
    "U,S,V=np.linalg.svd(cov_matrix)"
   ]
  },
  {
   "cell_type": "code",
   "execution_count": 70,
   "metadata": {},
   "outputs": [
    {
     "data": {
      "text/plain": [
       "array([[-0.70710678, -0.70710678],\n",
       "       [-0.70710678,  0.70710678]])"
      ]
     },
     "execution_count": 70,
     "metadata": {},
     "output_type": "execute_result"
    }
   ],
   "source": [
    "U"
   ]
  },
  {
   "cell_type": "code",
   "execution_count": 73,
   "metadata": {
    "collapsed": true
   },
   "outputs": [],
   "source": [
    "Ured=U[:,[0]]"
   ]
  },
  {
   "cell_type": "code",
   "execution_count": 81,
   "metadata": {},
   "outputs": [],
   "source": [
    "z=(Ured.T.dot(X2_n.T)).T"
   ]
  },
  {
   "cell_type": "code",
   "execution_count": 85,
   "metadata": {
    "collapsed": true
   },
   "outputs": [],
   "source": [
    "def project_data(X_norm,U,K):\n",
    "    Ured=U[:,:K]\n",
    "    z=(Ured.T.dot(X_norm.T)).T\n",
    "    return z"
   ]
  },
  {
   "cell_type": "code",
   "execution_count": 86,
   "metadata": {},
   "outputs": [
    {
     "data": {
      "text/plain": [
       "array([[ 1.49631261],\n",
       "       [-0.92218067],\n",
       "       [ 1.22439232],\n",
       "       [ 1.64386173],\n",
       "       [ 1.2732206 ],\n",
       "       [-0.97681976],\n",
       "       [ 1.26881187],\n",
       "       [-2.34148278],\n",
       "       [-0.02999141],\n",
       "       [-0.78171789],\n",
       "       [-0.6316777 ],\n",
       "       [-0.55280135],\n",
       "       [-0.0896816 ],\n",
       "       [-0.5258541 ],\n",
       "       [ 1.56415455],\n",
       "       [-1.91610366],\n",
       "       [-0.88679735],\n",
       "       [ 0.95607375],\n",
       "       [-2.32995679],\n",
       "       [-0.47793862],\n",
       "       [-2.21747195],\n",
       "       [ 0.38900633],\n",
       "       [-1.78482346],\n",
       "       [ 0.05175486],\n",
       "       [ 1.66512392],\n",
       "       [ 0.50813572],\n",
       "       [-1.23711018],\n",
       "       [-1.17198677],\n",
       "       [ 0.84221686],\n",
       "       [-0.00693174],\n",
       "       [-0.22794195],\n",
       "       [-1.51309518],\n",
       "       [ 1.33874082],\n",
       "       [-0.5925244 ],\n",
       "       [ 0.67907605],\n",
       "       [-1.35298   ],\n",
       "       [ 1.68749495],\n",
       "       [-1.39235931],\n",
       "       [ 2.55992598],\n",
       "       [-0.27850702],\n",
       "       [-0.97677692],\n",
       "       [ 0.88820006],\n",
       "       [ 1.29666127],\n",
       "       [-0.98966774],\n",
       "       [ 1.81272352],\n",
       "       [-0.27196356],\n",
       "       [ 3.19297722],\n",
       "       [ 1.21299151],\n",
       "       [ 0.36792871],\n",
       "       [-1.44264131]])"
      ]
     },
     "execution_count": 86,
     "metadata": {},
     "output_type": "execute_result"
    }
   ],
   "source": [
    "project_data(X2_n,U,1)"
   ]
  },
  {
   "cell_type": "code",
   "execution_count": 90,
   "metadata": {
    "collapsed": true
   },
   "outputs": [],
   "source": [
    "def recover_data(Z,U,K):\n",
    "    Ured=U[:,:K]\n",
    "    x_rec=(Ured.dot(Z.T)).T\n",
    "    return x_rec"
   ]
  },
  {
   "cell_type": "code",
   "execution_count": 91,
   "metadata": {},
   "outputs": [
    {
     "data": {
      "text/plain": [
       "array([[-1.05805279, -1.05805279],\n",
       "       [ 0.65208021,  0.65208021],\n",
       "       [-0.86577611, -0.86577611],\n",
       "       [-1.16238578, -1.16238578],\n",
       "       [-0.90030292, -0.90030292],\n",
       "       [ 0.69071588,  0.69071588],\n",
       "       [-0.89718548, -0.89718548],\n",
       "       [ 1.65567835,  1.65567835],\n",
       "       [ 0.02120713,  0.02120713],\n",
       "       [ 0.55275802,  0.55275802],\n",
       "       [ 0.44666359,  0.44666359],\n",
       "       [ 0.39088959,  0.39088959],\n",
       "       [ 0.06341447,  0.06341447],\n",
       "       [ 0.371835  ,  0.371835  ],\n",
       "       [-1.10602429, -1.10602429],\n",
       "       [ 1.35488989,  1.35488989],\n",
       "       [ 0.62706042,  0.62706042],\n",
       "       [-0.67604623, -0.67604623],\n",
       "       [ 1.64752825,  1.64752825],\n",
       "       [ 0.33795364,  0.33795364],\n",
       "       [ 1.56798945,  1.56798945],\n",
       "       [-0.27506901, -0.27506901],\n",
       "       [ 1.26206077,  1.26206077],\n",
       "       [-0.03659622, -0.03659622],\n",
       "       [-1.17742041, -1.17742041],\n",
       "       [-0.35930621, -0.35930621],\n",
       "       [ 0.874769  ,  0.874769  ],\n",
       "       [ 0.82871979,  0.82871979],\n",
       "       [-0.59553725, -0.59553725],\n",
       "       [ 0.00490148,  0.00490148],\n",
       "       [ 0.1611793 ,  0.1611793 ],\n",
       "       [ 1.06991986,  1.06991986],\n",
       "       [-0.94663271, -0.94663271],\n",
       "       [ 0.41897802,  0.41897802],\n",
       "       [-0.48017928, -0.48017928],\n",
       "       [ 0.95670134,  0.95670134],\n",
       "       [-1.19323912, -1.19323912],\n",
       "       [ 0.98454671,  0.98454671],\n",
       "       [-1.81014102, -1.81014102],\n",
       "       [ 0.1969342 ,  0.1969342 ],\n",
       "       [ 0.69068559,  0.69068559],\n",
       "       [-0.62805228, -0.62805228],\n",
       "       [-0.91687797, -0.91687797],\n",
       "       [ 0.69980077,  0.69980077],\n",
       "       [-1.28178909, -1.28178909],\n",
       "       [ 0.19230728,  0.19230728],\n",
       "       [-2.25777584, -2.25777584],\n",
       "       [-0.85771452, -0.85771452],\n",
       "       [-0.26016489, -0.26016489],\n",
       "       [ 1.02010145,  1.02010145]])"
      ]
     },
     "execution_count": 91,
     "metadata": {},
     "output_type": "execute_result"
    }
   ],
   "source": [
    "recover_data(z,U,1)"
   ]
  },
  {
   "cell_type": "code",
   "execution_count": 89,
   "metadata": {},
   "outputs": [
    {
     "data": {
      "text/plain": [
       "(50, 1)"
      ]
     },
     "execution_count": 89,
     "metadata": {},
     "output_type": "execute_result"
    }
   ],
   "source": [
    "z.shape"
   ]
  },
  {
   "cell_type": "code",
   "execution_count": 93,
   "metadata": {},
   "outputs": [
    {
     "data": {
      "text/plain": [
       "array([-1.05805279,  0.65208021, -0.86577611, -1.16238578, -0.90030292,\n",
       "        0.69071588, -0.89718548,  1.65567835,  0.02120713,  0.55275802,\n",
       "        0.44666359,  0.39088959,  0.06341447,  0.371835  , -1.10602429,\n",
       "        1.35488989,  0.62706042, -0.67604623,  1.64752825,  0.33795364,\n",
       "        1.56798945, -0.27506901,  1.26206077, -0.03659622, -1.17742041,\n",
       "       -0.35930621,  0.874769  ,  0.82871979, -0.59553725,  0.00490148,\n",
       "        0.1611793 ,  1.06991986, -0.94663271,  0.41897802, -0.48017928,\n",
       "        0.95670134, -1.19323912,  0.98454671, -1.81014102,  0.1969342 ,\n",
       "        0.69068559, -0.62805228, -0.91687797,  0.69980077, -1.28178909,\n",
       "        0.19230728, -2.25777584, -0.85771452, -0.26016489,  1.02010145])"
      ]
     },
     "execution_count": 93,
     "metadata": {},
     "output_type": "execute_result"
    }
   ],
   "source": [
    "np.apply_along_axis(np.mean,1,X2_n)"
   ]
  },
  {
   "cell_type": "code",
   "execution_count": null,
   "metadata": {
    "collapsed": true
   },
   "outputs": [],
   "source": []
  }
 ],
 "metadata": {
  "kernelspec": {
   "display_name": "Python 3",
   "language": "python",
   "name": "python3"
  },
  "language_info": {
   "codemirror_mode": {
    "name": "ipython",
    "version": 3
   },
   "file_extension": ".py",
   "mimetype": "text/x-python",
   "name": "python",
   "nbconvert_exporter": "python",
   "pygments_lexer": "ipython3",
   "version": "3.6.1"
  },
  "varInspector": {
   "cols": {
    "lenName": 16,
    "lenType": 16,
    "lenVar": 40
   },
   "kernels_config": {
    "python": {
     "delete_cmd_postfix": "",
     "delete_cmd_prefix": "del ",
     "library": "var_list.py",
     "varRefreshCmd": "print(var_dic_list())"
    },
    "r": {
     "delete_cmd_postfix": ") ",
     "delete_cmd_prefix": "rm(",
     "library": "var_list.r",
     "varRefreshCmd": "cat(var_dic_list()) "
    }
   },
   "types_to_exclude": [
    "module",
    "function",
    "builtin_function_or_method",
    "instance",
    "_Feature"
   ],
   "window_display": false
  }
 },
 "nbformat": 4,
 "nbformat_minor": 2
}
