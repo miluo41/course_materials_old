{
 "cells": [
  {
   "cell_type": "markdown",
   "metadata": {},
   "source": [
    "In this assignment, you'll be\n",
    "\n",
    "working with messy medical data and using regex to extract relevant infromation from the data. \n",
    "\n",
    "Each line of the `dates.txt` file corresponds to a medical note. Each note has a date that needs to be extracted, but each date is encoded in one of many formats.\n",
    "\n",
    "The goal of this assignment is to correctly identify all of the different date variants encoded in this dataset and to properly normalize and sort the dates. \n",
    "\n",
    "Here is a list of some of the variants you might encounter in this dataset:\n",
    "* 04/20/2009; 04/20/09; 4/20/09; 4/3/09\n",
    "* Mar-20-2009; Mar 20, 2009; March 20, 2009;  Mar. 20, 2009; Mar 20 2009;\n",
    "* 20 Mar 2009; 20 March 2009; 20 Mar. 2009; 20 March, 2009\n",
    "* Mar 20th, 2009; Mar 21st, 2009; Mar 22nd, 2009\n",
    "* Feb 2009; Sep 2009; Oct 2010\n",
    "* 6/2008; 12/2009\n",
    "* 2009; 2010\n",
    "\n",
    "Once you have extracted these date patterns from the text, the next step is to sort them in ascending chronological order accoring to the following rules:\n",
    "* Assume all dates in xx/xx/xx format are mm/dd/yy\n",
    "* Assume all dates where year is encoded in only two digits are years from the 1900's (e.g. 1/5/89 is January 5th, 1989)\n",
    "* If the day is missing (e.g. 9/2009), assume it is the first day of the month (e.g. September 1, 2009).\n",
    "* If the month is missing (e.g. 2010), assume it is the first of January of that year (e.g. January 1, 2010).\n",
    "\n",
    "With these rules in mind, find the correct date in each note and return a pandas Series in chronological order of the original Series' indices.\n",
    "\n",
    "For example if the original series was this:  \n",
    "    \n",
    "    0    1999\n",
    "    1    2010\n",
    "    2    1978\n",
    "    3    2015\n",
    "    4    1985\n",
    "\n",
    "Your function should return this:\n",
    "\n",
    "    0    2\n",
    "    1    4\n",
    "    2    0\n",
    "    3    1\n",
    "    4    3\n",
    "\n",
    "Your score will be calculated using [Kendall's tau](https://en.wikipedia.org/wiki/Kendall_rank_correlation_coefficient), a correlation measure for ordinal data.\n",
    "\n",
    "*This function should return a Series of length 500 and dtype int.*"
   ]
  },
  {
   "cell_type": "code",
   "execution_count": 1,
   "metadata": {
    "collapsed": true
   },
   "outputs": [],
   "source": [
    "import pandas as pd\n",
    "import numpy as np"
   ]
  },
  {
   "cell_type": "code",
   "execution_count": 2,
   "metadata": {
    "collapsed": true
   },
   "outputs": [],
   "source": [
    "with open('dates.txt','r') as infile:\n",
    "    data=infile.read()"
   ]
  },
  {
   "cell_type": "code",
   "execution_count": 12,
   "metadata": {},
   "outputs": [],
   "source": [
    "df=pd.DataFrame(data.splitlines())\n",
    "df.rename(columns={0:'entry'},inplace=True)"
   ]
  },
  {
   "cell_type": "code",
   "execution_count": 25,
   "metadata": {},
   "outputs": [
    {
     "data": {
      "text/plain": [
       "'oEnjoys animals, had a dog x 14 yrs who died in 1994 Interpersonal Interactions/ Concerns:'"
      ]
     },
     "execution_count": 25,
     "metadata": {},
     "output_type": "execute_result"
    }
   ],
   "source": [
    "df.entry.loc[477]"
   ]
  },
  {
   "cell_type": "code",
   "execution_count": 32,
   "metadata": {
    "collapsed": true
   },
   "outputs": [],
   "source": [
    "import calendar"
   ]
  },
  {
   "cell_type": "code",
   "execution_count": 35,
   "metadata": {},
   "outputs": [
    {
     "data": {
      "text/plain": [
       "'|Jan|Feb|Mar|Apr|May|Jun|Jul|Aug|Sep|Oct|Nov|Dec'"
      ]
     },
     "execution_count": 35,
     "metadata": {},
     "output_type": "execute_result"
    }
   ],
   "source": [
    "'|'.join(list(calendar.month_abbr))"
   ]
  },
  {
   "cell_type": "code",
   "execution_count": 50,
   "metadata": {},
   "outputs": [],
   "source": [
    "month_regex='|'.join(list(calendar.month_name)[1:])+'|'.join(list(calendar.month_abbr))"
   ]
  },
  {
   "cell_type": "code",
   "execution_count": 52,
   "metadata": {},
   "outputs": [
    {
     "data": {
      "text/plain": [
       "'January|February|March|April|May|June|July|August|September|October|November|December|Jan|Feb|Mar|Apr|May|Jun|Jul|Aug|Sep|Oct|Nov|Dec'"
      ]
     },
     "execution_count": 52,
     "metadata": {},
     "output_type": "execute_result"
    }
   ],
   "source": [
    "month_regex"
   ]
  },
  {
   "cell_type": "code",
   "execution_count": 247,
   "metadata": {},
   "outputs": [],
   "source": [
    "p1='(?:\\d{1,2}[-/]\\d{1,2}[-/]\\d{2,4})|'\n",
    "p2='(?:(?:'+month_regex+')\\.?,?\\s?\\d{1,2},?\\s?\\d{2,4})|'\n",
    "p3='(?:\\d{2,4}\\s?(?:'+month_regex+'),?\\s?\\d{2,4})|'\n",
    "p4='(?:(?:'+month_regex+').?,?s?\\d{2,4})|'\n",
    "p5='(?:\\d{1,2}/\\d{4})|'\n",
    "p6='(?:[^-]\\d{4}[\\.,]?)|'\n",
    "p7='(?:^\\d{4})'"
   ]
  },
  {
   "cell_type": "code",
   "execution_count": 248,
   "metadata": {},
   "outputs": [
    {
     "name": "stderr",
     "output_type": "stream",
     "text": [
      "C:\\Users\\miluo\\Anaconda3\\lib\\site-packages\\ipykernel_launcher.py:1: FutureWarning: currently extract(expand=None) means expand=False (return Index/Series/DataFrame) but in a future version of pandas this will be changed to expand=True (return DataFrame)\n",
      "  \"\"\"Entry point for launching an IPython kernel.\n"
     ]
    },
    {
     "data": {
      "text/plain": [
       "0        03/25/93\n",
       "1         6/18/85\n",
       "2          7/8/71\n",
       "3         9/27/75\n",
       "4          2/6/96\n",
       "5         7/06/79\n",
       "6         5/18/78\n",
       "7        10/24/89\n",
       "8          3/7/86\n",
       "9         4/10/71\n",
       "10        5/11/85\n",
       "11        4/09/75\n",
       "12        8/01/98\n",
       "13        1/26/72\n",
       "14      5/24/1990\n",
       "15      1/25/2011\n",
       "16        4/12/82\n",
       "17     10/13/1976\n",
       "18        4/24/98\n",
       "19        5/21/77\n",
       "20        7/21/98\n",
       "21       10/21/79\n",
       "22        3/03/90\n",
       "23        2/11/76\n",
       "24     07/25/1984\n",
       "25        4-13-82\n",
       "26        9/22/89\n",
       "27        9/02/76\n",
       "28        9/12/71\n",
       "29       10/24/86\n",
       "          ...    \n",
       "470         y1983\n",
       "471         1999.\n",
       "472         .2010\n",
       "473         (1975\n",
       "474         1972.\n",
       "475          2015\n",
       "476          1989\n",
       "477          1994\n",
       "478         (1993\n",
       "479          1996\n",
       "480         2013,\n",
       "481         y1974\n",
       "482          1990\n",
       "483          1995\n",
       "484          2004\n",
       "485         1987.\n",
       "486          1973\n",
       "487          1992\n",
       "488          1977\n",
       "489          1985\n",
       "490          2007\n",
       "491          2009\n",
       "492         1986.\n",
       "493         r1978\n",
       "494          2002\n",
       "495          1979\n",
       "496         ~2006\n",
       "497          2008\n",
       "498          2005\n",
       "499         1980,\n",
       "Name: entry, Length: 500, dtype: object"
      ]
     },
     "execution_count": 248,
     "metadata": {},
     "output_type": "execute_result"
    }
   ],
   "source": [
    "date_ser=df.entry.str.extract(r'('+p1+p2+p3+p4+p5+p6+p7+')')\n",
    "date_ser"
   ]
  },
  {
   "cell_type": "code",
   "execution_count": 250,
   "metadata": {},
   "outputs": [],
   "source": [
    "exceptions=date_ser[pd.to_datetime(date_ser,errors='coerce').isnull()].str.slice(1,5)"
   ]
  },
  {
   "cell_type": "code",
   "execution_count": 252,
   "metadata": {},
   "outputs": [
    {
     "data": {
      "text/plain": [
       "Int64Index([462, 466, 470, 472, 473, 478, 481, 493, 496], dtype='int64')"
      ]
     },
     "execution_count": 252,
     "metadata": {},
     "output_type": "execute_result"
    }
   ],
   "source": [
    "exceptions.index"
   ]
  },
  {
   "cell_type": "code",
   "execution_count": 259,
   "metadata": {},
   "outputs": [],
   "source": [
    "date_ser.loc[exceptions.index]=exceptions"
   ]
  },
  {
   "cell_type": "code",
   "execution_count": 262,
   "metadata": {},
   "outputs": [
    {
     "data": {
      "text/plain": [
       "450     1/1994\n",
       "451    12/2004\n",
       "452     3/2003\n",
       "453     7/1991\n",
       "454     7/1982\n",
       "455       1984\n",
       "456      2000.\n",
       "457       2001\n",
       "458      1982,\n",
       "459      1998.\n",
       "460       2012\n",
       "461      1991,\n",
       "462       1988\n",
       "463       2014\n",
       "464       2016\n",
       "465      1976,\n",
       "466       1981\n",
       "467       2011\n",
       "468      1997,\n",
       "469      2003.\n",
       "470       1983\n",
       "471      1999.\n",
       "472       2010\n",
       "473       1975\n",
       "474      1972.\n",
       "475       2015\n",
       "476       1989\n",
       "477       1994\n",
       "478       1993\n",
       "479       1996\n",
       "480      2013,\n",
       "481       1974\n",
       "482       1990\n",
       "483       1995\n",
       "484       2004\n",
       "485      1987.\n",
       "486       1973\n",
       "487       1992\n",
       "488       1977\n",
       "489       1985\n",
       "490       2007\n",
       "491       2009\n",
       "492      1986.\n",
       "493       1978\n",
       "494       2002\n",
       "495       1979\n",
       "496       2006\n",
       "497       2008\n",
       "498       2005\n",
       "499      1980,\n",
       "Name: entry, dtype: object"
      ]
     },
     "execution_count": 262,
     "metadata": {},
     "output_type": "execute_result"
    }
   ],
   "source": [
    "date_ser.loc[450:500]"
   ]
  },
  {
   "cell_type": "code",
   "execution_count": 263,
   "metadata": {
    "collapsed": true
   },
   "outputs": [],
   "source": [
    "df=pd.to_datetime(date_ser)"
   ]
  },
  {
   "cell_type": "code",
   "execution_count": 265,
   "metadata": {},
   "outputs": [
    {
     "data": {
      "text/plain": [
       "0   1993-03-25\n",
       "1   1985-06-18\n",
       "2   1971-07-08\n",
       "3   1975-09-27\n",
       "4   1996-02-06\n",
       "5   1979-07-06\n",
       "6   1978-05-18\n",
       "7   1989-10-24\n",
       "8   1986-03-07\n",
       "9   1971-04-10\n",
       "Name: entry, dtype: datetime64[ns]"
      ]
     },
     "execution_count": 265,
     "metadata": {},
     "output_type": "execute_result"
    }
   ],
   "source": [
    "df.iloc[:10]"
   ]
  },
  {
   "cell_type": "code",
   "execution_count": 267,
   "metadata": {},
   "outputs": [],
   "source": [
    "tmp=df.iloc[:10]"
   ]
  },
  {
   "cell_type": "code",
   "execution_count": 272,
   "metadata": {},
   "outputs": [
    {
     "data": {
      "text/plain": [
       "0   1993-03-25\n",
       "1   1985-06-18\n",
       "2   1971-07-08\n",
       "3   1975-09-27\n",
       "4   1996-02-06\n",
       "5   1979-07-06\n",
       "6   1978-05-18\n",
       "7   1989-10-24\n",
       "8   1986-03-07\n",
       "9   1971-04-10\n",
       "Name: entry, dtype: datetime64[ns]"
      ]
     },
     "execution_count": 272,
     "metadata": {},
     "output_type": "execute_result"
    }
   ],
   "source": [
    "tmp"
   ]
  },
  {
   "cell_type": "code",
   "execution_count": 274,
   "metadata": {},
   "outputs": [
    {
     "data": {
      "text/plain": [
       "9   1971-04-10\n",
       "2   1971-07-08\n",
       "3   1975-09-27\n",
       "6   1978-05-18\n",
       "5   1979-07-06\n",
       "1   1985-06-18\n",
       "8   1986-03-07\n",
       "7   1989-10-24\n",
       "0   1993-03-25\n",
       "4   1996-02-06\n",
       "Name: entry, dtype: datetime64[ns]"
      ]
     },
     "execution_count": 274,
     "metadata": {},
     "output_type": "execute_result"
    }
   ],
   "source": [
    "tmp.sort_values()"
   ]
  },
  {
   "cell_type": "code",
   "execution_count": 276,
   "metadata": {},
   "outputs": [],
   "source": [
    "ans=np.argsort(df)"
   ]
  },
  {
   "cell_type": "code",
   "execution_count": null,
   "metadata": {
    "collapsed": true
   },
   "outputs": [],
   "source": []
  }
 ],
 "metadata": {
  "kernelspec": {
   "display_name": "Python 3",
   "language": "python",
   "name": "python3"
  },
  "language_info": {
   "codemirror_mode": {
    "name": "ipython",
    "version": 3
   },
   "file_extension": ".py",
   "mimetype": "text/x-python",
   "name": "python",
   "nbconvert_exporter": "python",
   "pygments_lexer": "ipython3",
   "version": "3.6.1"
  },
  "varInspector": {
   "cols": {
    "lenName": 16,
    "lenType": 16,
    "lenVar": 40
   },
   "kernels_config": {
    "python": {
     "delete_cmd_postfix": "",
     "delete_cmd_prefix": "del ",
     "library": "var_list.py",
     "varRefreshCmd": "print(var_dic_list())"
    },
    "r": {
     "delete_cmd_postfix": ") ",
     "delete_cmd_prefix": "rm(",
     "library": "var_list.r",
     "varRefreshCmd": "cat(var_dic_list()) "
    }
   },
   "types_to_exclude": [
    "module",
    "function",
    "builtin_function_or_method",
    "instance",
    "_Feature"
   ],
   "window_display": false
  }
 },
 "nbformat": 4,
 "nbformat_minor": 2
}
