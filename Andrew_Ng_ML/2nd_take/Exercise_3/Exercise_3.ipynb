{
 "cells": [
  {
   "cell_type": "code",
   "execution_count": 3,
   "metadata": {
    "collapsed": true
   },
   "outputs": [],
   "source": [
    "import numpy as np\n",
    "import matplotlib.pyplot as plt\n",
    "from scipy.io import loadmat\n",
    "import math\n",
    "from scipy.special import expit\n",
    "from scipy.optimize import minimize\n",
    "from scipy.misc import toimage"
   ]
  },
  {
   "cell_type": "code",
   "execution_count": 4,
   "metadata": {
    "collapsed": true
   },
   "outputs": [],
   "source": [
    "infile=loadmat('ex3data1.mat')"
   ]
  },
  {
   "cell_type": "code",
   "execution_count": 5,
   "metadata": {},
   "outputs": [
    {
     "data": {
      "text/plain": [
       "dict_keys(['__header__', '__version__', '__globals__', 'X', 'y'])"
      ]
     },
     "execution_count": 5,
     "metadata": {},
     "output_type": "execute_result"
    }
   ],
   "source": [
    "infile.keys()"
   ]
  },
  {
   "cell_type": "code",
   "execution_count": 6,
   "metadata": {},
   "outputs": [
    {
     "data": {
      "text/plain": [
       "(5000, 401)"
      ]
     },
     "execution_count": 6,
     "metadata": {},
     "output_type": "execute_result"
    }
   ],
   "source": [
    "X=infile['X'].copy()\n",
    "y=infile['y'].copy()\n",
    "X=np.insert(X,0,1,axis=1)\n",
    "X.shape"
   ]
  },
  {
   "cell_type": "markdown",
   "metadata": {},
   "source": [
    "#### 1.2 Data visualization"
   ]
  },
  {
   "cell_type": "code",
   "execution_count": 7,
   "metadata": {
    "collapsed": true
   },
   "outputs": [],
   "source": [
    "idx=np.random.randint(0,5000,size=100)"
   ]
  },
  {
   "cell_type": "code",
   "execution_count": 8,
   "metadata": {},
   "outputs": [
    {
     "data": {
      "image/png": "[encoded data removed]",
      "text/plain": [
       "<PIL.Image.Image image mode=L size=20x20 at 0x15DA0ADFEF0>"
      ]
     },
     "execution_count": 8,
     "metadata": {},
     "output_type": "execute_result"
    }
   ],
   "source": [
    "toimage(X[1,1:].reshape((20,20)).T)"
   ]
  },
  {
   "cell_type": "code",
   "execution_count": 9,
   "metadata": {},
   "outputs": [
    {
     "data": {
      "image/png": "[encoded data removed]",
      "text/plain": [
       "<PIL.Image.Image image mode=L size=200x200 at 0x15DA0B8BC18>"
      ]
     },
     "execution_count": 9,
     "metadata": {},
     "output_type": "execute_result"
    }
   ],
   "source": [
    "height = 20\n",
    "width = 20\n",
    "nrow = 10\n",
    "ncol = 10\n",
    "image_mat=np.zeros((height*nrow,width*ncol))\n",
    "irow=0\n",
    "icol=0\n",
    "for i in idx:\n",
    "    toview=X[i,1:].reshape((width,height)).T\n",
    "    if icol == ncol:\n",
    "        irow+=1\n",
    "        icol=0\n",
    "    image_mat[irow*height:(irow+1)*height,icol*width:(icol+1)*width]=toview\n",
    "    icol+=1\n",
    "toimage(image_mat)"
   ]
  },
  {
   "cell_type": "code",
   "execution_count": 10,
   "metadata": {},
   "outputs": [
    {
     "data": {
      "text/plain": [
       "(0.99995460213129761, 4.5397868702434395e-05, 0.5)"
      ]
     },
     "execution_count": 10,
     "metadata": {},
     "output_type": "execute_result"
    }
   ],
   "source": [
    "def sigmoid(x):\n",
    "    return 1.0/(1.0+np.exp(-x))\n",
    "    \n",
    "sigmoid(10),sigmoid(-10),sigmoid(0)"
   ]
  },
  {
   "cell_type": "code",
   "execution_count": 11,
   "metadata": {
    "collapsed": true
   },
   "outputs": [],
   "source": [
    "def compute_cost(theta,X,y,mylambda=0):\n",
    "    \"\"\"\n",
    "    theta is a 1-d array of n dimension (reshape necessary)\n",
    "    y is a matrix of m x 1 dimension\n",
    "    X is a matrix of m*n dimension\n",
    "    \"\"\"\n",
    "    m=X.shape[0]\n",
    "    n=X.shape[1]\n",
    "    theta_v=theta.reshape((n,1))\n",
    "    theta_r=theta_v.copy()\n",
    "    theta_r[0]=0\n",
    "    hx=sigmoid(X.dot(theta_v))\n",
    "    term_1=-y.T.dot(np.nan_to_num(np.log(hx)))\n",
    "    term_2=-(1-y).T.dot(np.nan_to_num(np.log(1-hx)))\n",
    "#     Try a more numberical stable version of this implementation\n",
    "    term_reg=theta_r.T.dot(theta_r)*mylambda/(2*m)\n",
    "    J=float((term_1+term_2)/m+term_reg)\n",
    "    return J"
   ]
  },
  {
   "cell_type": "code",
   "execution_count": 12,
   "metadata": {},
   "outputs": [
    {
     "data": {
      "text/plain": [
       "160.39425758157077"
      ]
     },
     "execution_count": 12,
     "metadata": {},
     "output_type": "execute_result"
    }
   ],
   "source": [
    "theta_ini=np.zeros(X.shape[1])\n",
    "compute_cost(theta_ini,X,y,100)"
   ]
  },
  {
   "cell_type": "code",
   "execution_count": 13,
   "metadata": {
    "collapsed": true
   },
   "outputs": [],
   "source": [
    "def compute_grad(theta,X,y,mylambda=0):\n",
    "    m=X.shape[0]\n",
    "    n=X.shape[1]\n",
    "    theta_v=theta.reshape((n,1))\n",
    "    theta_r=theta_v.copy()\n",
    "    theta_r[0]=0\n",
    "    hx=sigmoid(X.dot(theta_v))\n",
    "    grad=(X.T.dot(hx-y)+mylambda*theta_r)/m\n",
    "    return grad.flatten()\n"
   ]
  },
  {
   "cell_type": "code",
   "execution_count": 14,
   "metadata": {
    "collapsed": true
   },
   "outputs": [],
   "source": [
    "def fit_theta(y,mylambda=0):\n",
    "    results=minimize(compute_cost,theta_ini,args=(X,y,mylambda),method='CG',jac=compute_grad)\n",
    "    return results.x,results.fun"
   ]
  },
  {
   "cell_type": "code",
   "execution_count": 15,
   "metadata": {},
   "outputs": [
    {
     "name": "stdout",
     "output_type": "stream",
     "text": [
      "number 1 optimization complete\n",
      "minimized cost function output 0.000\n"
     ]
    },
    {
     "name": "stderr",
     "output_type": "stream",
     "text": [
      "C:\\Users\\miluo\\Anaconda3\\lib\\site-packages\\ipykernel_launcher.py:14: RuntimeWarning: divide by zero encountered in log\n",
      "  \n"
     ]
    },
    {
     "name": "stdout",
     "output_type": "stream",
     "text": [
      "number 2 optimization complete\n",
      "minimized cost function output 0.023\n",
      "number 3 optimization complete\n",
      "minimized cost function output 0.039\n",
      "number 4 optimization complete\n",
      "minimized cost function output 0.004\n",
      "number 5 optimization complete\n",
      "minimized cost function output 0.030\n",
      "number 6 optimization complete\n",
      "minimized cost function output 0.000\n",
      "number 7 optimization complete\n",
      "minimized cost function output 0.003\n",
      "number 8 optimization complete\n",
      "minimized cost function output 0.519\n",
      "number 9 optimization complete\n",
      "minimized cost function output 0.054\n"
     ]
    },
    {
     "name": "stderr",
     "output_type": "stream",
     "text": [
      "C:\\Users\\miluo\\Anaconda3\\lib\\site-packages\\ipykernel_launcher.py:14: RuntimeWarning: divide by zero encountered in log\n",
      "  \n"
     ]
    },
    {
     "name": "stdout",
     "output_type": "stream",
     "text": [
      "number 10 optimization complete\n",
      "minimized cost function output 0.000\n",
      "Done\n"
     ]
    }
   ],
   "source": [
    "K=10\n",
    "n=X.shape[1]\n",
    "theta_matrix=np.zeros((n,K))\n",
    "for i in range(1,11):\n",
    "    y_k=(y==i).astype(int)\n",
    "    theta_i,fun_i=fit_theta(y_k,0.00)\n",
    "    theta_matrix[:,(i-1)]=theta_i\n",
    "    print('number %d optimization complete'%i)\n",
    "    print('minimized cost function output %0.3f'%fun_i)\n",
    "print('Done')"
   ]
  },
  {
   "cell_type": "code",
   "execution_count": 16,
   "metadata": {
    "collapsed": true
   },
   "outputs": [],
   "source": [
    "pred_mat=X.dot(theta_matrix)"
   ]
  },
  {
   "cell_type": "code",
   "execution_count": 17,
   "metadata": {
    "collapsed": true
   },
   "outputs": [],
   "source": [
    "def predict_handwriting(pred_mat):\n",
    "    \"\"\"\n",
    "    Take a prediction probability matrix\n",
    "    output prediction based on the most likely outcome.\n",
    "    Note that number 10 should be predicted as zero\n",
    "    \"\"\"\n",
    "    m=pred_mat.shape[0]\n",
    "    idx_max=np.apply_along_axis(np.argmax,1,pred_mat) \n",
    "    predict_array=idx_max+1\n",
    "    return predict_array.reshape((m,1))"
   ]
  },
  {
   "cell_type": "code",
   "execution_count": 18,
   "metadata": {
    "collapsed": true
   },
   "outputs": [],
   "source": [
    "pred_outcome=predict_handwriting(pred_mat)"
   ]
  },
  {
   "cell_type": "code",
   "execution_count": 19,
   "metadata": {},
   "outputs": [
    {
     "data": {
      "text/plain": [
       "0.94899999999999995"
      ]
     },
     "execution_count": 19,
     "metadata": {},
     "output_type": "execute_result"
    }
   ],
   "source": [
    "np.mean(pred_outcome==y)"
   ]
  },
  {
   "cell_type": "markdown",
   "metadata": {},
   "source": [
    "#### A handful interesting things that I've learned from the above exercise:\n",
    "#### 1. logistic (sigmoid) function is not numerically stable as the hx can easily go to zero from X.dot(theta) leading, Inf from the subsequent log term.\n",
    "#### 2. Regularization seemed to be able to fix this problem. (I am currently looking for alternative forms for sigmoid function to potentially solve this problem without resorting to setting a small lambda term. And I will update this)\n",
    "#### 3. It is always a good idea to print out the J(min) from minimizatin problem, as a easy way to detect abnormaly (in my original test the output from J is 'nan'. (Never a good sign!)\n",
    "#### 4. in a multi-class logistic regression print out J(min) by class also serves as a good starting point for error analysis. From the output above, it looks like logistic regression gives a significantly worse prediction when the number is'8'.\n",
    "#### 5. UPDATE: one easy fix to solve the numeric issue in cost function implementation is that to apply np.nan_to_num function after the log term."
   ]
  },
  {
   "cell_type": "code",
   "execution_count": 20,
   "metadata": {
    "collapsed": true
   },
   "outputs": [],
   "source": [
    "infile2=loadmat('ex3weights.mat')"
   ]
  },
  {
   "cell_type": "code",
   "execution_count": 21,
   "metadata": {},
   "outputs": [
    {
     "data": {
      "text/plain": [
       "dict_keys(['__header__', '__version__', '__globals__', 'Theta1', 'Theta2'])"
      ]
     },
     "execution_count": 21,
     "metadata": {},
     "output_type": "execute_result"
    }
   ],
   "source": [
    "infile2.keys()"
   ]
  },
  {
   "cell_type": "code",
   "execution_count": 22,
   "metadata": {
    "collapsed": true
   },
   "outputs": [],
   "source": [
    "theta1=infile2['Theta1']\n",
    "theta2=infile2['Theta2']"
   ]
  },
  {
   "cell_type": "code",
   "execution_count": 23,
   "metadata": {},
   "outputs": [
    {
     "data": {
      "text/plain": [
       "((25, 401), (10, 26))"
      ]
     },
     "execution_count": 23,
     "metadata": {},
     "output_type": "execute_result"
    }
   ],
   "source": [
    "theta1.shape,theta2.shape"
   ]
  },
  {
   "cell_type": "code",
   "execution_count": 24,
   "metadata": {},
   "outputs": [
    {
     "data": {
      "text/plain": [
       "(5000, 401)"
      ]
     },
     "execution_count": 24,
     "metadata": {},
     "output_type": "execute_result"
    }
   ],
   "source": [
    "X.shape"
   ]
  },
  {
   "cell_type": "code",
   "execution_count": 45,
   "metadata": {
    "collapsed": true
   },
   "outputs": [],
   "source": [
    "def nnprediction(X,theta1,theta2):\n",
    "    m=X.shape[0]\n",
    "    hidden=sigmoid(theta1.dot(X.T))\n",
    "    hidden=np.insert(hidden,0,1,axis=0)\n",
    "    out=sigmoid(theta2.dot(hidden)).T\n",
    "    pred=np.apply_along_axis(np.argmax,1,out)+1\n",
    "    return pred.reshape((m,1))"
   ]
  },
  {
   "cell_type": "code",
   "execution_count": 46,
   "metadata": {},
   "outputs": [],
   "source": [
    "nn_pred=nnprediction(X,theta1,theta2)"
   ]
  },
  {
   "cell_type": "code",
   "execution_count": 47,
   "metadata": {},
   "outputs": [
    {
     "data": {
      "text/plain": [
       "0.97519999999999996"
      ]
     },
     "execution_count": 47,
     "metadata": {},
     "output_type": "execute_result"
    }
   ],
   "source": [
    "np.mean(nn_pred==y)"
   ]
  }
 ],
 "metadata": {
  "kernelspec": {
   "display_name": "Python 3",
   "language": "python",
   "name": "python3"
  },
  "language_info": {
   "codemirror_mode": {
    "name": "ipython",
    "version": 3
   },
   "file_extension": ".py",
   "mimetype": "text/x-python",
   "name": "python",
   "nbconvert_exporter": "python",
   "pygments_lexer": "ipython3",
   "version": "3.6.1"
  },
  "varInspector": {
   "cols": {
    "lenName": 16,
    "lenType": 16,
    "lenVar": 40
   },
   "kernels_config": {
    "python": {
     "delete_cmd_postfix": "",
     "delete_cmd_prefix": "del ",
     "library": "var_list.py",
     "varRefreshCmd": "print(var_dic_list())"
    },
    "r": {
     "delete_cmd_postfix": ") ",
     "delete_cmd_prefix": "rm(",
     "library": "var_list.r",
     "varRefreshCmd": "cat(var_dic_list()) "
    }
   },
   "types_to_exclude": [
    "module",
    "function",
    "builtin_function_or_method",
    "instance",
    "_Feature"
   ],
   "window_display": false
  }
 },
 "nbformat": 4,
 "nbformat_minor": 2
}
