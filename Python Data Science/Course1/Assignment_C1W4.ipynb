{
 "cells": [
  {
   "cell_type": "markdown",
   "metadata": {},
   "source": [
    "---\n",
    "\n",
    "_You are currently looking at **version 1.1** of this notebook. To download notebooks and datafiles, as well as get help on Jupyter notebooks in the Coursera platform, visit the [Jupyter Notebook FAQ](https://www.coursera.org/learn/python-data-analysis/resources/0dhYG) course resource._\n",
    "\n",
    "---"
   ]
  },
  {
   "cell_type": "code",
   "execution_count": 1,
   "metadata": {
    "collapsed": true
   },
   "outputs": [],
   "source": [
    "import pandas as pd\n",
    "import numpy as np\n",
    "from scipy.stats import ttest_ind"
   ]
  },
  {
   "cell_type": "markdown",
   "metadata": {},
   "source": [
    "# Assignment 4 - Hypothesis Testing\n",
    "This assignment requires more individual learning than previous assignments - you are encouraged to check out the [pandas documentation](http://pandas.pydata.org/pandas-docs/stable/) to find functions or methods you might not have used yet, or ask questions on [Stack Overflow](http://stackoverflow.com/) and tag them as pandas and python related. And of course, the discussion forums are open for interaction with your peers and the course staff.\n",
    "\n",
    "Definitions:\n",
    "* A _quarter_ is a specific three month period, Q1 is January through March, Q2 is April through June, Q3 is July through September, Q4 is October through December.\n",
    "* A _recession_ is defined as starting with two consecutive quarters of GDP decline, and ending with two consecutive quarters of GDP growth.\n",
    "* A _recession bottom_ is the quarter within a recession which had the lowest GDP.\n",
    "* A _university town_ is a city which has a high percentage of university students compared to the total population of the city.\n",
    "\n",
    "**Hypothesis**: University towns have their mean housing prices less effected by recessions. Run a t-test to compare the ratio of the mean price of houses in university towns the quarter before the recession starts compared to the recession bottom. (`price_ratio=quarter_before_recession/recession_bottom`)\n",
    "\n",
    "The following data files are available for this assignment:\n",
    "* From the [Zillow research data site](http://www.zillow.com/research/data/) there is housing data for the United States. In particular the datafile for [all homes at a city level](http://files.zillowstatic.com/research/public/City/City_Zhvi_AllHomes.csv), ```City_Zhvi_AllHomes.csv```, has median home sale prices at a fine grained level.\n",
    "* From the Wikipedia page on college towns is a list of [university towns in the United States](https://en.wikipedia.org/wiki/List_of_college_towns#College_towns_in_the_United_States) which has been copy and pasted into the file ```university_towns.txt```.\n",
    "* From Bureau of Economic Analysis, US Department of Commerce, the [GDP over time](http://www.bea.gov/national/index.htm#gdp) of the United States in current dollars (use the chained value in 2009 dollars), in quarterly intervals, in the file ```gdplev.xls```. For this assignment, only look at GDP data from the first quarter of 2000 onward.\n",
    "\n",
    "Each function in this assignment below is worth 10%, with the exception of ```run_ttest()```, which is worth 50%."
   ]
  },
  {
   "cell_type": "code",
   "execution_count": 2,
   "metadata": {
    "collapsed": false
   },
   "outputs": [],
   "source": [
    "# Use this dictionary to map state names to two letter acronyms\n",
    "states = {'OH': 'Ohio', 'KY': 'Kentucky', 'AS': 'American Samoa', 'NV': 'Nevada', 'WY': 'Wyoming', 'NA': 'National', 'AL': 'Alabama', 'MD': 'Maryland', 'AK': 'Alaska', 'UT': 'Utah', 'OR': 'Oregon', 'MT': 'Montana', 'IL': 'Illinois', 'TN': 'Tennessee', 'DC': 'District of Columbia', 'VT': 'Vermont', 'ID': 'Idaho', 'AR': 'Arkansas', 'ME': 'Maine', 'WA': 'Washington', 'HI': 'Hawaii', 'WI': 'Wisconsin', 'MI': 'Michigan', 'IN': 'Indiana', 'NJ': 'New Jersey', 'AZ': 'Arizona', 'GU': 'Guam', 'MS': 'Mississippi', 'PR': 'Puerto Rico', 'NC': 'North Carolina', 'TX': 'Texas', 'SD': 'South Dakota', 'MP': 'Northern Mariana Islands', 'IA': 'Iowa', 'MO': 'Missouri', 'CT': 'Connecticut', 'WV': 'West Virginia', 'SC': 'South Carolina', 'LA': 'Louisiana', 'KS': 'Kansas', 'NY': 'New York', 'NE': 'Nebraska', 'OK': 'Oklahoma', 'FL': 'Florida', 'CA': 'California', 'CO': 'Colorado', 'PA': 'Pennsylvania', 'DE': 'Delaware', 'NM': 'New Mexico', 'RI': 'Rhode Island', 'MN': 'Minnesota', 'VI': 'Virgin Islands', 'NH': 'New Hampshire', 'MA': 'Massachusetts', 'GA': 'Georgia', 'ND': 'North Dakota', 'VA': 'Virginia'}"
   ]
  },
  {
   "cell_type": "code",
   "execution_count": 24,
   "metadata": {
    "collapsed": false
   },
   "outputs": [],
   "source": [
    "# housing=pd.read_csv('City_Zhvi_AllHomes.csv')\n",
    "# housing['State'].replace(states,inplace=True)\n",
    "# housing_trans=housing.T\n",
    "# housing_trans=housing_trans.loc['2000-01':]\n",
    "\n",
    "# housing_trans.index=pd.to_datetime(housing_trans.index)\n",
    "# resample=housing_trans.resample('Q')\n",
    "# resample=resample.apply(np.mean,axis=0)\n",
    "# resample=resample.applymap(np.around)\n",
    "# year=pd.Series(resample.index.year.astype('str'))+'q'\n",
    "# resample.index=year.str.cat(resample.index.quarter.astype('str'))\n",
    "# resample=resample.T\n",
    "# resample['RegionName']=housing['RegionName']\n",
    "# resample['State']=housing['State']\n",
    "# resample.set_index(['State','RegionName'])"
   ]
  },
  {
   "cell_type": "code",
   "execution_count": 11,
   "metadata": {
    "collapsed": false
   },
   "outputs": [],
   "source": [
    "# university_df=get_list_of_university_towns()\n",
    "# housing_df=convert_housing_data_to_quarters()\n",
    "# tmp=university_df.set_index(['State','Region Name'])\n",
    "# university_housing=housing_df[housing_df.index.isin(tmp.index)]\n",
    "# nonuniversity_housing=housing_df[~housing_df.index.isin(tmp.index)]\n",
    "# start=get_recession_start()\n",
    "# bottom=get_recession_bottom()\n",
    "# if results.pvalue<0.01:\n",
    "#     different=True\n",
    "# else:\n",
    "#     different=False\n",
    "# if university_housing['diff'].mean()<nonuniversity_housing['diff'].mean():\n",
    "#     better='university town'\n",
    "# else:\n",
    "#     better='nonuniversity town'\n"
   ]
  },
  {
   "cell_type": "code",
   "execution_count": 3,
   "metadata": {
    "collapsed": false
   },
   "outputs": [],
   "source": [
    "def get_list_of_university_towns():\n",
    "    '''Returns a DataFrame of towns and the states they are in from the \n",
    "    university_towns.txt list. The format of the DataFrame should be:\n",
    "    DataFrame( [ [\"Michigan\", \"Ann Arbor\"], [\"Michigan\", \"Yipsilanti\"] ], \n",
    "    columns=[\"State\", \"RegionName\"]  )\n",
    "    \n",
    "    The following cleaning needs to be done:\n",
    "\n",
    "    1. For \"State\", removing characters from \"[\" to the end.\n",
    "    2. For \"RegionName\", when applicable, removing every character from \" (\" to the end.\n",
    "    3. Depending on how you read the data, you may need to remove newline character '\\n'. '''\n",
    "    df1=pd.read_table('university_towns.txt',header=None)\n",
    "    state_df=df1[df1.iloc[:,0].str.contains('edit')]\n",
    "    state_df=state_df.iloc[:,0].str.replace('\\[.*\\]','')\n",
    "    town_df=df1[np.logical_not(df1.iloc[:,0].str.contains('edit'))]\n",
    "    town_df=town_df.iloc[:,0].str.replace('\\s\\(.*','')\n",
    "    diff_array=np.append(np.diff(state_df.index),[np.Inf])\n",
    "    outlist=[]\n",
    "    for i,j in zip(state_df.index,diff_array):\n",
    "        for k in town_df.index:\n",
    "            if i<k and i+j>k:\n",
    "                outlist.append([state_df[i],town_df[k]])\n",
    "            \n",
    "    ans=pd.DataFrame(outlist).rename(columns={0:'State',1:'RegionName'})\n",
    "    return ans"
   ]
  },
  {
   "cell_type": "code",
   "execution_count": 4,
   "metadata": {
    "collapsed": false
   },
   "outputs": [],
   "source": [
    "def get_recession_start():\n",
    "    '''Returns the year and quarter of the recession start time as a \n",
    "    string value in a format such as 2005q3'''\n",
    "    df=pd.read_excel('gdplev.xls',skiprows=7).iloc[:,[4,6]].rename(columns={'Unnamed: 4':'quarter',\n",
    "                                                                         'Unnamed: 6':'GDP in current dollar'})\n",
    "    df=df[df['quarter'].str.slice(0,4).astype('int')>=2000]\n",
    "    df['change']=df.iloc[:,1].diff()\n",
    "    neg_q=df[df['change']<0].index\n",
    "    neg_q=np.append(neg_q,np.Inf).astype('int')\n",
    "    out2=[]\n",
    "    out=[]\n",
    "    tmp=[]\n",
    "    n=1\n",
    "    for i in range(len(neg_q)-1):\n",
    "        tmp.append(neg_q[i])\n",
    "        if neg_q[i+1]-neg_q[i]<=1:\n",
    "            None\n",
    "        else:\n",
    "            out.append(tmp)\n",
    "            tmp=[]\n",
    "    for i in out:\n",
    "        if len(i)>=2:\n",
    "            out2.append(i)\n",
    "    start=out2[0][0]\n",
    "    \n",
    "    return df.loc[start][0]\n"
   ]
  },
  {
   "cell_type": "code",
   "execution_count": 5,
   "metadata": {
    "collapsed": false
   },
   "outputs": [],
   "source": [
    "def get_recession_end():\n",
    "    '''Returns the year and quarter of the recession end time as a \n",
    "    string value in a format such as 2005q3'''\n",
    "    df=pd.read_excel('gdplev.xls',skiprows=7).iloc[:,[4,6]].rename(columns={'Unnamed: 4':'quarter',\n",
    "                                                                     'Unnamed: 6':'GDP in current dollar'})\n",
    "    df=df[df['quarter'].str.slice(0,4).astype('int')>=2000]\n",
    "    df['change']=df.iloc[:,1].diff()\n",
    "    recession_ind=(df[df['quarter']==get_recession_start()].index)[0]\n",
    "    df_after=df[df.index>recession_ind]\n",
    "    for i in range(1,len(df_after)):\n",
    "        if df_after.iloc[i,2]>0 and df_after.iloc[i-1,2]>0:\n",
    "            end=df_after.iloc[i,0]\n",
    "            break\n",
    "    return end\n"
   ]
  },
  {
   "cell_type": "code",
   "execution_count": 6,
   "metadata": {
    "collapsed": false
   },
   "outputs": [],
   "source": [
    "def get_recession_bottom():\n",
    "    '''Returns the year and quarter of the recession bottom time as a \n",
    "    string value in a format such as 2005q3'''\n",
    "\n",
    "    df=pd.read_excel('gdplev.xls',skiprows=7).iloc[:,[4,6]].rename(columns={'Unnamed: 4':'quarter',\n",
    "                                                                         'Unnamed: 6':'GDP in current dollar'})\n",
    "    df=df[df['quarter'].str.slice(0,4).astype('int')>=2000]\n",
    "    df['change']=df.iloc[:,1].diff()\n",
    "    end=get_recession_end()\n",
    "    start_ind=(df[df['quarter']==get_recession_start()].index)[0]\n",
    "    end_ind=(df[df['quarter']==end].index)[0]\n",
    "    recession=df[np.logical_and(df.index>=start_ind,df.index<=end_ind)]\n",
    "    bottom=recession.loc[recession['GDP in current dollar'].argmin()][0]\n",
    "    return bottom\n"
   ]
  },
  {
   "cell_type": "code",
   "execution_count": 7,
   "metadata": {
    "collapsed": false
   },
   "outputs": [],
   "source": [
    "def convert_housing_data_to_quarters():\n",
    "    '''Converts the housing data to quarters and returns it as mean \n",
    "    values in a dataframe. This dataframe should be a dataframe with\n",
    "    columns for 2000q1 through 2016q3, and should have a multi-index\n",
    "    in the shape of [\"State\",\"RegionName\"].\n",
    "    \n",
    "    Note: Quarters are defined in the assignment description, they are\n",
    "    not arbitrary three month periods.\n",
    "    \n",
    "    The resulting dataframe should have 67 columns, and 10,730 rows.\n",
    "    '''\n",
    "    housing=pd.read_csv('City_Zhvi_AllHomes.csv')\n",
    "    housing['State'].replace(states,inplace=True)\n",
    "    housing_trans=housing.T\n",
    "    housing_trans=housing_trans.loc['2000-01':]\n",
    "\n",
    "    housing_trans.index=pd.to_datetime(housing_trans.index)\n",
    "    resample=housing_trans.resample('Q')\n",
    "    resample=resample.apply(np.mean,axis=0)\n",
    "    resample=resample.applymap(np.around)\n",
    "    year=pd.Series(resample.index.year.astype('str'))+'q'\n",
    "    resample.index=year.str.cat(resample.index.quarter.astype('str'))\n",
    "    resample=resample.T\n",
    "    resample['RegionName']=housing['RegionName']\n",
    "    resample['State']=housing['State']\n",
    "    ans=resample.set_index(['State','RegionName'])\n",
    "    return ans\n"
   ]
  },
  {
   "cell_type": "code",
   "execution_count": 8,
   "metadata": {
    "collapsed": false
   },
   "outputs": [],
   "source": [
    "def run_ttest():\n",
    "    '''First creates new data showing the decline or growth of housing prices\n",
    "    between the recession start and the recession bottom. Then runs a ttest\n",
    "    comparing the university town values to the non-university towns values, \n",
    "    return whether the alternative hypothesis (that the two groups are the same)\n",
    "    is true or not as well as the p-value of the confidence. \n",
    "    \n",
    "    Return the tuple (different, p, better) where different=True if the t-test is\n",
    "    True at a p<0.01 (we reject the null hypothesis), or different=False if \n",
    "    otherwise (we cannot reject the null hypothesis). The variable p should\n",
    "    be equal to the exact p value returned from scipy.stats.ttest_ind(). The\n",
    "    value for better should be either \"university town\" or \"non-university town\"\n",
    "    depending on which has a lower mean price ratio (which is equivilent to a\n",
    "    reduced market loss).'''\n",
    "    \n",
    "    university_df=get_list_of_university_towns()\n",
    "    housing_df=convert_housing_data_to_quarters()\n",
    "    tmp=university_df.set_index(['State','RegionName'])\n",
    "\n",
    "    university_housing=housing_df[housing_df.index.isin(tmp.index)]\n",
    "    nonuniversity_housing=housing_df[~housing_df.index.isin(tmp.index)]\n",
    "    start=get_recession_start()\n",
    "    bottom=get_recession_bottom()\n",
    "    university_housing['ratio']=np.divide(university_housing[bottom],university_housing[start])\n",
    "    nonuniversity_housing['ratio']=np.divide(nonuniversity_housing[bottom],nonuniversity_housing[start])\n",
    "    results=ttest_ind(university_housing['ratio'],nonuniversity_housing['ratio'],nan_policy='omit')\n",
    "    if results.pvalue<0.01:\n",
    "        different=True\n",
    "    else:\n",
    "        different=False\n",
    "    if university_housing['ratio'].mean()>nonuniversity_housing['ratio'].mean():\n",
    "        better='university town'\n",
    "    else:\n",
    "        better='nonuniversity town'\n",
    "    ans=(different,results.pvalue,better)\n",
    "    \n",
    "    return ans"
   ]
  }
 ],
 "metadata": {
  "coursera": {
   "course_slug": "python-data-analysis",
   "graded_item_id": "Il9Fx",
   "launcher_item_id": "TeDW0",
   "part_id": "WGlun"
  },
  "kernelspec": {
   "display_name": "Python 3",
   "language": "python",
   "name": "python3"
  },
  "language_info": {
   "codemirror_mode": {
    "name": "ipython",
    "version": 3
   },
   "file_extension": ".py",
   "mimetype": "text/x-python",
   "name": "python",
   "nbconvert_exporter": "python",
   "pygments_lexer": "ipython3",
   "version": "3.5.2"
  }
 },
 "nbformat": 4,
 "nbformat_minor": 0
}
