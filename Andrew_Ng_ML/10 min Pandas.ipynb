{
 "cells": [
  {
   "cell_type": "code",
   "execution_count": 1,
   "metadata": {
    "collapsed": true
   },
   "outputs": [],
   "source": [
    "import pandas as pd\n",
    "import numpy as np\n",
    "import matplotlib.pyplot as plt"
   ]
  },
  {
   "cell_type": "code",
   "execution_count": 2,
   "metadata": {
    "collapsed": true
   },
   "outputs": [],
   "source": [
    "s=pd.Series([1,3,5,np.nan,6,8])"
   ]
  },
  {
   "cell_type": "code",
   "execution_count": 3,
   "metadata": {
    "collapsed": false
   },
   "outputs": [
    {
     "data": {
      "text/plain": [
       "0    1.0\n",
       "1    3.0\n",
       "2    5.0\n",
       "3    NaN\n",
       "4    6.0\n",
       "5    8.0\n",
       "dtype: float64"
      ]
     },
     "execution_count": 3,
     "metadata": {},
     "output_type": "execute_result"
    }
   ],
   "source": [
    "s"
   ]
  },
  {
   "cell_type": "code",
   "execution_count": 5,
   "metadata": {
    "collapsed": false
   },
   "outputs": [],
   "source": [
    "dates=pd.date_range('20130101',periods=6)"
   ]
  },
  {
   "cell_type": "code",
   "execution_count": 6,
   "metadata": {
    "collapsed": false
   },
   "outputs": [
    {
     "data": {
      "text/plain": [
       "DatetimeIndex(['2013-01-01', '2013-01-02', '2013-01-03', '2013-01-04',\n",
       "               '2013-01-05', '2013-01-06'],\n",
       "              dtype='datetime64[ns]', freq='D')"
      ]
     },
     "execution_count": 6,
     "metadata": {},
     "output_type": "execute_result"
    }
   ],
   "source": [
    "dates"
   ]
  },
  {
   "cell_type": "code",
   "execution_count": 7,
   "metadata": {
    "collapsed": true
   },
   "outputs": [],
   "source": [
    "df=pd.DataFrame(np.random.randn(6,4),index=dates,columns=list('ABCD'))"
   ]
  },
  {
   "cell_type": "code",
   "execution_count": 8,
   "metadata": {
    "collapsed": false
   },
   "outputs": [
    {
     "data": {
      "text/html": [
       "<div>\n",
       "<table border=\"1\" class=\"dataframe\">\n",
       "  <thead>\n",
       "    <tr style=\"text-align: right;\">\n",
       "      <th></th>\n",
       "      <th>A</th>\n",
       "      <th>B</th>\n",
       "      <th>C</th>\n",
       "      <th>D</th>\n",
       "    </tr>\n",
       "  </thead>\n",
       "  <tbody>\n",
       "    <tr>\n",
       "      <th>2013-01-01</th>\n",
       "      <td>0.776817</td>\n",
       "      <td>0.711115</td>\n",
       "      <td>-0.301445</td>\n",
       "      <td>1.093052</td>\n",
       "    </tr>\n",
       "    <tr>\n",
       "      <th>2013-01-02</th>\n",
       "      <td>-0.888552</td>\n",
       "      <td>-1.156323</td>\n",
       "      <td>0.707345</td>\n",
       "      <td>1.806901</td>\n",
       "    </tr>\n",
       "    <tr>\n",
       "      <th>2013-01-03</th>\n",
       "      <td>0.145842</td>\n",
       "      <td>1.415263</td>\n",
       "      <td>-1.316799</td>\n",
       "      <td>-1.012582</td>\n",
       "    </tr>\n",
       "    <tr>\n",
       "      <th>2013-01-04</th>\n",
       "      <td>-0.253842</td>\n",
       "      <td>0.717310</td>\n",
       "      <td>-0.055747</td>\n",
       "      <td>1.370508</td>\n",
       "    </tr>\n",
       "    <tr>\n",
       "      <th>2013-01-05</th>\n",
       "      <td>0.450011</td>\n",
       "      <td>-0.595195</td>\n",
       "      <td>-1.245341</td>\n",
       "      <td>0.070871</td>\n",
       "    </tr>\n",
       "    <tr>\n",
       "      <th>2013-01-06</th>\n",
       "      <td>-0.610481</td>\n",
       "      <td>-1.037584</td>\n",
       "      <td>0.153704</td>\n",
       "      <td>-0.096396</td>\n",
       "    </tr>\n",
       "  </tbody>\n",
       "</table>\n",
       "</div>"
      ],
      "text/plain": [
       "                   A         B         C         D\n",
       "2013-01-01  0.776817  0.711115 -0.301445  1.093052\n",
       "2013-01-02 -0.888552 -1.156323  0.707345  1.806901\n",
       "2013-01-03  0.145842  1.415263 -1.316799 -1.012582\n",
       "2013-01-04 -0.253842  0.717310 -0.055747  1.370508\n",
       "2013-01-05  0.450011 -0.595195 -1.245341  0.070871\n",
       "2013-01-06 -0.610481 -1.037584  0.153704 -0.096396"
      ]
     },
     "execution_count": 8,
     "metadata": {},
     "output_type": "execute_result"
    }
   ],
   "source": [
    "df"
   ]
  },
  {
   "cell_type": "code",
   "execution_count": 9,
   "metadata": {
    "collapsed": false
   },
   "outputs": [
    {
     "data": {
      "text/html": [
       "<div>\n",
       "<table border=\"1\" class=\"dataframe\">\n",
       "  <thead>\n",
       "    <tr style=\"text-align: right;\">\n",
       "      <th></th>\n",
       "      <th>A</th>\n",
       "      <th>B</th>\n",
       "      <th>C</th>\n",
       "      <th>D</th>\n",
       "    </tr>\n",
       "  </thead>\n",
       "  <tbody>\n",
       "    <tr>\n",
       "      <th>2013-01-01</th>\n",
       "      <td>0.776817</td>\n",
       "      <td>0.711115</td>\n",
       "      <td>-0.301445</td>\n",
       "      <td>1.093052</td>\n",
       "    </tr>\n",
       "    <tr>\n",
       "      <th>2013-01-02</th>\n",
       "      <td>-0.888552</td>\n",
       "      <td>-1.156323</td>\n",
       "      <td>0.707345</td>\n",
       "      <td>1.806901</td>\n",
       "    </tr>\n",
       "    <tr>\n",
       "      <th>2013-01-03</th>\n",
       "      <td>0.145842</td>\n",
       "      <td>1.415263</td>\n",
       "      <td>-1.316799</td>\n",
       "      <td>-1.012582</td>\n",
       "    </tr>\n",
       "    <tr>\n",
       "      <th>2013-01-04</th>\n",
       "      <td>-0.253842</td>\n",
       "      <td>0.717310</td>\n",
       "      <td>-0.055747</td>\n",
       "      <td>1.370508</td>\n",
       "    </tr>\n",
       "    <tr>\n",
       "      <th>2013-01-05</th>\n",
       "      <td>0.450011</td>\n",
       "      <td>-0.595195</td>\n",
       "      <td>-1.245341</td>\n",
       "      <td>0.070871</td>\n",
       "    </tr>\n",
       "  </tbody>\n",
       "</table>\n",
       "</div>"
      ],
      "text/plain": [
       "                   A         B         C         D\n",
       "2013-01-01  0.776817  0.711115 -0.301445  1.093052\n",
       "2013-01-02 -0.888552 -1.156323  0.707345  1.806901\n",
       "2013-01-03  0.145842  1.415263 -1.316799 -1.012582\n",
       "2013-01-04 -0.253842  0.717310 -0.055747  1.370508\n",
       "2013-01-05  0.450011 -0.595195 -1.245341  0.070871"
      ]
     },
     "execution_count": 9,
     "metadata": {},
     "output_type": "execute_result"
    }
   ],
   "source": [
    "df.head()"
   ]
  },
  {
   "cell_type": "code",
   "execution_count": 10,
   "metadata": {
    "collapsed": false
   },
   "outputs": [
    {
     "data": {
      "text/plain": [
       "DatetimeIndex(['2013-01-01', '2013-01-02', '2013-01-03', '2013-01-04',\n",
       "               '2013-01-05', '2013-01-06'],\n",
       "              dtype='datetime64[ns]', freq='D')"
      ]
     },
     "execution_count": 10,
     "metadata": {},
     "output_type": "execute_result"
    }
   ],
   "source": [
    "df.index"
   ]
  },
  {
   "cell_type": "code",
   "execution_count": 11,
   "metadata": {
    "collapsed": false
   },
   "outputs": [
    {
     "data": {
      "text/plain": [
       "Index(['A', 'B', 'C', 'D'], dtype='object')"
      ]
     },
     "execution_count": 11,
     "metadata": {},
     "output_type": "execute_result"
    }
   ],
   "source": [
    "df.columns"
   ]
  },
  {
   "cell_type": "code",
   "execution_count": 12,
   "metadata": {
    "collapsed": false
   },
   "outputs": [
    {
     "data": {
      "text/html": [
       "<div>\n",
       "<table border=\"1\" class=\"dataframe\">\n",
       "  <thead>\n",
       "    <tr style=\"text-align: right;\">\n",
       "      <th></th>\n",
       "      <th>A</th>\n",
       "      <th>B</th>\n",
       "      <th>C</th>\n",
       "      <th>D</th>\n",
       "    </tr>\n",
       "  </thead>\n",
       "  <tbody>\n",
       "    <tr>\n",
       "      <th>count</th>\n",
       "      <td>6.000000</td>\n",
       "      <td>6.000000</td>\n",
       "      <td>6.000000</td>\n",
       "      <td>6.000000</td>\n",
       "    </tr>\n",
       "    <tr>\n",
       "      <th>mean</th>\n",
       "      <td>-0.063368</td>\n",
       "      <td>0.009098</td>\n",
       "      <td>-0.343047</td>\n",
       "      <td>0.538726</td>\n",
       "    </tr>\n",
       "    <tr>\n",
       "      <th>std</th>\n",
       "      <td>0.637147</td>\n",
       "      <td>1.076161</td>\n",
       "      <td>0.799585</td>\n",
       "      <td>1.061718</td>\n",
       "    </tr>\n",
       "    <tr>\n",
       "      <th>min</th>\n",
       "      <td>-0.888552</td>\n",
       "      <td>-1.156323</td>\n",
       "      <td>-1.316799</td>\n",
       "      <td>-1.012582</td>\n",
       "    </tr>\n",
       "    <tr>\n",
       "      <th>25%</th>\n",
       "      <td>-0.521321</td>\n",
       "      <td>-0.926986</td>\n",
       "      <td>-1.009367</td>\n",
       "      <td>-0.054579</td>\n",
       "    </tr>\n",
       "    <tr>\n",
       "      <th>50%</th>\n",
       "      <td>-0.054000</td>\n",
       "      <td>0.057960</td>\n",
       "      <td>-0.178596</td>\n",
       "      <td>0.581962</td>\n",
       "    </tr>\n",
       "    <tr>\n",
       "      <th>75%</th>\n",
       "      <td>0.373969</td>\n",
       "      <td>0.715761</td>\n",
       "      <td>0.101341</td>\n",
       "      <td>1.301144</td>\n",
       "    </tr>\n",
       "    <tr>\n",
       "      <th>max</th>\n",
       "      <td>0.776817</td>\n",
       "      <td>1.415263</td>\n",
       "      <td>0.707345</td>\n",
       "      <td>1.806901</td>\n",
       "    </tr>\n",
       "  </tbody>\n",
       "</table>\n",
       "</div>"
      ],
      "text/plain": [
       "              A         B         C         D\n",
       "count  6.000000  6.000000  6.000000  6.000000\n",
       "mean  -0.063368  0.009098 -0.343047  0.538726\n",
       "std    0.637147  1.076161  0.799585  1.061718\n",
       "min   -0.888552 -1.156323 -1.316799 -1.012582\n",
       "25%   -0.521321 -0.926986 -1.009367 -0.054579\n",
       "50%   -0.054000  0.057960 -0.178596  0.581962\n",
       "75%    0.373969  0.715761  0.101341  1.301144\n",
       "max    0.776817  1.415263  0.707345  1.806901"
      ]
     },
     "execution_count": 12,
     "metadata": {},
     "output_type": "execute_result"
    }
   ],
   "source": [
    "df.describe()"
   ]
  },
  {
   "cell_type": "code",
   "execution_count": 13,
   "metadata": {
    "collapsed": false
   },
   "outputs": [
    {
     "data": {
      "text/html": [
       "<div>\n",
       "<table border=\"1\" class=\"dataframe\">\n",
       "  <thead>\n",
       "    <tr style=\"text-align: right;\">\n",
       "      <th></th>\n",
       "      <th>2013-01-01 00:00:00</th>\n",
       "      <th>2013-01-02 00:00:00</th>\n",
       "      <th>2013-01-03 00:00:00</th>\n",
       "      <th>2013-01-04 00:00:00</th>\n",
       "      <th>2013-01-05 00:00:00</th>\n",
       "      <th>2013-01-06 00:00:00</th>\n",
       "    </tr>\n",
       "  </thead>\n",
       "  <tbody>\n",
       "    <tr>\n",
       "      <th>A</th>\n",
       "      <td>0.776817</td>\n",
       "      <td>-0.888552</td>\n",
       "      <td>0.145842</td>\n",
       "      <td>-0.253842</td>\n",
       "      <td>0.450011</td>\n",
       "      <td>-0.610481</td>\n",
       "    </tr>\n",
       "    <tr>\n",
       "      <th>B</th>\n",
       "      <td>0.711115</td>\n",
       "      <td>-1.156323</td>\n",
       "      <td>1.415263</td>\n",
       "      <td>0.717310</td>\n",
       "      <td>-0.595195</td>\n",
       "      <td>-1.037584</td>\n",
       "    </tr>\n",
       "    <tr>\n",
       "      <th>C</th>\n",
       "      <td>-0.301445</td>\n",
       "      <td>0.707345</td>\n",
       "      <td>-1.316799</td>\n",
       "      <td>-0.055747</td>\n",
       "      <td>-1.245341</td>\n",
       "      <td>0.153704</td>\n",
       "    </tr>\n",
       "    <tr>\n",
       "      <th>D</th>\n",
       "      <td>1.093052</td>\n",
       "      <td>1.806901</td>\n",
       "      <td>-1.012582</td>\n",
       "      <td>1.370508</td>\n",
       "      <td>0.070871</td>\n",
       "      <td>-0.096396</td>\n",
       "    </tr>\n",
       "  </tbody>\n",
       "</table>\n",
       "</div>"
      ],
      "text/plain": [
       "   2013-01-01  2013-01-02  2013-01-03  2013-01-04  2013-01-05  2013-01-06\n",
       "A    0.776817   -0.888552    0.145842   -0.253842    0.450011   -0.610481\n",
       "B    0.711115   -1.156323    1.415263    0.717310   -0.595195   -1.037584\n",
       "C   -0.301445    0.707345   -1.316799   -0.055747   -1.245341    0.153704\n",
       "D    1.093052    1.806901   -1.012582    1.370508    0.070871   -0.096396"
      ]
     },
     "execution_count": 13,
     "metadata": {},
     "output_type": "execute_result"
    }
   ],
   "source": [
    "df.T"
   ]
  },
  {
   "cell_type": "code",
   "execution_count": 17,
   "metadata": {
    "collapsed": false
   },
   "outputs": [
    {
     "data": {
      "text/html": [
       "<div>\n",
       "<table border=\"1\" class=\"dataframe\">\n",
       "  <thead>\n",
       "    <tr style=\"text-align: right;\">\n",
       "      <th></th>\n",
       "      <th>D</th>\n",
       "      <th>C</th>\n",
       "      <th>B</th>\n",
       "      <th>A</th>\n",
       "    </tr>\n",
       "  </thead>\n",
       "  <tbody>\n",
       "    <tr>\n",
       "      <th>2013-01-01</th>\n",
       "      <td>1.093052</td>\n",
       "      <td>-0.301445</td>\n",
       "      <td>0.711115</td>\n",
       "      <td>0.776817</td>\n",
       "    </tr>\n",
       "    <tr>\n",
       "      <th>2013-01-02</th>\n",
       "      <td>1.806901</td>\n",
       "      <td>0.707345</td>\n",
       "      <td>-1.156323</td>\n",
       "      <td>-0.888552</td>\n",
       "    </tr>\n",
       "    <tr>\n",
       "      <th>2013-01-03</th>\n",
       "      <td>-1.012582</td>\n",
       "      <td>-1.316799</td>\n",
       "      <td>1.415263</td>\n",
       "      <td>0.145842</td>\n",
       "    </tr>\n",
       "    <tr>\n",
       "      <th>2013-01-04</th>\n",
       "      <td>1.370508</td>\n",
       "      <td>-0.055747</td>\n",
       "      <td>0.717310</td>\n",
       "      <td>-0.253842</td>\n",
       "    </tr>\n",
       "    <tr>\n",
       "      <th>2013-01-05</th>\n",
       "      <td>0.070871</td>\n",
       "      <td>-1.245341</td>\n",
       "      <td>-0.595195</td>\n",
       "      <td>0.450011</td>\n",
       "    </tr>\n",
       "    <tr>\n",
       "      <th>2013-01-06</th>\n",
       "      <td>-0.096396</td>\n",
       "      <td>0.153704</td>\n",
       "      <td>-1.037584</td>\n",
       "      <td>-0.610481</td>\n",
       "    </tr>\n",
       "  </tbody>\n",
       "</table>\n",
       "</div>"
      ],
      "text/plain": [
       "                   D         C         B         A\n",
       "2013-01-01  1.093052 -0.301445  0.711115  0.776817\n",
       "2013-01-02  1.806901  0.707345 -1.156323 -0.888552\n",
       "2013-01-03 -1.012582 -1.316799  1.415263  0.145842\n",
       "2013-01-04  1.370508 -0.055747  0.717310 -0.253842\n",
       "2013-01-05  0.070871 -1.245341 -0.595195  0.450011\n",
       "2013-01-06 -0.096396  0.153704 -1.037584 -0.610481"
      ]
     },
     "execution_count": 17,
     "metadata": {},
     "output_type": "execute_result"
    }
   ],
   "source": [
    "df.sort_index(axis=1,ascending=False)"
   ]
  },
  {
   "cell_type": "code",
   "execution_count": 19,
   "metadata": {
    "collapsed": false
   },
   "outputs": [
    {
     "data": {
      "text/html": [
       "<div>\n",
       "<table border=\"1\" class=\"dataframe\">\n",
       "  <thead>\n",
       "    <tr style=\"text-align: right;\">\n",
       "      <th></th>\n",
       "      <th>A</th>\n",
       "      <th>B</th>\n",
       "      <th>C</th>\n",
       "      <th>D</th>\n",
       "    </tr>\n",
       "  </thead>\n",
       "  <tbody>\n",
       "    <tr>\n",
       "      <th>2013-01-03</th>\n",
       "      <td>0.145842</td>\n",
       "      <td>1.415263</td>\n",
       "      <td>-1.316799</td>\n",
       "      <td>-1.012582</td>\n",
       "    </tr>\n",
       "    <tr>\n",
       "      <th>2013-01-04</th>\n",
       "      <td>-0.253842</td>\n",
       "      <td>0.717310</td>\n",
       "      <td>-0.055747</td>\n",
       "      <td>1.370508</td>\n",
       "    </tr>\n",
       "    <tr>\n",
       "      <th>2013-01-01</th>\n",
       "      <td>0.776817</td>\n",
       "      <td>0.711115</td>\n",
       "      <td>-0.301445</td>\n",
       "      <td>1.093052</td>\n",
       "    </tr>\n",
       "    <tr>\n",
       "      <th>2013-01-05</th>\n",
       "      <td>0.450011</td>\n",
       "      <td>-0.595195</td>\n",
       "      <td>-1.245341</td>\n",
       "      <td>0.070871</td>\n",
       "    </tr>\n",
       "    <tr>\n",
       "      <th>2013-01-06</th>\n",
       "      <td>-0.610481</td>\n",
       "      <td>-1.037584</td>\n",
       "      <td>0.153704</td>\n",
       "      <td>-0.096396</td>\n",
       "    </tr>\n",
       "    <tr>\n",
       "      <th>2013-01-02</th>\n",
       "      <td>-0.888552</td>\n",
       "      <td>-1.156323</td>\n",
       "      <td>0.707345</td>\n",
       "      <td>1.806901</td>\n",
       "    </tr>\n",
       "  </tbody>\n",
       "</table>\n",
       "</div>"
      ],
      "text/plain": [
       "                   A         B         C         D\n",
       "2013-01-03  0.145842  1.415263 -1.316799 -1.012582\n",
       "2013-01-04 -0.253842  0.717310 -0.055747  1.370508\n",
       "2013-01-01  0.776817  0.711115 -0.301445  1.093052\n",
       "2013-01-05  0.450011 -0.595195 -1.245341  0.070871\n",
       "2013-01-06 -0.610481 -1.037584  0.153704 -0.096396\n",
       "2013-01-02 -0.888552 -1.156323  0.707345  1.806901"
      ]
     },
     "execution_count": 19,
     "metadata": {},
     "output_type": "execute_result"
    }
   ],
   "source": [
    "df.sort_values(by='B',ascending=False)"
   ]
  },
  {
   "cell_type": "code",
   "execution_count": 20,
   "metadata": {
    "collapsed": false
   },
   "outputs": [
    {
     "data": {
      "text/plain": [
       "2013-01-01    0.776817\n",
       "2013-01-02   -0.888552\n",
       "2013-01-03    0.145842\n",
       "2013-01-04   -0.253842\n",
       "2013-01-05    0.450011\n",
       "2013-01-06   -0.610481\n",
       "Freq: D, Name: A, dtype: float64"
      ]
     },
     "execution_count": 20,
     "metadata": {},
     "output_type": "execute_result"
    }
   ],
   "source": [
    "df['A']"
   ]
  },
  {
   "cell_type": "code",
   "execution_count": 21,
   "metadata": {
    "collapsed": false
   },
   "outputs": [
    {
     "data": {
      "text/html": [
       "<div>\n",
       "<table border=\"1\" class=\"dataframe\">\n",
       "  <thead>\n",
       "    <tr style=\"text-align: right;\">\n",
       "      <th></th>\n",
       "      <th>A</th>\n",
       "      <th>B</th>\n",
       "      <th>C</th>\n",
       "      <th>D</th>\n",
       "    </tr>\n",
       "  </thead>\n",
       "  <tbody>\n",
       "    <tr>\n",
       "      <th>2013-01-01</th>\n",
       "      <td>0.776817</td>\n",
       "      <td>0.711115</td>\n",
       "      <td>-0.301445</td>\n",
       "      <td>1.093052</td>\n",
       "    </tr>\n",
       "    <tr>\n",
       "      <th>2013-01-02</th>\n",
       "      <td>-0.888552</td>\n",
       "      <td>-1.156323</td>\n",
       "      <td>0.707345</td>\n",
       "      <td>1.806901</td>\n",
       "    </tr>\n",
       "    <tr>\n",
       "      <th>2013-01-03</th>\n",
       "      <td>0.145842</td>\n",
       "      <td>1.415263</td>\n",
       "      <td>-1.316799</td>\n",
       "      <td>-1.012582</td>\n",
       "    </tr>\n",
       "  </tbody>\n",
       "</table>\n",
       "</div>"
      ],
      "text/plain": [
       "                   A         B         C         D\n",
       "2013-01-01  0.776817  0.711115 -0.301445  1.093052\n",
       "2013-01-02 -0.888552 -1.156323  0.707345  1.806901\n",
       "2013-01-03  0.145842  1.415263 -1.316799 -1.012582"
      ]
     },
     "execution_count": 21,
     "metadata": {},
     "output_type": "execute_result"
    }
   ],
   "source": [
    "df[0:3]"
   ]
  },
  {
   "cell_type": "code",
   "execution_count": 26,
   "metadata": {
    "collapsed": false
   },
   "outputs": [
    {
     "data": {
      "text/html": [
       "<div>\n",
       "<table border=\"1\" class=\"dataframe\">\n",
       "  <thead>\n",
       "    <tr style=\"text-align: right;\">\n",
       "      <th></th>\n",
       "      <th>A</th>\n",
       "      <th>B</th>\n",
       "    </tr>\n",
       "  </thead>\n",
       "  <tbody>\n",
       "    <tr>\n",
       "      <th>2013-01-01</th>\n",
       "      <td>0.776817</td>\n",
       "      <td>0.711115</td>\n",
       "    </tr>\n",
       "    <tr>\n",
       "      <th>2013-01-02</th>\n",
       "      <td>-0.888552</td>\n",
       "      <td>-1.156323</td>\n",
       "    </tr>\n",
       "    <tr>\n",
       "      <th>2013-01-03</th>\n",
       "      <td>0.145842</td>\n",
       "      <td>1.415263</td>\n",
       "    </tr>\n",
       "    <tr>\n",
       "      <th>2013-01-04</th>\n",
       "      <td>-0.253842</td>\n",
       "      <td>0.717310</td>\n",
       "    </tr>\n",
       "    <tr>\n",
       "      <th>2013-01-05</th>\n",
       "      <td>0.450011</td>\n",
       "      <td>-0.595195</td>\n",
       "    </tr>\n",
       "    <tr>\n",
       "      <th>2013-01-06</th>\n",
       "      <td>-0.610481</td>\n",
       "      <td>-1.037584</td>\n",
       "    </tr>\n",
       "  </tbody>\n",
       "</table>\n",
       "</div>"
      ],
      "text/plain": [
       "                   A         B\n",
       "2013-01-01  0.776817  0.711115\n",
       "2013-01-02 -0.888552 -1.156323\n",
       "2013-01-03  0.145842  1.415263\n",
       "2013-01-04 -0.253842  0.717310\n",
       "2013-01-05  0.450011 -0.595195\n",
       "2013-01-06 -0.610481 -1.037584"
      ]
     },
     "execution_count": 26,
     "metadata": {},
     "output_type": "execute_result"
    }
   ],
   "source": [
    "df[['A','B']]"
   ]
  },
  {
   "cell_type": "code",
   "execution_count": 27,
   "metadata": {
    "collapsed": false
   },
   "outputs": [
    {
     "data": {
      "text/plain": [
       "DatetimeIndex(['2013-01-01', '2013-01-02', '2013-01-03', '2013-01-04',\n",
       "               '2013-01-05', '2013-01-06'],\n",
       "              dtype='datetime64[ns]', freq='D')"
      ]
     },
     "execution_count": 27,
     "metadata": {},
     "output_type": "execute_result"
    }
   ],
   "source": [
    "df.index"
   ]
  },
  {
   "cell_type": "code",
   "execution_count": 28,
   "metadata": {
    "collapsed": false
   },
   "outputs": [
    {
     "data": {
      "text/plain": [
       "Index(['A', 'B', 'C', 'D'], dtype='object')"
      ]
     },
     "execution_count": 28,
     "metadata": {},
     "output_type": "execute_result"
    }
   ],
   "source": [
    "df.columns"
   ]
  },
  {
   "cell_type": "code",
   "execution_count": 32,
   "metadata": {
    "collapsed": false
   },
   "outputs": [],
   "source": [
    "df.index.name='DD'"
   ]
  },
  {
   "cell_type": "code",
   "execution_count": 35,
   "metadata": {
    "collapsed": false
   },
   "outputs": [],
   "source": [
    "del df.index.name"
   ]
  },
  {
   "cell_type": "code",
   "execution_count": 36,
   "metadata": {
    "collapsed": false
   },
   "outputs": [],
   "source": [
    "df['E']=df['D']**2"
   ]
  },
  {
   "cell_type": "code",
   "execution_count": 37,
   "metadata": {
    "collapsed": false
   },
   "outputs": [
    {
     "data": {
      "text/html": [
       "<div>\n",
       "<table border=\"1\" class=\"dataframe\">\n",
       "  <thead>\n",
       "    <tr style=\"text-align: right;\">\n",
       "      <th></th>\n",
       "      <th>A</th>\n",
       "      <th>B</th>\n",
       "      <th>C</th>\n",
       "      <th>D</th>\n",
       "      <th>E</th>\n",
       "    </tr>\n",
       "  </thead>\n",
       "  <tbody>\n",
       "    <tr>\n",
       "      <th>2013-01-01</th>\n",
       "      <td>0.776817</td>\n",
       "      <td>0.711115</td>\n",
       "      <td>-0.301445</td>\n",
       "      <td>1.093052</td>\n",
       "      <td>1.194763</td>\n",
       "    </tr>\n",
       "    <tr>\n",
       "      <th>2013-01-02</th>\n",
       "      <td>-0.888552</td>\n",
       "      <td>-1.156323</td>\n",
       "      <td>0.707345</td>\n",
       "      <td>1.806901</td>\n",
       "      <td>3.264891</td>\n",
       "    </tr>\n",
       "    <tr>\n",
       "      <th>2013-01-03</th>\n",
       "      <td>0.145842</td>\n",
       "      <td>1.415263</td>\n",
       "      <td>-1.316799</td>\n",
       "      <td>-1.012582</td>\n",
       "      <td>1.025322</td>\n",
       "    </tr>\n",
       "    <tr>\n",
       "      <th>2013-01-04</th>\n",
       "      <td>-0.253842</td>\n",
       "      <td>0.717310</td>\n",
       "      <td>-0.055747</td>\n",
       "      <td>1.370508</td>\n",
       "      <td>1.878292</td>\n",
       "    </tr>\n",
       "    <tr>\n",
       "      <th>2013-01-05</th>\n",
       "      <td>0.450011</td>\n",
       "      <td>-0.595195</td>\n",
       "      <td>-1.245341</td>\n",
       "      <td>0.070871</td>\n",
       "      <td>0.005023</td>\n",
       "    </tr>\n",
       "    <tr>\n",
       "      <th>2013-01-06</th>\n",
       "      <td>-0.610481</td>\n",
       "      <td>-1.037584</td>\n",
       "      <td>0.153704</td>\n",
       "      <td>-0.096396</td>\n",
       "      <td>0.009292</td>\n",
       "    </tr>\n",
       "  </tbody>\n",
       "</table>\n",
       "</div>"
      ],
      "text/plain": [
       "                   A         B         C         D         E\n",
       "2013-01-01  0.776817  0.711115 -0.301445  1.093052  1.194763\n",
       "2013-01-02 -0.888552 -1.156323  0.707345  1.806901  3.264891\n",
       "2013-01-03  0.145842  1.415263 -1.316799 -1.012582  1.025322\n",
       "2013-01-04 -0.253842  0.717310 -0.055747  1.370508  1.878292\n",
       "2013-01-05  0.450011 -0.595195 -1.245341  0.070871  0.005023\n",
       "2013-01-06 -0.610481 -1.037584  0.153704 -0.096396  0.009292"
      ]
     },
     "execution_count": 37,
     "metadata": {},
     "output_type": "execute_result"
    }
   ],
   "source": [
    "df"
   ]
  },
  {
   "cell_type": "code",
   "execution_count": 38,
   "metadata": {
    "collapsed": true
   },
   "outputs": [],
   "source": [
    "del df['E']"
   ]
  },
  {
   "cell_type": "code",
   "execution_count": 39,
   "metadata": {
    "collapsed": false
   },
   "outputs": [
    {
     "data": {
      "text/html": [
       "<div>\n",
       "<table border=\"1\" class=\"dataframe\">\n",
       "  <thead>\n",
       "    <tr style=\"text-align: right;\">\n",
       "      <th></th>\n",
       "      <th>A</th>\n",
       "      <th>B</th>\n",
       "      <th>C</th>\n",
       "      <th>D</th>\n",
       "    </tr>\n",
       "  </thead>\n",
       "  <tbody>\n",
       "    <tr>\n",
       "      <th>2013-01-01</th>\n",
       "      <td>0.776817</td>\n",
       "      <td>0.711115</td>\n",
       "      <td>-0.301445</td>\n",
       "      <td>1.093052</td>\n",
       "    </tr>\n",
       "    <tr>\n",
       "      <th>2013-01-02</th>\n",
       "      <td>-0.888552</td>\n",
       "      <td>-1.156323</td>\n",
       "      <td>0.707345</td>\n",
       "      <td>1.806901</td>\n",
       "    </tr>\n",
       "    <tr>\n",
       "      <th>2013-01-03</th>\n",
       "      <td>0.145842</td>\n",
       "      <td>1.415263</td>\n",
       "      <td>-1.316799</td>\n",
       "      <td>-1.012582</td>\n",
       "    </tr>\n",
       "    <tr>\n",
       "      <th>2013-01-04</th>\n",
       "      <td>-0.253842</td>\n",
       "      <td>0.717310</td>\n",
       "      <td>-0.055747</td>\n",
       "      <td>1.370508</td>\n",
       "    </tr>\n",
       "    <tr>\n",
       "      <th>2013-01-05</th>\n",
       "      <td>0.450011</td>\n",
       "      <td>-0.595195</td>\n",
       "      <td>-1.245341</td>\n",
       "      <td>0.070871</td>\n",
       "    </tr>\n",
       "    <tr>\n",
       "      <th>2013-01-06</th>\n",
       "      <td>-0.610481</td>\n",
       "      <td>-1.037584</td>\n",
       "      <td>0.153704</td>\n",
       "      <td>-0.096396</td>\n",
       "    </tr>\n",
       "  </tbody>\n",
       "</table>\n",
       "</div>"
      ],
      "text/plain": [
       "                   A         B         C         D\n",
       "2013-01-01  0.776817  0.711115 -0.301445  1.093052\n",
       "2013-01-02 -0.888552 -1.156323  0.707345  1.806901\n",
       "2013-01-03  0.145842  1.415263 -1.316799 -1.012582\n",
       "2013-01-04 -0.253842  0.717310 -0.055747  1.370508\n",
       "2013-01-05  0.450011 -0.595195 -1.245341  0.070871\n",
       "2013-01-06 -0.610481 -1.037584  0.153704 -0.096396"
      ]
     },
     "execution_count": 39,
     "metadata": {},
     "output_type": "execute_result"
    }
   ],
   "source": [
    "df"
   ]
  },
  {
   "cell_type": "code",
   "execution_count": 40,
   "metadata": {
    "collapsed": false
   },
   "outputs": [
    {
     "data": {
      "text/html": [
       "<div>\n",
       "<table border=\"1\" class=\"dataframe\">\n",
       "  <thead>\n",
       "    <tr style=\"text-align: right;\">\n",
       "      <th></th>\n",
       "      <th>A</th>\n",
       "      <th>B</th>\n",
       "    </tr>\n",
       "  </thead>\n",
       "  <tbody>\n",
       "    <tr>\n",
       "      <th>2013-01-01</th>\n",
       "      <td>0.776817</td>\n",
       "      <td>0.711115</td>\n",
       "    </tr>\n",
       "    <tr>\n",
       "      <th>2013-01-02</th>\n",
       "      <td>-0.888552</td>\n",
       "      <td>-1.156323</td>\n",
       "    </tr>\n",
       "    <tr>\n",
       "      <th>2013-01-03</th>\n",
       "      <td>0.145842</td>\n",
       "      <td>1.415263</td>\n",
       "    </tr>\n",
       "    <tr>\n",
       "      <th>2013-01-04</th>\n",
       "      <td>-0.253842</td>\n",
       "      <td>0.717310</td>\n",
       "    </tr>\n",
       "    <tr>\n",
       "      <th>2013-01-05</th>\n",
       "      <td>0.450011</td>\n",
       "      <td>-0.595195</td>\n",
       "    </tr>\n",
       "    <tr>\n",
       "      <th>2013-01-06</th>\n",
       "      <td>-0.610481</td>\n",
       "      <td>-1.037584</td>\n",
       "    </tr>\n",
       "  </tbody>\n",
       "</table>\n",
       "</div>"
      ],
      "text/plain": [
       "                   A         B\n",
       "2013-01-01  0.776817  0.711115\n",
       "2013-01-02 -0.888552 -1.156323\n",
       "2013-01-03  0.145842  1.415263\n",
       "2013-01-04 -0.253842  0.717310\n",
       "2013-01-05  0.450011 -0.595195\n",
       "2013-01-06 -0.610481 -1.037584"
      ]
     },
     "execution_count": 40,
     "metadata": {},
     "output_type": "execute_result"
    }
   ],
   "source": [
    "df.loc[:,['A','B']]"
   ]
  },
  {
   "cell_type": "code",
   "execution_count": 41,
   "metadata": {
    "collapsed": false
   },
   "outputs": [
    {
     "data": {
      "text/plain": [
       "A   -0.253842\n",
       "B    0.717310\n",
       "C   -0.055747\n",
       "D    1.370508\n",
       "Name: 2013-01-04 00:00:00, dtype: float64"
      ]
     },
     "execution_count": 41,
     "metadata": {},
     "output_type": "execute_result"
    }
   ],
   "source": [
    "df.iloc[3]"
   ]
  },
  {
   "cell_type": "code",
   "execution_count": 42,
   "metadata": {
    "collapsed": false
   },
   "outputs": [
    {
     "data": {
      "text/plain": [
       "pandas.core.series.Series"
      ]
     },
     "execution_count": 42,
     "metadata": {},
     "output_type": "execute_result"
    }
   ],
   "source": [
    "type(df.iloc[3])"
   ]
  },
  {
   "cell_type": "code",
   "execution_count": 43,
   "metadata": {
    "collapsed": false
   },
   "outputs": [
    {
     "data": {
      "text/html": [
       "<div>\n",
       "<table border=\"1\" class=\"dataframe\">\n",
       "  <thead>\n",
       "    <tr style=\"text-align: right;\">\n",
       "      <th></th>\n",
       "      <th>A</th>\n",
       "      <th>B</th>\n",
       "      <th>C</th>\n",
       "      <th>D</th>\n",
       "    </tr>\n",
       "  </thead>\n",
       "  <tbody>\n",
       "    <tr>\n",
       "      <th>2013-01-04</th>\n",
       "      <td>-0.253842</td>\n",
       "      <td>0.717310</td>\n",
       "      <td>-0.055747</td>\n",
       "      <td>1.370508</td>\n",
       "    </tr>\n",
       "    <tr>\n",
       "      <th>2013-01-05</th>\n",
       "      <td>0.450011</td>\n",
       "      <td>-0.595195</td>\n",
       "      <td>-1.245341</td>\n",
       "      <td>0.070871</td>\n",
       "    </tr>\n",
       "  </tbody>\n",
       "</table>\n",
       "</div>"
      ],
      "text/plain": [
       "                   A         B         C         D\n",
       "2013-01-04 -0.253842  0.717310 -0.055747  1.370508\n",
       "2013-01-05  0.450011 -0.595195 -1.245341  0.070871"
      ]
     },
     "execution_count": 43,
     "metadata": {},
     "output_type": "execute_result"
    }
   ],
   "source": [
    "df.iloc[3:5]"
   ]
  },
  {
   "cell_type": "code",
   "execution_count": 45,
   "metadata": {
    "collapsed": false
   },
   "outputs": [
    {
     "data": {
      "text/html": [
       "<div>\n",
       "<table border=\"1\" class=\"dataframe\">\n",
       "  <thead>\n",
       "    <tr style=\"text-align: right;\">\n",
       "      <th></th>\n",
       "      <th>A</th>\n",
       "      <th>B</th>\n",
       "    </tr>\n",
       "  </thead>\n",
       "  <tbody>\n",
       "    <tr>\n",
       "      <th>2013-01-04</th>\n",
       "      <td>-0.253842</td>\n",
       "      <td>0.717310</td>\n",
       "    </tr>\n",
       "    <tr>\n",
       "      <th>2013-01-05</th>\n",
       "      <td>0.450011</td>\n",
       "      <td>-0.595195</td>\n",
       "    </tr>\n",
       "  </tbody>\n",
       "</table>\n",
       "</div>"
      ],
      "text/plain": [
       "                   A         B\n",
       "2013-01-04 -0.253842  0.717310\n",
       "2013-01-05  0.450011 -0.595195"
      ]
     },
     "execution_count": 45,
     "metadata": {},
     "output_type": "execute_result"
    }
   ],
   "source": [
    "df.iloc[3:5,0:2]"
   ]
  },
  {
   "cell_type": "code",
   "execution_count": 46,
   "metadata": {
    "collapsed": false
   },
   "outputs": [
    {
     "data": {
      "text/html": [
       "<div>\n",
       "<table border=\"1\" class=\"dataframe\">\n",
       "  <thead>\n",
       "    <tr style=\"text-align: right;\">\n",
       "      <th></th>\n",
       "      <th>A</th>\n",
       "      <th>B</th>\n",
       "      <th>C</th>\n",
       "      <th>D</th>\n",
       "    </tr>\n",
       "  </thead>\n",
       "  <tbody>\n",
       "    <tr>\n",
       "      <th>2013-01-01</th>\n",
       "      <td>0.776817</td>\n",
       "      <td>0.711115</td>\n",
       "      <td>-0.301445</td>\n",
       "      <td>1.093052</td>\n",
       "    </tr>\n",
       "    <tr>\n",
       "      <th>2013-01-03</th>\n",
       "      <td>0.145842</td>\n",
       "      <td>1.415263</td>\n",
       "      <td>-1.316799</td>\n",
       "      <td>-1.012582</td>\n",
       "    </tr>\n",
       "    <tr>\n",
       "      <th>2013-01-05</th>\n",
       "      <td>0.450011</td>\n",
       "      <td>-0.595195</td>\n",
       "      <td>-1.245341</td>\n",
       "      <td>0.070871</td>\n",
       "    </tr>\n",
       "  </tbody>\n",
       "</table>\n",
       "</div>"
      ],
      "text/plain": [
       "                   A         B         C         D\n",
       "2013-01-01  0.776817  0.711115 -0.301445  1.093052\n",
       "2013-01-03  0.145842  1.415263 -1.316799 -1.012582\n",
       "2013-01-05  0.450011 -0.595195 -1.245341  0.070871"
      ]
     },
     "execution_count": 46,
     "metadata": {},
     "output_type": "execute_result"
    }
   ],
   "source": [
    "df[df.A>0]"
   ]
  },
  {
   "cell_type": "code",
   "execution_count": 47,
   "metadata": {
    "collapsed": false
   },
   "outputs": [
    {
     "data": {
      "text/html": [
       "<div>\n",
       "<table border=\"1\" class=\"dataframe\">\n",
       "  <thead>\n",
       "    <tr style=\"text-align: right;\">\n",
       "      <th></th>\n",
       "      <th>A</th>\n",
       "      <th>B</th>\n",
       "      <th>C</th>\n",
       "      <th>D</th>\n",
       "    </tr>\n",
       "  </thead>\n",
       "  <tbody>\n",
       "    <tr>\n",
       "      <th>2013-01-01</th>\n",
       "      <td>0.776817</td>\n",
       "      <td>0.711115</td>\n",
       "      <td>NaN</td>\n",
       "      <td>1.093052</td>\n",
       "    </tr>\n",
       "    <tr>\n",
       "      <th>2013-01-02</th>\n",
       "      <td>NaN</td>\n",
       "      <td>NaN</td>\n",
       "      <td>0.707345</td>\n",
       "      <td>1.806901</td>\n",
       "    </tr>\n",
       "    <tr>\n",
       "      <th>2013-01-03</th>\n",
       "      <td>0.145842</td>\n",
       "      <td>1.415263</td>\n",
       "      <td>NaN</td>\n",
       "      <td>NaN</td>\n",
       "    </tr>\n",
       "    <tr>\n",
       "      <th>2013-01-04</th>\n",
       "      <td>NaN</td>\n",
       "      <td>0.717310</td>\n",
       "      <td>NaN</td>\n",
       "      <td>1.370508</td>\n",
       "    </tr>\n",
       "    <tr>\n",
       "      <th>2013-01-05</th>\n",
       "      <td>0.450011</td>\n",
       "      <td>NaN</td>\n",
       "      <td>NaN</td>\n",
       "      <td>0.070871</td>\n",
       "    </tr>\n",
       "    <tr>\n",
       "      <th>2013-01-06</th>\n",
       "      <td>NaN</td>\n",
       "      <td>NaN</td>\n",
       "      <td>0.153704</td>\n",
       "      <td>NaN</td>\n",
       "    </tr>\n",
       "  </tbody>\n",
       "</table>\n",
       "</div>"
      ],
      "text/plain": [
       "                   A         B         C         D\n",
       "2013-01-01  0.776817  0.711115       NaN  1.093052\n",
       "2013-01-02       NaN       NaN  0.707345  1.806901\n",
       "2013-01-03  0.145842  1.415263       NaN       NaN\n",
       "2013-01-04       NaN  0.717310       NaN  1.370508\n",
       "2013-01-05  0.450011       NaN       NaN  0.070871\n",
       "2013-01-06       NaN       NaN  0.153704       NaN"
      ]
     },
     "execution_count": 47,
     "metadata": {},
     "output_type": "execute_result"
    }
   ],
   "source": [
    "df[df>0]"
   ]
  },
  {
   "cell_type": "code",
   "execution_count": 48,
   "metadata": {
    "collapsed": true
   },
   "outputs": [],
   "source": [
    "df2=df.copy()"
   ]
  },
  {
   "cell_type": "code",
   "execution_count": 49,
   "metadata": {
    "collapsed": true
   },
   "outputs": [],
   "source": [
    "df2['E']=['one','one','two','three','four','three']"
   ]
  },
  {
   "cell_type": "code",
   "execution_count": 50,
   "metadata": {
    "collapsed": false
   },
   "outputs": [
    {
     "data": {
      "text/html": [
       "<div>\n",
       "<table border=\"1\" class=\"dataframe\">\n",
       "  <thead>\n",
       "    <tr style=\"text-align: right;\">\n",
       "      <th></th>\n",
       "      <th>A</th>\n",
       "      <th>B</th>\n",
       "      <th>C</th>\n",
       "      <th>D</th>\n",
       "      <th>E</th>\n",
       "    </tr>\n",
       "  </thead>\n",
       "  <tbody>\n",
       "    <tr>\n",
       "      <th>2013-01-01</th>\n",
       "      <td>0.776817</td>\n",
       "      <td>0.711115</td>\n",
       "      <td>-0.301445</td>\n",
       "      <td>1.093052</td>\n",
       "      <td>one</td>\n",
       "    </tr>\n",
       "    <tr>\n",
       "      <th>2013-01-02</th>\n",
       "      <td>-0.888552</td>\n",
       "      <td>-1.156323</td>\n",
       "      <td>0.707345</td>\n",
       "      <td>1.806901</td>\n",
       "      <td>one</td>\n",
       "    </tr>\n",
       "    <tr>\n",
       "      <th>2013-01-03</th>\n",
       "      <td>0.145842</td>\n",
       "      <td>1.415263</td>\n",
       "      <td>-1.316799</td>\n",
       "      <td>-1.012582</td>\n",
       "      <td>two</td>\n",
       "    </tr>\n",
       "    <tr>\n",
       "      <th>2013-01-04</th>\n",
       "      <td>-0.253842</td>\n",
       "      <td>0.717310</td>\n",
       "      <td>-0.055747</td>\n",
       "      <td>1.370508</td>\n",
       "      <td>three</td>\n",
       "    </tr>\n",
       "    <tr>\n",
       "      <th>2013-01-05</th>\n",
       "      <td>0.450011</td>\n",
       "      <td>-0.595195</td>\n",
       "      <td>-1.245341</td>\n",
       "      <td>0.070871</td>\n",
       "      <td>four</td>\n",
       "    </tr>\n",
       "    <tr>\n",
       "      <th>2013-01-06</th>\n",
       "      <td>-0.610481</td>\n",
       "      <td>-1.037584</td>\n",
       "      <td>0.153704</td>\n",
       "      <td>-0.096396</td>\n",
       "      <td>three</td>\n",
       "    </tr>\n",
       "  </tbody>\n",
       "</table>\n",
       "</div>"
      ],
      "text/plain": [
       "                   A         B         C         D      E\n",
       "2013-01-01  0.776817  0.711115 -0.301445  1.093052    one\n",
       "2013-01-02 -0.888552 -1.156323  0.707345  1.806901    one\n",
       "2013-01-03  0.145842  1.415263 -1.316799 -1.012582    two\n",
       "2013-01-04 -0.253842  0.717310 -0.055747  1.370508  three\n",
       "2013-01-05  0.450011 -0.595195 -1.245341  0.070871   four\n",
       "2013-01-06 -0.610481 -1.037584  0.153704 -0.096396  three"
      ]
     },
     "execution_count": 50,
     "metadata": {},
     "output_type": "execute_result"
    }
   ],
   "source": [
    "df2"
   ]
  },
  {
   "cell_type": "code",
   "execution_count": 51,
   "metadata": {
    "collapsed": false
   },
   "outputs": [
    {
     "data": {
      "text/html": [
       "<div>\n",
       "<table border=\"1\" class=\"dataframe\">\n",
       "  <thead>\n",
       "    <tr style=\"text-align: right;\">\n",
       "      <th></th>\n",
       "      <th>A</th>\n",
       "      <th>B</th>\n",
       "      <th>C</th>\n",
       "      <th>D</th>\n",
       "      <th>E</th>\n",
       "    </tr>\n",
       "  </thead>\n",
       "  <tbody>\n",
       "    <tr>\n",
       "      <th>2013-01-03</th>\n",
       "      <td>0.145842</td>\n",
       "      <td>1.415263</td>\n",
       "      <td>-1.316799</td>\n",
       "      <td>-1.012582</td>\n",
       "      <td>two</td>\n",
       "    </tr>\n",
       "  </tbody>\n",
       "</table>\n",
       "</div>"
      ],
      "text/plain": [
       "                   A         B         C         D    E\n",
       "2013-01-03  0.145842  1.415263 -1.316799 -1.012582  two"
      ]
     },
     "execution_count": 51,
     "metadata": {},
     "output_type": "execute_result"
    }
   ],
   "source": [
    "df2[df2.E.isin(['two'])]"
   ]
  },
  {
   "cell_type": "code",
   "execution_count": 52,
   "metadata": {
    "collapsed": true
   },
   "outputs": [],
   "source": [
    "s1=pd.Series([1,2,3,4,5,6],index=pd.date_range('20130102',periods=6))"
   ]
  },
  {
   "cell_type": "code",
   "execution_count": 53,
   "metadata": {
    "collapsed": false
   },
   "outputs": [
    {
     "data": {
      "text/plain": [
       "2013-01-02    1\n",
       "2013-01-03    2\n",
       "2013-01-04    3\n",
       "2013-01-05    4\n",
       "2013-01-06    5\n",
       "2013-01-07    6\n",
       "Freq: D, dtype: int64"
      ]
     },
     "execution_count": 53,
     "metadata": {},
     "output_type": "execute_result"
    }
   ],
   "source": [
    "s1"
   ]
  },
  {
   "cell_type": "code",
   "execution_count": 54,
   "metadata": {
    "collapsed": true
   },
   "outputs": [],
   "source": [
    "df['F']=s1"
   ]
  },
  {
   "cell_type": "code",
   "execution_count": 55,
   "metadata": {
    "collapsed": false
   },
   "outputs": [
    {
     "data": {
      "text/html": [
       "<div>\n",
       "<table border=\"1\" class=\"dataframe\">\n",
       "  <thead>\n",
       "    <tr style=\"text-align: right;\">\n",
       "      <th></th>\n",
       "      <th>A</th>\n",
       "      <th>B</th>\n",
       "      <th>C</th>\n",
       "      <th>D</th>\n",
       "      <th>F</th>\n",
       "    </tr>\n",
       "  </thead>\n",
       "  <tbody>\n",
       "    <tr>\n",
       "      <th>2013-01-01</th>\n",
       "      <td>0.776817</td>\n",
       "      <td>0.711115</td>\n",
       "      <td>-0.301445</td>\n",
       "      <td>1.093052</td>\n",
       "      <td>NaN</td>\n",
       "    </tr>\n",
       "    <tr>\n",
       "      <th>2013-01-02</th>\n",
       "      <td>-0.888552</td>\n",
       "      <td>-1.156323</td>\n",
       "      <td>0.707345</td>\n",
       "      <td>1.806901</td>\n",
       "      <td>1.0</td>\n",
       "    </tr>\n",
       "    <tr>\n",
       "      <th>2013-01-03</th>\n",
       "      <td>0.145842</td>\n",
       "      <td>1.415263</td>\n",
       "      <td>-1.316799</td>\n",
       "      <td>-1.012582</td>\n",
       "      <td>2.0</td>\n",
       "    </tr>\n",
       "    <tr>\n",
       "      <th>2013-01-04</th>\n",
       "      <td>-0.253842</td>\n",
       "      <td>0.717310</td>\n",
       "      <td>-0.055747</td>\n",
       "      <td>1.370508</td>\n",
       "      <td>3.0</td>\n",
       "    </tr>\n",
       "    <tr>\n",
       "      <th>2013-01-05</th>\n",
       "      <td>0.450011</td>\n",
       "      <td>-0.595195</td>\n",
       "      <td>-1.245341</td>\n",
       "      <td>0.070871</td>\n",
       "      <td>4.0</td>\n",
       "    </tr>\n",
       "    <tr>\n",
       "      <th>2013-01-06</th>\n",
       "      <td>-0.610481</td>\n",
       "      <td>-1.037584</td>\n",
       "      <td>0.153704</td>\n",
       "      <td>-0.096396</td>\n",
       "      <td>5.0</td>\n",
       "    </tr>\n",
       "  </tbody>\n",
       "</table>\n",
       "</div>"
      ],
      "text/plain": [
       "                   A         B         C         D    F\n",
       "2013-01-01  0.776817  0.711115 -0.301445  1.093052  NaN\n",
       "2013-01-02 -0.888552 -1.156323  0.707345  1.806901  1.0\n",
       "2013-01-03  0.145842  1.415263 -1.316799 -1.012582  2.0\n",
       "2013-01-04 -0.253842  0.717310 -0.055747  1.370508  3.0\n",
       "2013-01-05  0.450011 -0.595195 -1.245341  0.070871  4.0\n",
       "2013-01-06 -0.610481 -1.037584  0.153704 -0.096396  5.0"
      ]
     },
     "execution_count": 55,
     "metadata": {},
     "output_type": "execute_result"
    }
   ],
   "source": [
    "df"
   ]
  },
  {
   "cell_type": "code",
   "execution_count": 56,
   "metadata": {
    "collapsed": true
   },
   "outputs": [],
   "source": [
    "df.at[dates[0],'A']=0"
   ]
  },
  {
   "cell_type": "code",
   "execution_count": 57,
   "metadata": {
    "collapsed": false
   },
   "outputs": [
    {
     "data": {
      "text/html": [
       "<div>\n",
       "<table border=\"1\" class=\"dataframe\">\n",
       "  <thead>\n",
       "    <tr style=\"text-align: right;\">\n",
       "      <th></th>\n",
       "      <th>A</th>\n",
       "      <th>B</th>\n",
       "      <th>C</th>\n",
       "      <th>D</th>\n",
       "      <th>F</th>\n",
       "    </tr>\n",
       "  </thead>\n",
       "  <tbody>\n",
       "    <tr>\n",
       "      <th>2013-01-01</th>\n",
       "      <td>0.000000</td>\n",
       "      <td>0.711115</td>\n",
       "      <td>-0.301445</td>\n",
       "      <td>1.093052</td>\n",
       "      <td>NaN</td>\n",
       "    </tr>\n",
       "    <tr>\n",
       "      <th>2013-01-02</th>\n",
       "      <td>-0.888552</td>\n",
       "      <td>-1.156323</td>\n",
       "      <td>0.707345</td>\n",
       "      <td>1.806901</td>\n",
       "      <td>1.0</td>\n",
       "    </tr>\n",
       "    <tr>\n",
       "      <th>2013-01-03</th>\n",
       "      <td>0.145842</td>\n",
       "      <td>1.415263</td>\n",
       "      <td>-1.316799</td>\n",
       "      <td>-1.012582</td>\n",
       "      <td>2.0</td>\n",
       "    </tr>\n",
       "    <tr>\n",
       "      <th>2013-01-04</th>\n",
       "      <td>-0.253842</td>\n",
       "      <td>0.717310</td>\n",
       "      <td>-0.055747</td>\n",
       "      <td>1.370508</td>\n",
       "      <td>3.0</td>\n",
       "    </tr>\n",
       "    <tr>\n",
       "      <th>2013-01-05</th>\n",
       "      <td>0.450011</td>\n",
       "      <td>-0.595195</td>\n",
       "      <td>-1.245341</td>\n",
       "      <td>0.070871</td>\n",
       "      <td>4.0</td>\n",
       "    </tr>\n",
       "    <tr>\n",
       "      <th>2013-01-06</th>\n",
       "      <td>-0.610481</td>\n",
       "      <td>-1.037584</td>\n",
       "      <td>0.153704</td>\n",
       "      <td>-0.096396</td>\n",
       "      <td>5.0</td>\n",
       "    </tr>\n",
       "  </tbody>\n",
       "</table>\n",
       "</div>"
      ],
      "text/plain": [
       "                   A         B         C         D    F\n",
       "2013-01-01  0.000000  0.711115 -0.301445  1.093052  NaN\n",
       "2013-01-02 -0.888552 -1.156323  0.707345  1.806901  1.0\n",
       "2013-01-03  0.145842  1.415263 -1.316799 -1.012582  2.0\n",
       "2013-01-04 -0.253842  0.717310 -0.055747  1.370508  3.0\n",
       "2013-01-05  0.450011 -0.595195 -1.245341  0.070871  4.0\n",
       "2013-01-06 -0.610481 -1.037584  0.153704 -0.096396  5.0"
      ]
     },
     "execution_count": 57,
     "metadata": {},
     "output_type": "execute_result"
    }
   ],
   "source": [
    "df"
   ]
  },
  {
   "cell_type": "code",
   "execution_count": 58,
   "metadata": {
    "collapsed": true
   },
   "outputs": [],
   "source": [
    "df[0,1]=2"
   ]
  },
  {
   "cell_type": "code",
   "execution_count": 59,
   "metadata": {
    "collapsed": false
   },
   "outputs": [
    {
     "data": {
      "text/html": [
       "<div>\n",
       "<table border=\"1\" class=\"dataframe\">\n",
       "  <thead>\n",
       "    <tr style=\"text-align: right;\">\n",
       "      <th></th>\n",
       "      <th>A</th>\n",
       "      <th>B</th>\n",
       "      <th>C</th>\n",
       "      <th>D</th>\n",
       "      <th>F</th>\n",
       "      <th>(0, 1)</th>\n",
       "    </tr>\n",
       "  </thead>\n",
       "  <tbody>\n",
       "    <tr>\n",
       "      <th>2013-01-01</th>\n",
       "      <td>0.000000</td>\n",
       "      <td>0.711115</td>\n",
       "      <td>-0.301445</td>\n",
       "      <td>1.093052</td>\n",
       "      <td>NaN</td>\n",
       "      <td>2</td>\n",
       "    </tr>\n",
       "    <tr>\n",
       "      <th>2013-01-02</th>\n",
       "      <td>-0.888552</td>\n",
       "      <td>-1.156323</td>\n",
       "      <td>0.707345</td>\n",
       "      <td>1.806901</td>\n",
       "      <td>1.0</td>\n",
       "      <td>2</td>\n",
       "    </tr>\n",
       "    <tr>\n",
       "      <th>2013-01-03</th>\n",
       "      <td>0.145842</td>\n",
       "      <td>1.415263</td>\n",
       "      <td>-1.316799</td>\n",
       "      <td>-1.012582</td>\n",
       "      <td>2.0</td>\n",
       "      <td>2</td>\n",
       "    </tr>\n",
       "    <tr>\n",
       "      <th>2013-01-04</th>\n",
       "      <td>-0.253842</td>\n",
       "      <td>0.717310</td>\n",
       "      <td>-0.055747</td>\n",
       "      <td>1.370508</td>\n",
       "      <td>3.0</td>\n",
       "      <td>2</td>\n",
       "    </tr>\n",
       "    <tr>\n",
       "      <th>2013-01-05</th>\n",
       "      <td>0.450011</td>\n",
       "      <td>-0.595195</td>\n",
       "      <td>-1.245341</td>\n",
       "      <td>0.070871</td>\n",
       "      <td>4.0</td>\n",
       "      <td>2</td>\n",
       "    </tr>\n",
       "    <tr>\n",
       "      <th>2013-01-06</th>\n",
       "      <td>-0.610481</td>\n",
       "      <td>-1.037584</td>\n",
       "      <td>0.153704</td>\n",
       "      <td>-0.096396</td>\n",
       "      <td>5.0</td>\n",
       "      <td>2</td>\n",
       "    </tr>\n",
       "  </tbody>\n",
       "</table>\n",
       "</div>"
      ],
      "text/plain": [
       "                   A         B         C         D    F  (0, 1)\n",
       "2013-01-01  0.000000  0.711115 -0.301445  1.093052  NaN       2\n",
       "2013-01-02 -0.888552 -1.156323  0.707345  1.806901  1.0       2\n",
       "2013-01-03  0.145842  1.415263 -1.316799 -1.012582  2.0       2\n",
       "2013-01-04 -0.253842  0.717310 -0.055747  1.370508  3.0       2\n",
       "2013-01-05  0.450011 -0.595195 -1.245341  0.070871  4.0       2\n",
       "2013-01-06 -0.610481 -1.037584  0.153704 -0.096396  5.0       2"
      ]
     },
     "execution_count": 59,
     "metadata": {},
     "output_type": "execute_result"
    }
   ],
   "source": []
  },
  {
   "cell_type": "code",
   "execution_count": 67,
   "metadata": {
    "collapsed": false
   },
   "outputs": [
    {
     "data": {
      "text/plain": [
       "Index(['A', 'B', 'C', 'D', 'F', (0, 1)], dtype='object')"
      ]
     },
     "execution_count": 67,
     "metadata": {},
     "output_type": "execute_result"
    }
   ],
   "source": [
    "df.columns"
   ]
  },
  {
   "cell_type": "code",
   "execution_count": 75,
   "metadata": {
    "collapsed": false
   },
   "outputs": [
    {
     "data": {
      "text/html": [
       "<div>\n",
       "<table border=\"1\" class=\"dataframe\">\n",
       "  <thead>\n",
       "    <tr style=\"text-align: right;\">\n",
       "      <th></th>\n",
       "      <th>A</th>\n",
       "      <th>B</th>\n",
       "      <th>C</th>\n",
       "      <th>D</th>\n",
       "      <th>F</th>\n",
       "    </tr>\n",
       "  </thead>\n",
       "  <tbody>\n",
       "    <tr>\n",
       "      <th>2013-01-01</th>\n",
       "      <td>0.000000</td>\n",
       "      <td>0.711115</td>\n",
       "      <td>-0.301445</td>\n",
       "      <td>1.093052</td>\n",
       "      <td>NaN</td>\n",
       "    </tr>\n",
       "    <tr>\n",
       "      <th>2013-01-02</th>\n",
       "      <td>-0.888552</td>\n",
       "      <td>-1.156323</td>\n",
       "      <td>0.707345</td>\n",
       "      <td>1.806901</td>\n",
       "      <td>1.0</td>\n",
       "    </tr>\n",
       "    <tr>\n",
       "      <th>2013-01-03</th>\n",
       "      <td>0.145842</td>\n",
       "      <td>1.415263</td>\n",
       "      <td>-1.316799</td>\n",
       "      <td>-1.012582</td>\n",
       "      <td>2.0</td>\n",
       "    </tr>\n",
       "    <tr>\n",
       "      <th>2013-01-04</th>\n",
       "      <td>-0.253842</td>\n",
       "      <td>0.717310</td>\n",
       "      <td>-0.055747</td>\n",
       "      <td>1.370508</td>\n",
       "      <td>3.0</td>\n",
       "    </tr>\n",
       "    <tr>\n",
       "      <th>2013-01-05</th>\n",
       "      <td>0.450011</td>\n",
       "      <td>-0.595195</td>\n",
       "      <td>-1.245341</td>\n",
       "      <td>0.070871</td>\n",
       "      <td>4.0</td>\n",
       "    </tr>\n",
       "    <tr>\n",
       "      <th>2013-01-06</th>\n",
       "      <td>-0.610481</td>\n",
       "      <td>-1.037584</td>\n",
       "      <td>0.153704</td>\n",
       "      <td>-0.096396</td>\n",
       "      <td>5.0</td>\n",
       "    </tr>\n",
       "  </tbody>\n",
       "</table>\n",
       "</div>"
      ],
      "text/plain": [
       "                   A         B         C         D    F\n",
       "2013-01-01  0.000000  0.711115 -0.301445  1.093052  NaN\n",
       "2013-01-02 -0.888552 -1.156323  0.707345  1.806901  1.0\n",
       "2013-01-03  0.145842  1.415263 -1.316799 -1.012582  2.0\n",
       "2013-01-04 -0.253842  0.717310 -0.055747  1.370508  3.0\n",
       "2013-01-05  0.450011 -0.595195 -1.245341  0.070871  4.0\n",
       "2013-01-06 -0.610481 -1.037584  0.153704 -0.096396  5.0"
      ]
     },
     "execution_count": 75,
     "metadata": {},
     "output_type": "execute_result"
    }
   ],
   "source": [
    "df.drop(df.columns[5],axis=1)"
   ]
  },
  {
   "cell_type": "code",
   "execution_count": 76,
   "metadata": {
    "collapsed": false
   },
   "outputs": [
    {
     "data": {
      "text/plain": [
       "6"
      ]
     },
     "execution_count": 76,
     "metadata": {},
     "output_type": "execute_result"
    }
   ],
   "source": [
    "len(df)"
   ]
  },
  {
   "cell_type": "code",
   "execution_count": 77,
   "metadata": {
    "collapsed": false
   },
   "outputs": [
    {
     "data": {
      "text/plain": [
       "36"
      ]
     },
     "execution_count": 77,
     "metadata": {},
     "output_type": "execute_result"
    }
   ],
   "source": [
    "df.size"
   ]
  },
  {
   "cell_type": "code",
   "execution_count": 78,
   "metadata": {
    "collapsed": false
   },
   "outputs": [
    {
     "data": {
      "text/plain": [
       "(6, 6)"
      ]
     },
     "execution_count": 78,
     "metadata": {},
     "output_type": "execute_result"
    }
   ],
   "source": [
    "df.shape"
   ]
  },
  {
   "cell_type": "code",
   "execution_count": 83,
   "metadata": {
    "collapsed": false
   },
   "outputs": [],
   "source": [
    "df=df.drop('F',axis=1)"
   ]
  },
  {
   "cell_type": "code",
   "execution_count": 84,
   "metadata": {
    "collapsed": false
   },
   "outputs": [
    {
     "data": {
      "text/plain": [
       "6"
      ]
     },
     "execution_count": 84,
     "metadata": {},
     "output_type": "execute_result"
    }
   ],
   "source": [
    "len(df)"
   ]
  },
  {
   "cell_type": "code",
   "execution_count": 85,
   "metadata": {
    "collapsed": false
   },
   "outputs": [
    {
     "data": {
      "text/plain": [
       "(6, 5)"
      ]
     },
     "execution_count": 85,
     "metadata": {},
     "output_type": "execute_result"
    }
   ],
   "source": [
    "df.shape"
   ]
  },
  {
   "cell_type": "code",
   "execution_count": 86,
   "metadata": {
    "collapsed": true
   },
   "outputs": [],
   "source": [
    "df.loc[:,'D']=np.array([5])*len(df)"
   ]
  },
  {
   "cell_type": "code",
   "execution_count": 87,
   "metadata": {
    "collapsed": false
   },
   "outputs": [
    {
     "data": {
      "text/html": [
       "<div>\n",
       "<table border=\"1\" class=\"dataframe\">\n",
       "  <thead>\n",
       "    <tr style=\"text-align: right;\">\n",
       "      <th></th>\n",
       "      <th>A</th>\n",
       "      <th>B</th>\n",
       "      <th>C</th>\n",
       "      <th>D</th>\n",
       "      <th>(0, 1)</th>\n",
       "    </tr>\n",
       "  </thead>\n",
       "  <tbody>\n",
       "    <tr>\n",
       "      <th>2013-01-01</th>\n",
       "      <td>0.000000</td>\n",
       "      <td>0.711115</td>\n",
       "      <td>-0.301445</td>\n",
       "      <td>30</td>\n",
       "      <td>2</td>\n",
       "    </tr>\n",
       "    <tr>\n",
       "      <th>2013-01-02</th>\n",
       "      <td>-0.888552</td>\n",
       "      <td>-1.156323</td>\n",
       "      <td>0.707345</td>\n",
       "      <td>30</td>\n",
       "      <td>2</td>\n",
       "    </tr>\n",
       "    <tr>\n",
       "      <th>2013-01-03</th>\n",
       "      <td>0.145842</td>\n",
       "      <td>1.415263</td>\n",
       "      <td>-1.316799</td>\n",
       "      <td>30</td>\n",
       "      <td>2</td>\n",
       "    </tr>\n",
       "    <tr>\n",
       "      <th>2013-01-04</th>\n",
       "      <td>-0.253842</td>\n",
       "      <td>0.717310</td>\n",
       "      <td>-0.055747</td>\n",
       "      <td>30</td>\n",
       "      <td>2</td>\n",
       "    </tr>\n",
       "    <tr>\n",
       "      <th>2013-01-05</th>\n",
       "      <td>0.450011</td>\n",
       "      <td>-0.595195</td>\n",
       "      <td>-1.245341</td>\n",
       "      <td>30</td>\n",
       "      <td>2</td>\n",
       "    </tr>\n",
       "    <tr>\n",
       "      <th>2013-01-06</th>\n",
       "      <td>-0.610481</td>\n",
       "      <td>-1.037584</td>\n",
       "      <td>0.153704</td>\n",
       "      <td>30</td>\n",
       "      <td>2</td>\n",
       "    </tr>\n",
       "  </tbody>\n",
       "</table>\n",
       "</div>"
      ],
      "text/plain": [
       "                   A         B         C   D  (0, 1)\n",
       "2013-01-01  0.000000  0.711115 -0.301445  30       2\n",
       "2013-01-02 -0.888552 -1.156323  0.707345  30       2\n",
       "2013-01-03  0.145842  1.415263 -1.316799  30       2\n",
       "2013-01-04 -0.253842  0.717310 -0.055747  30       2\n",
       "2013-01-05  0.450011 -0.595195 -1.245341  30       2\n",
       "2013-01-06 -0.610481 -1.037584  0.153704  30       2"
      ]
     },
     "execution_count": 87,
     "metadata": {},
     "output_type": "execute_result"
    }
   ],
   "source": [
    "df"
   ]
  },
  {
   "cell_type": "code",
   "execution_count": 89,
   "metadata": {
    "collapsed": false
   },
   "outputs": [],
   "source": [
    "df1=df.reindex(index=dates[0:4],columns=list(df.columns)+['E'])"
   ]
  },
  {
   "cell_type": "code",
   "execution_count": 90,
   "metadata": {
    "collapsed": false
   },
   "outputs": [
    {
     "data": {
      "text/html": [
       "<div>\n",
       "<table border=\"1\" class=\"dataframe\">\n",
       "  <thead>\n",
       "    <tr style=\"text-align: right;\">\n",
       "      <th></th>\n",
       "      <th>A</th>\n",
       "      <th>B</th>\n",
       "      <th>C</th>\n",
       "      <th>D</th>\n",
       "      <th>(0, 1)</th>\n",
       "      <th>E</th>\n",
       "    </tr>\n",
       "  </thead>\n",
       "  <tbody>\n",
       "    <tr>\n",
       "      <th>2013-01-01</th>\n",
       "      <td>0.000000</td>\n",
       "      <td>0.711115</td>\n",
       "      <td>-0.301445</td>\n",
       "      <td>30</td>\n",
       "      <td>2</td>\n",
       "      <td>NaN</td>\n",
       "    </tr>\n",
       "    <tr>\n",
       "      <th>2013-01-02</th>\n",
       "      <td>-0.888552</td>\n",
       "      <td>-1.156323</td>\n",
       "      <td>0.707345</td>\n",
       "      <td>30</td>\n",
       "      <td>2</td>\n",
       "      <td>NaN</td>\n",
       "    </tr>\n",
       "    <tr>\n",
       "      <th>2013-01-03</th>\n",
       "      <td>0.145842</td>\n",
       "      <td>1.415263</td>\n",
       "      <td>-1.316799</td>\n",
       "      <td>30</td>\n",
       "      <td>2</td>\n",
       "      <td>NaN</td>\n",
       "    </tr>\n",
       "    <tr>\n",
       "      <th>2013-01-04</th>\n",
       "      <td>-0.253842</td>\n",
       "      <td>0.717310</td>\n",
       "      <td>-0.055747</td>\n",
       "      <td>30</td>\n",
       "      <td>2</td>\n",
       "      <td>NaN</td>\n",
       "    </tr>\n",
       "  </tbody>\n",
       "</table>\n",
       "</div>"
      ],
      "text/plain": [
       "                   A         B         C   D  (0, 1)   E\n",
       "2013-01-01  0.000000  0.711115 -0.301445  30       2 NaN\n",
       "2013-01-02 -0.888552 -1.156323  0.707345  30       2 NaN\n",
       "2013-01-03  0.145842  1.415263 -1.316799  30       2 NaN\n",
       "2013-01-04 -0.253842  0.717310 -0.055747  30       2 NaN"
      ]
     },
     "execution_count": 90,
     "metadata": {},
     "output_type": "execute_result"
    }
   ],
   "source": [
    "df1"
   ]
  },
  {
   "cell_type": "code",
   "execution_count": 99,
   "metadata": {
    "collapsed": false
   },
   "outputs": [],
   "source": [
    "df1=df1.drop(df1.columns[[4]],axis=1)"
   ]
  },
  {
   "cell_type": "code",
   "execution_count": 97,
   "metadata": {
    "collapsed": false
   },
   "outputs": [
    {
     "data": {
      "text/html": [
       "<div>\n",
       "<table border=\"1\" class=\"dataframe\">\n",
       "  <thead>\n",
       "    <tr style=\"text-align: right;\">\n",
       "      <th></th>\n",
       "      <th>A</th>\n",
       "      <th>B</th>\n",
       "      <th>C</th>\n",
       "      <th>D</th>\n",
       "      <th>(0, 1)</th>\n",
       "      <th>E</th>\n",
       "    </tr>\n",
       "  </thead>\n",
       "  <tbody>\n",
       "    <tr>\n",
       "      <th>2013-01-01</th>\n",
       "      <td>0.000000</td>\n",
       "      <td>0.711115</td>\n",
       "      <td>-0.301445</td>\n",
       "      <td>30</td>\n",
       "      <td>2</td>\n",
       "      <td>NaN</td>\n",
       "    </tr>\n",
       "    <tr>\n",
       "      <th>2013-01-02</th>\n",
       "      <td>-0.888552</td>\n",
       "      <td>-1.156323</td>\n",
       "      <td>0.707345</td>\n",
       "      <td>30</td>\n",
       "      <td>2</td>\n",
       "      <td>NaN</td>\n",
       "    </tr>\n",
       "    <tr>\n",
       "      <th>2013-01-03</th>\n",
       "      <td>0.145842</td>\n",
       "      <td>1.415263</td>\n",
       "      <td>-1.316799</td>\n",
       "      <td>30</td>\n",
       "      <td>2</td>\n",
       "      <td>NaN</td>\n",
       "    </tr>\n",
       "    <tr>\n",
       "      <th>2013-01-04</th>\n",
       "      <td>-0.253842</td>\n",
       "      <td>0.717310</td>\n",
       "      <td>-0.055747</td>\n",
       "      <td>30</td>\n",
       "      <td>2</td>\n",
       "      <td>NaN</td>\n",
       "    </tr>\n",
       "  </tbody>\n",
       "</table>\n",
       "</div>"
      ],
      "text/plain": [
       "                   A         B         C   D  (0, 1)   E\n",
       "2013-01-01  0.000000  0.711115 -0.301445  30       2 NaN\n",
       "2013-01-02 -0.888552 -1.156323  0.707345  30       2 NaN\n",
       "2013-01-03  0.145842  1.415263 -1.316799  30       2 NaN\n",
       "2013-01-04 -0.253842  0.717310 -0.055747  30       2 NaN"
      ]
     },
     "execution_count": 97,
     "metadata": {},
     "output_type": "execute_result"
    }
   ],
   "source": []
  },
  {
   "cell_type": "code",
   "execution_count": 101,
   "metadata": {
    "collapsed": false
   },
   "outputs": [
    {
     "data": {
      "text/html": [
       "<div>\n",
       "<table border=\"1\" class=\"dataframe\">\n",
       "  <thead>\n",
       "    <tr style=\"text-align: right;\">\n",
       "      <th></th>\n",
       "      <th>A</th>\n",
       "      <th>B</th>\n",
       "      <th>C</th>\n",
       "      <th>D</th>\n",
       "      <th>E</th>\n",
       "    </tr>\n",
       "  </thead>\n",
       "  <tbody>\n",
       "    <tr>\n",
       "      <th>2013-01-01</th>\n",
       "      <td>0.000000</td>\n",
       "      <td>0.711115</td>\n",
       "      <td>-0.301445</td>\n",
       "      <td>30</td>\n",
       "      <td>5.0</td>\n",
       "    </tr>\n",
       "    <tr>\n",
       "      <th>2013-01-02</th>\n",
       "      <td>-0.888552</td>\n",
       "      <td>-1.156323</td>\n",
       "      <td>0.707345</td>\n",
       "      <td>30</td>\n",
       "      <td>5.0</td>\n",
       "    </tr>\n",
       "    <tr>\n",
       "      <th>2013-01-03</th>\n",
       "      <td>0.145842</td>\n",
       "      <td>1.415263</td>\n",
       "      <td>-1.316799</td>\n",
       "      <td>30</td>\n",
       "      <td>5.0</td>\n",
       "    </tr>\n",
       "    <tr>\n",
       "      <th>2013-01-04</th>\n",
       "      <td>-0.253842</td>\n",
       "      <td>0.717310</td>\n",
       "      <td>-0.055747</td>\n",
       "      <td>30</td>\n",
       "      <td>5.0</td>\n",
       "    </tr>\n",
       "  </tbody>\n",
       "</table>\n",
       "</div>"
      ],
      "text/plain": [
       "                   A         B         C   D    E\n",
       "2013-01-01  0.000000  0.711115 -0.301445  30  5.0\n",
       "2013-01-02 -0.888552 -1.156323  0.707345  30  5.0\n",
       "2013-01-03  0.145842  1.415263 -1.316799  30  5.0\n",
       "2013-01-04 -0.253842  0.717310 -0.055747  30  5.0"
      ]
     },
     "execution_count": 101,
     "metadata": {},
     "output_type": "execute_result"
    }
   ],
   "source": [
    "df1.fillna(value=5)"
   ]
  },
  {
   "cell_type": "code",
   "execution_count": 102,
   "metadata": {
    "collapsed": false
   },
   "outputs": [
    {
     "data": {
      "text/plain": [
       "A         -0.192837\n",
       "B          0.009098\n",
       "C         -0.343047\n",
       "D         30.000000\n",
       "(0, 1)     2.000000\n",
       "dtype: float64"
      ]
     },
     "execution_count": 102,
     "metadata": {},
     "output_type": "execute_result"
    }
   ],
   "source": [
    "df.mean()"
   ]
  },
  {
   "cell_type": "code",
   "execution_count": 103,
   "metadata": {
    "collapsed": false
   },
   "outputs": [
    {
     "data": {
      "text/plain": [
       "2013-01-01    6.481934\n",
       "2013-01-02    6.132494\n",
       "2013-01-03    6.448861\n",
       "2013-01-04    6.481544\n",
       "2013-01-05    6.121895\n",
       "2013-01-06    6.101128\n",
       "Freq: D, dtype: float64"
      ]
     },
     "execution_count": 103,
     "metadata": {},
     "output_type": "execute_result"
    }
   ],
   "source": [
    "df.mean(1)"
   ]
  },
  {
   "cell_type": "code",
   "execution_count": 104,
   "metadata": {
    "collapsed": false
   },
   "outputs": [
    {
     "data": {
      "text/plain": [
       "A         -0.192837\n",
       "B          0.009098\n",
       "C         -0.343047\n",
       "D         30.000000\n",
       "(0, 1)     2.000000\n",
       "dtype: float64"
      ]
     },
     "execution_count": 104,
     "metadata": {},
     "output_type": "execute_result"
    }
   ],
   "source": [
    "df.mean(0)"
   ]
  },
  {
   "cell_type": "code",
   "execution_count": 105,
   "metadata": {
    "collapsed": false
   },
   "outputs": [
    {
     "data": {
      "text/html": [
       "<div>\n",
       "<table border=\"1\" class=\"dataframe\">\n",
       "  <thead>\n",
       "    <tr style=\"text-align: right;\">\n",
       "      <th></th>\n",
       "      <th>A</th>\n",
       "      <th>B</th>\n",
       "      <th>C</th>\n",
       "      <th>D</th>\n",
       "      <th>(0, 1)</th>\n",
       "    </tr>\n",
       "  </thead>\n",
       "  <tbody>\n",
       "    <tr>\n",
       "      <th>2013-01-01</th>\n",
       "      <td>0.000000</td>\n",
       "      <td>0.711115</td>\n",
       "      <td>-0.301445</td>\n",
       "      <td>30</td>\n",
       "      <td>2</td>\n",
       "    </tr>\n",
       "    <tr>\n",
       "      <th>2013-01-02</th>\n",
       "      <td>-0.888552</td>\n",
       "      <td>-0.445208</td>\n",
       "      <td>0.405900</td>\n",
       "      <td>60</td>\n",
       "      <td>4</td>\n",
       "    </tr>\n",
       "    <tr>\n",
       "      <th>2013-01-03</th>\n",
       "      <td>-0.742711</td>\n",
       "      <td>0.970054</td>\n",
       "      <td>-0.910899</td>\n",
       "      <td>90</td>\n",
       "      <td>6</td>\n",
       "    </tr>\n",
       "    <tr>\n",
       "      <th>2013-01-04</th>\n",
       "      <td>-0.996553</td>\n",
       "      <td>1.687364</td>\n",
       "      <td>-0.966646</td>\n",
       "      <td>120</td>\n",
       "      <td>8</td>\n",
       "    </tr>\n",
       "    <tr>\n",
       "      <th>2013-01-05</th>\n",
       "      <td>-0.546542</td>\n",
       "      <td>1.092170</td>\n",
       "      <td>-2.211987</td>\n",
       "      <td>150</td>\n",
       "      <td>10</td>\n",
       "    </tr>\n",
       "    <tr>\n",
       "      <th>2013-01-06</th>\n",
       "      <td>-1.157023</td>\n",
       "      <td>0.054586</td>\n",
       "      <td>-2.058283</td>\n",
       "      <td>180</td>\n",
       "      <td>12</td>\n",
       "    </tr>\n",
       "  </tbody>\n",
       "</table>\n",
       "</div>"
      ],
      "text/plain": [
       "                   A         B         C    D  (0, 1)\n",
       "2013-01-01  0.000000  0.711115 -0.301445   30       2\n",
       "2013-01-02 -0.888552 -0.445208  0.405900   60       4\n",
       "2013-01-03 -0.742711  0.970054 -0.910899   90       6\n",
       "2013-01-04 -0.996553  1.687364 -0.966646  120       8\n",
       "2013-01-05 -0.546542  1.092170 -2.211987  150      10\n",
       "2013-01-06 -1.157023  0.054586 -2.058283  180      12"
      ]
     },
     "execution_count": 105,
     "metadata": {},
     "output_type": "execute_result"
    }
   ],
   "source": [
    "df.apply(np.cumsum)"
   ]
  },
  {
   "cell_type": "code",
   "execution_count": 106,
   "metadata": {
    "collapsed": false
   },
   "outputs": [
    {
     "data": {
      "text/html": [
       "<div>\n",
       "<table border=\"1\" class=\"dataframe\">\n",
       "  <thead>\n",
       "    <tr style=\"text-align: right;\">\n",
       "      <th></th>\n",
       "      <th>A</th>\n",
       "      <th>B</th>\n",
       "      <th>C</th>\n",
       "      <th>D</th>\n",
       "      <th>(0, 1)</th>\n",
       "    </tr>\n",
       "  </thead>\n",
       "  <tbody>\n",
       "    <tr>\n",
       "      <th>2013-01-01</th>\n",
       "      <td>0.000000</td>\n",
       "      <td>0.711115</td>\n",
       "      <td>-0.301445</td>\n",
       "      <td>30</td>\n",
       "      <td>2</td>\n",
       "    </tr>\n",
       "    <tr>\n",
       "      <th>2013-01-02</th>\n",
       "      <td>-0.888552</td>\n",
       "      <td>-1.156323</td>\n",
       "      <td>0.707345</td>\n",
       "      <td>30</td>\n",
       "      <td>2</td>\n",
       "    </tr>\n",
       "    <tr>\n",
       "      <th>2013-01-03</th>\n",
       "      <td>0.145842</td>\n",
       "      <td>1.415263</td>\n",
       "      <td>-1.316799</td>\n",
       "      <td>30</td>\n",
       "      <td>2</td>\n",
       "    </tr>\n",
       "    <tr>\n",
       "      <th>2013-01-04</th>\n",
       "      <td>-0.253842</td>\n",
       "      <td>0.717310</td>\n",
       "      <td>-0.055747</td>\n",
       "      <td>30</td>\n",
       "      <td>2</td>\n",
       "    </tr>\n",
       "    <tr>\n",
       "      <th>2013-01-05</th>\n",
       "      <td>0.450011</td>\n",
       "      <td>-0.595195</td>\n",
       "      <td>-1.245341</td>\n",
       "      <td>30</td>\n",
       "      <td>2</td>\n",
       "    </tr>\n",
       "    <tr>\n",
       "      <th>2013-01-06</th>\n",
       "      <td>-0.610481</td>\n",
       "      <td>-1.037584</td>\n",
       "      <td>0.153704</td>\n",
       "      <td>30</td>\n",
       "      <td>2</td>\n",
       "    </tr>\n",
       "  </tbody>\n",
       "</table>\n",
       "</div>"
      ],
      "text/plain": [
       "                   A         B         C   D  (0, 1)\n",
       "2013-01-01  0.000000  0.711115 -0.301445  30       2\n",
       "2013-01-02 -0.888552 -1.156323  0.707345  30       2\n",
       "2013-01-03  0.145842  1.415263 -1.316799  30       2\n",
       "2013-01-04 -0.253842  0.717310 -0.055747  30       2\n",
       "2013-01-05  0.450011 -0.595195 -1.245341  30       2\n",
       "2013-01-06 -0.610481 -1.037584  0.153704  30       2"
      ]
     },
     "execution_count": 106,
     "metadata": {},
     "output_type": "execute_result"
    }
   ],
   "source": [
    "df"
   ]
  },
  {
   "cell_type": "code",
   "execution_count": 107,
   "metadata": {
    "collapsed": false
   },
   "outputs": [
    {
     "data": {
      "text/plain": [
       "A         1.338564\n",
       "B         2.571586\n",
       "C         2.024144\n",
       "D         0.000000\n",
       "(0, 1)    0.000000\n",
       "dtype: float64"
      ]
     },
     "execution_count": 107,
     "metadata": {},
     "output_type": "execute_result"
    }
   ],
   "source": [
    "df.apply(lambda x: x.max()-x.min())"
   ]
  },
  {
   "cell_type": "code",
   "execution_count": 108,
   "metadata": {
    "collapsed": true
   },
   "outputs": [],
   "source": [
    "s=pd.Series(np.random.randint(0,7,size=10))"
   ]
  },
  {
   "cell_type": "code",
   "execution_count": 109,
   "metadata": {
    "collapsed": false
   },
   "outputs": [
    {
     "data": {
      "text/plain": [
       "0    1\n",
       "1    3\n",
       "2    0\n",
       "3    6\n",
       "4    5\n",
       "5    3\n",
       "6    6\n",
       "7    5\n",
       "8    0\n",
       "9    1\n",
       "dtype: int32"
      ]
     },
     "execution_count": 109,
     "metadata": {},
     "output_type": "execute_result"
    }
   ],
   "source": [
    "s"
   ]
  },
  {
   "cell_type": "code",
   "execution_count": 110,
   "metadata": {
    "collapsed": false
   },
   "outputs": [
    {
     "data": {
      "text/plain": [
       "6    2\n",
       "5    2\n",
       "3    2\n",
       "1    2\n",
       "0    2\n",
       "dtype: int64"
      ]
     },
     "execution_count": 110,
     "metadata": {},
     "output_type": "execute_result"
    }
   ],
   "source": [
    "s.value_counts()"
   ]
  },
  {
   "cell_type": "code",
   "execution_count": 111,
   "metadata": {
    "collapsed": true
   },
   "outputs": [],
   "source": [
    "df=pd.DataFrame(np.random.randn(10,4))"
   ]
  },
  {
   "cell_type": "code",
   "execution_count": 112,
   "metadata": {
    "collapsed": false
   },
   "outputs": [
    {
     "data": {
      "text/plain": [
       "0    0.092072\n",
       "1   -0.092291\n",
       "2   -0.502588\n",
       "3   -0.509188\n",
       "4    1.551916\n",
       "5    0.189781\n",
       "6   -0.699535\n",
       "7   -1.110283\n",
       "8   -0.325092\n",
       "9    0.826850\n",
       "Name: 3, dtype: float64"
      ]
     },
     "execution_count": 112,
     "metadata": {},
     "output_type": "execute_result"
    }
   ],
   "source": [
    "df[3]"
   ]
  },
  {
   "cell_type": "code",
   "execution_count": 113,
   "metadata": {
    "collapsed": false
   },
   "outputs": [
    {
     "data": {
      "text/html": [
       "<div>\n",
       "<table border=\"1\" class=\"dataframe\">\n",
       "  <thead>\n",
       "    <tr style=\"text-align: right;\">\n",
       "      <th></th>\n",
       "      <th>0</th>\n",
       "      <th>1</th>\n",
       "      <th>2</th>\n",
       "      <th>3</th>\n",
       "    </tr>\n",
       "  </thead>\n",
       "  <tbody>\n",
       "    <tr>\n",
       "      <th>0</th>\n",
       "      <td>-0.338590</td>\n",
       "      <td>-0.178611</td>\n",
       "      <td>-0.187444</td>\n",
       "      <td>0.092072</td>\n",
       "    </tr>\n",
       "    <tr>\n",
       "      <th>1</th>\n",
       "      <td>-0.625749</td>\n",
       "      <td>1.298622</td>\n",
       "      <td>-1.800861</td>\n",
       "      <td>-0.092291</td>\n",
       "    </tr>\n",
       "    <tr>\n",
       "      <th>2</th>\n",
       "      <td>0.107825</td>\n",
       "      <td>0.052604</td>\n",
       "      <td>-0.224988</td>\n",
       "      <td>-0.502588</td>\n",
       "    </tr>\n",
       "    <tr>\n",
       "      <th>3</th>\n",
       "      <td>0.218672</td>\n",
       "      <td>2.487082</td>\n",
       "      <td>1.207109</td>\n",
       "      <td>-0.509188</td>\n",
       "    </tr>\n",
       "    <tr>\n",
       "      <th>4</th>\n",
       "      <td>0.113818</td>\n",
       "      <td>0.369856</td>\n",
       "      <td>-0.393570</td>\n",
       "      <td>1.551916</td>\n",
       "    </tr>\n",
       "    <tr>\n",
       "      <th>5</th>\n",
       "      <td>-1.090941</td>\n",
       "      <td>-0.159247</td>\n",
       "      <td>0.614414</td>\n",
       "      <td>0.189781</td>\n",
       "    </tr>\n",
       "    <tr>\n",
       "      <th>6</th>\n",
       "      <td>-1.020268</td>\n",
       "      <td>-0.442827</td>\n",
       "      <td>-0.722590</td>\n",
       "      <td>-0.699535</td>\n",
       "    </tr>\n",
       "    <tr>\n",
       "      <th>7</th>\n",
       "      <td>-1.020021</td>\n",
       "      <td>-1.024972</td>\n",
       "      <td>0.794435</td>\n",
       "      <td>-1.110283</td>\n",
       "    </tr>\n",
       "    <tr>\n",
       "      <th>8</th>\n",
       "      <td>-1.446557</td>\n",
       "      <td>0.754428</td>\n",
       "      <td>-0.505389</td>\n",
       "      <td>-0.325092</td>\n",
       "    </tr>\n",
       "    <tr>\n",
       "      <th>9</th>\n",
       "      <td>0.428043</td>\n",
       "      <td>1.141786</td>\n",
       "      <td>1.453809</td>\n",
       "      <td>0.826850</td>\n",
       "    </tr>\n",
       "  </tbody>\n",
       "</table>\n",
       "</div>"
      ],
      "text/plain": [
       "          0         1         2         3\n",
       "0 -0.338590 -0.178611 -0.187444  0.092072\n",
       "1 -0.625749  1.298622 -1.800861 -0.092291\n",
       "2  0.107825  0.052604 -0.224988 -0.502588\n",
       "3  0.218672  2.487082  1.207109 -0.509188\n",
       "4  0.113818  0.369856 -0.393570  1.551916\n",
       "5 -1.090941 -0.159247  0.614414  0.189781\n",
       "6 -1.020268 -0.442827 -0.722590 -0.699535\n",
       "7 -1.020021 -1.024972  0.794435 -1.110283\n",
       "8 -1.446557  0.754428 -0.505389 -0.325092\n",
       "9  0.428043  1.141786  1.453809  0.826850"
      ]
     },
     "execution_count": 113,
     "metadata": {},
     "output_type": "execute_result"
    }
   ],
   "source": [
    "df"
   ]
  },
  {
   "cell_type": "code",
   "execution_count": 114,
   "metadata": {
    "collapsed": false
   },
   "outputs": [
    {
     "data": {
      "text/plain": [
       "0   -0.338590\n",
       "1   -0.625749\n",
       "2    0.107825\n",
       "3    0.218672\n",
       "4    0.113818\n",
       "5   -1.090941\n",
       "6   -1.020268\n",
       "7   -1.020021\n",
       "8   -1.446557\n",
       "9    0.428043\n",
       "Name: 0, dtype: float64"
      ]
     },
     "execution_count": 114,
     "metadata": {},
     "output_type": "execute_result"
    }
   ],
   "source": [
    "df[0]"
   ]
  },
  {
   "cell_type": "code",
   "execution_count": 115,
   "metadata": {
    "collapsed": false
   },
   "outputs": [
    {
     "data": {
      "text/html": [
       "<div>\n",
       "<table border=\"1\" class=\"dataframe\">\n",
       "  <thead>\n",
       "    <tr style=\"text-align: right;\">\n",
       "      <th></th>\n",
       "      <th>0</th>\n",
       "      <th>1</th>\n",
       "      <th>2</th>\n",
       "      <th>3</th>\n",
       "    </tr>\n",
       "  </thead>\n",
       "  <tbody>\n",
       "    <tr>\n",
       "      <th>0</th>\n",
       "      <td>-0.338590</td>\n",
       "      <td>-0.178611</td>\n",
       "      <td>-0.187444</td>\n",
       "      <td>0.092072</td>\n",
       "    </tr>\n",
       "    <tr>\n",
       "      <th>1</th>\n",
       "      <td>-0.625749</td>\n",
       "      <td>1.298622</td>\n",
       "      <td>-1.800861</td>\n",
       "      <td>-0.092291</td>\n",
       "    </tr>\n",
       "    <tr>\n",
       "      <th>2</th>\n",
       "      <td>0.107825</td>\n",
       "      <td>0.052604</td>\n",
       "      <td>-0.224988</td>\n",
       "      <td>-0.502588</td>\n",
       "    </tr>\n",
       "  </tbody>\n",
       "</table>\n",
       "</div>"
      ],
      "text/plain": [
       "          0         1         2         3\n",
       "0 -0.338590 -0.178611 -0.187444  0.092072\n",
       "1 -0.625749  1.298622 -1.800861 -0.092291\n",
       "2  0.107825  0.052604 -0.224988 -0.502588"
      ]
     },
     "execution_count": 115,
     "metadata": {},
     "output_type": "execute_result"
    }
   ],
   "source": [
    "df[0:3]"
   ]
  },
  {
   "cell_type": "code",
   "execution_count": 116,
   "metadata": {
    "collapsed": true
   },
   "outputs": [],
   "source": [
    "pieces=[df[:3],df[3:7]]"
   ]
  },
  {
   "cell_type": "code",
   "execution_count": 117,
   "metadata": {
    "collapsed": false
   },
   "outputs": [
    {
     "data": {
      "text/plain": [
       "[          0         1         2         3\n",
       " 0 -0.338590 -0.178611 -0.187444  0.092072\n",
       " 1 -0.625749  1.298622 -1.800861 -0.092291\n",
       " 2  0.107825  0.052604 -0.224988 -0.502588,\n",
       "           0         1         2         3\n",
       " 3  0.218672  2.487082  1.207109 -0.509188\n",
       " 4  0.113818  0.369856 -0.393570  1.551916\n",
       " 5 -1.090941 -0.159247  0.614414  0.189781\n",
       " 6 -1.020268 -0.442827 -0.722590 -0.699535]"
      ]
     },
     "execution_count": 117,
     "metadata": {},
     "output_type": "execute_result"
    }
   ],
   "source": [
    "pieces"
   ]
  },
  {
   "cell_type": "code",
   "execution_count": 119,
   "metadata": {
    "collapsed": false
   },
   "outputs": [
    {
     "data": {
      "text/plain": [
       "list"
      ]
     },
     "execution_count": 119,
     "metadata": {},
     "output_type": "execute_result"
    }
   ],
   "source": [
    "type(pieces)"
   ]
  },
  {
   "cell_type": "code",
   "execution_count": 120,
   "metadata": {
    "collapsed": false
   },
   "outputs": [
    {
     "data": {
      "text/html": [
       "<div>\n",
       "<table border=\"1\" class=\"dataframe\">\n",
       "  <thead>\n",
       "    <tr style=\"text-align: right;\">\n",
       "      <th></th>\n",
       "      <th>0</th>\n",
       "      <th>1</th>\n",
       "      <th>2</th>\n",
       "      <th>3</th>\n",
       "    </tr>\n",
       "  </thead>\n",
       "  <tbody>\n",
       "    <tr>\n",
       "      <th>0</th>\n",
       "      <td>-0.338590</td>\n",
       "      <td>-0.178611</td>\n",
       "      <td>-0.187444</td>\n",
       "      <td>0.092072</td>\n",
       "    </tr>\n",
       "    <tr>\n",
       "      <th>1</th>\n",
       "      <td>-0.625749</td>\n",
       "      <td>1.298622</td>\n",
       "      <td>-1.800861</td>\n",
       "      <td>-0.092291</td>\n",
       "    </tr>\n",
       "    <tr>\n",
       "      <th>2</th>\n",
       "      <td>0.107825</td>\n",
       "      <td>0.052604</td>\n",
       "      <td>-0.224988</td>\n",
       "      <td>-0.502588</td>\n",
       "    </tr>\n",
       "    <tr>\n",
       "      <th>3</th>\n",
       "      <td>0.218672</td>\n",
       "      <td>2.487082</td>\n",
       "      <td>1.207109</td>\n",
       "      <td>-0.509188</td>\n",
       "    </tr>\n",
       "    <tr>\n",
       "      <th>4</th>\n",
       "      <td>0.113818</td>\n",
       "      <td>0.369856</td>\n",
       "      <td>-0.393570</td>\n",
       "      <td>1.551916</td>\n",
       "    </tr>\n",
       "    <tr>\n",
       "      <th>5</th>\n",
       "      <td>-1.090941</td>\n",
       "      <td>-0.159247</td>\n",
       "      <td>0.614414</td>\n",
       "      <td>0.189781</td>\n",
       "    </tr>\n",
       "    <tr>\n",
       "      <th>6</th>\n",
       "      <td>-1.020268</td>\n",
       "      <td>-0.442827</td>\n",
       "      <td>-0.722590</td>\n",
       "      <td>-0.699535</td>\n",
       "    </tr>\n",
       "  </tbody>\n",
       "</table>\n",
       "</div>"
      ],
      "text/plain": [
       "          0         1         2         3\n",
       "0 -0.338590 -0.178611 -0.187444  0.092072\n",
       "1 -0.625749  1.298622 -1.800861 -0.092291\n",
       "2  0.107825  0.052604 -0.224988 -0.502588\n",
       "3  0.218672  2.487082  1.207109 -0.509188\n",
       "4  0.113818  0.369856 -0.393570  1.551916\n",
       "5 -1.090941 -0.159247  0.614414  0.189781\n",
       "6 -1.020268 -0.442827 -0.722590 -0.699535"
      ]
     },
     "execution_count": 120,
     "metadata": {},
     "output_type": "execute_result"
    }
   ],
   "source": [
    "pd.concat(pieces)"
   ]
  },
  {
   "cell_type": "code",
   "execution_count": 121,
   "metadata": {
    "collapsed": true
   },
   "outputs": [],
   "source": [
    "left=pd.DataFrame({'key':['foo','bar'],'lval':[1,2]})"
   ]
  },
  {
   "cell_type": "code",
   "execution_count": 122,
   "metadata": {
    "collapsed": true
   },
   "outputs": [],
   "source": [
    "right=pd.DataFrame({'key':['foo','bar'],'rval':[4,5]})"
   ]
  },
  {
   "cell_type": "code",
   "execution_count": 123,
   "metadata": {
    "collapsed": false
   },
   "outputs": [
    {
     "data": {
      "text/html": [
       "<div>\n",
       "<table border=\"1\" class=\"dataframe\">\n",
       "  <thead>\n",
       "    <tr style=\"text-align: right;\">\n",
       "      <th></th>\n",
       "      <th>key</th>\n",
       "      <th>lval</th>\n",
       "    </tr>\n",
       "  </thead>\n",
       "  <tbody>\n",
       "    <tr>\n",
       "      <th>0</th>\n",
       "      <td>foo</td>\n",
       "      <td>1</td>\n",
       "    </tr>\n",
       "    <tr>\n",
       "      <th>1</th>\n",
       "      <td>bar</td>\n",
       "      <td>2</td>\n",
       "    </tr>\n",
       "  </tbody>\n",
       "</table>\n",
       "</div>"
      ],
      "text/plain": [
       "   key  lval\n",
       "0  foo     1\n",
       "1  bar     2"
      ]
     },
     "execution_count": 123,
     "metadata": {},
     "output_type": "execute_result"
    }
   ],
   "source": [
    "left"
   ]
  },
  {
   "cell_type": "code",
   "execution_count": 124,
   "metadata": {
    "collapsed": false
   },
   "outputs": [
    {
     "data": {
      "text/html": [
       "<div>\n",
       "<table border=\"1\" class=\"dataframe\">\n",
       "  <thead>\n",
       "    <tr style=\"text-align: right;\">\n",
       "      <th></th>\n",
       "      <th>key</th>\n",
       "      <th>rval</th>\n",
       "    </tr>\n",
       "  </thead>\n",
       "  <tbody>\n",
       "    <tr>\n",
       "      <th>0</th>\n",
       "      <td>foo</td>\n",
       "      <td>4</td>\n",
       "    </tr>\n",
       "    <tr>\n",
       "      <th>1</th>\n",
       "      <td>bar</td>\n",
       "      <td>5</td>\n",
       "    </tr>\n",
       "  </tbody>\n",
       "</table>\n",
       "</div>"
      ],
      "text/plain": [
       "   key  rval\n",
       "0  foo     4\n",
       "1  bar     5"
      ]
     },
     "execution_count": 124,
     "metadata": {},
     "output_type": "execute_result"
    }
   ],
   "source": [
    "right"
   ]
  },
  {
   "cell_type": "code",
   "execution_count": 125,
   "metadata": {
    "collapsed": false
   },
   "outputs": [
    {
     "data": {
      "text/html": [
       "<div>\n",
       "<table border=\"1\" class=\"dataframe\">\n",
       "  <thead>\n",
       "    <tr style=\"text-align: right;\">\n",
       "      <th></th>\n",
       "      <th>key</th>\n",
       "      <th>lval</th>\n",
       "      <th>rval</th>\n",
       "    </tr>\n",
       "  </thead>\n",
       "  <tbody>\n",
       "    <tr>\n",
       "      <th>0</th>\n",
       "      <td>foo</td>\n",
       "      <td>1</td>\n",
       "      <td>4</td>\n",
       "    </tr>\n",
       "    <tr>\n",
       "      <th>1</th>\n",
       "      <td>bar</td>\n",
       "      <td>2</td>\n",
       "      <td>5</td>\n",
       "    </tr>\n",
       "  </tbody>\n",
       "</table>\n",
       "</div>"
      ],
      "text/plain": [
       "   key  lval  rval\n",
       "0  foo     1     4\n",
       "1  bar     2     5"
      ]
     },
     "execution_count": 125,
     "metadata": {},
     "output_type": "execute_result"
    }
   ],
   "source": [
    "pd.merge(left,right,on='key')"
   ]
  },
  {
   "cell_type": "code",
   "execution_count": 126,
   "metadata": {
    "collapsed": false
   },
   "outputs": [
    {
     "data": {
      "text/html": [
       "<div>\n",
       "<table border=\"1\" class=\"dataframe\">\n",
       "  <thead>\n",
       "    <tr style=\"text-align: right;\">\n",
       "      <th></th>\n",
       "      <th>key</th>\n",
       "      <th>rval</th>\n",
       "      <th>lval</th>\n",
       "    </tr>\n",
       "  </thead>\n",
       "  <tbody>\n",
       "    <tr>\n",
       "      <th>0</th>\n",
       "      <td>foo</td>\n",
       "      <td>4</td>\n",
       "      <td>1</td>\n",
       "    </tr>\n",
       "    <tr>\n",
       "      <th>1</th>\n",
       "      <td>bar</td>\n",
       "      <td>5</td>\n",
       "      <td>2</td>\n",
       "    </tr>\n",
       "  </tbody>\n",
       "</table>\n",
       "</div>"
      ],
      "text/plain": [
       "   key  rval  lval\n",
       "0  foo     4     1\n",
       "1  bar     5     2"
      ]
     },
     "execution_count": 126,
     "metadata": {},
     "output_type": "execute_result"
    }
   ],
   "source": [
    "pd.merge(right,left,on='key')"
   ]
  },
  {
   "cell_type": "code",
   "execution_count": 127,
   "metadata": {
    "collapsed": true
   },
   "outputs": [],
   "source": [
    "df=pd.DataFrame(np.random.randn(8,4),columns=['A','B','C','D'])"
   ]
  },
  {
   "cell_type": "code",
   "execution_count": 128,
   "metadata": {
    "collapsed": false
   },
   "outputs": [
    {
     "data": {
      "text/html": [
       "<div>\n",
       "<table border=\"1\" class=\"dataframe\">\n",
       "  <thead>\n",
       "    <tr style=\"text-align: right;\">\n",
       "      <th></th>\n",
       "      <th>A</th>\n",
       "      <th>B</th>\n",
       "      <th>C</th>\n",
       "      <th>D</th>\n",
       "    </tr>\n",
       "  </thead>\n",
       "  <tbody>\n",
       "    <tr>\n",
       "      <th>0</th>\n",
       "      <td>1.146563</td>\n",
       "      <td>-0.726762</td>\n",
       "      <td>-1.207254</td>\n",
       "      <td>-1.990453</td>\n",
       "    </tr>\n",
       "    <tr>\n",
       "      <th>1</th>\n",
       "      <td>1.785822</td>\n",
       "      <td>-0.693601</td>\n",
       "      <td>-0.026304</td>\n",
       "      <td>0.540159</td>\n",
       "    </tr>\n",
       "    <tr>\n",
       "      <th>2</th>\n",
       "      <td>-1.163965</td>\n",
       "      <td>0.330671</td>\n",
       "      <td>0.409422</td>\n",
       "      <td>-0.445169</td>\n",
       "    </tr>\n",
       "    <tr>\n",
       "      <th>3</th>\n",
       "      <td>0.530510</td>\n",
       "      <td>-0.726916</td>\n",
       "      <td>-0.996262</td>\n",
       "      <td>1.369043</td>\n",
       "    </tr>\n",
       "    <tr>\n",
       "      <th>4</th>\n",
       "      <td>0.394400</td>\n",
       "      <td>-0.380252</td>\n",
       "      <td>-0.398945</td>\n",
       "      <td>0.791884</td>\n",
       "    </tr>\n",
       "    <tr>\n",
       "      <th>5</th>\n",
       "      <td>-1.391003</td>\n",
       "      <td>-0.962875</td>\n",
       "      <td>0.820515</td>\n",
       "      <td>0.241671</td>\n",
       "    </tr>\n",
       "    <tr>\n",
       "      <th>6</th>\n",
       "      <td>0.873743</td>\n",
       "      <td>0.362619</td>\n",
       "      <td>-0.429556</td>\n",
       "      <td>0.436877</td>\n",
       "    </tr>\n",
       "    <tr>\n",
       "      <th>7</th>\n",
       "      <td>-1.845930</td>\n",
       "      <td>-1.156438</td>\n",
       "      <td>-0.641318</td>\n",
       "      <td>0.041103</td>\n",
       "    </tr>\n",
       "  </tbody>\n",
       "</table>\n",
       "</div>"
      ],
      "text/plain": [
       "          A         B         C         D\n",
       "0  1.146563 -0.726762 -1.207254 -1.990453\n",
       "1  1.785822 -0.693601 -0.026304  0.540159\n",
       "2 -1.163965  0.330671  0.409422 -0.445169\n",
       "3  0.530510 -0.726916 -0.996262  1.369043\n",
       "4  0.394400 -0.380252 -0.398945  0.791884\n",
       "5 -1.391003 -0.962875  0.820515  0.241671\n",
       "6  0.873743  0.362619 -0.429556  0.436877\n",
       "7 -1.845930 -1.156438 -0.641318  0.041103"
      ]
     },
     "execution_count": 128,
     "metadata": {},
     "output_type": "execute_result"
    }
   ],
   "source": [
    "df"
   ]
  },
  {
   "cell_type": "code",
   "execution_count": 131,
   "metadata": {
    "collapsed": false
   },
   "outputs": [],
   "source": [
    "s=df.iloc[3]"
   ]
  },
  {
   "cell_type": "code",
   "execution_count": 132,
   "metadata": {
    "collapsed": false
   },
   "outputs": [
    {
     "data": {
      "text/plain": [
       "A    0.530510\n",
       "B   -0.726916\n",
       "C   -0.996262\n",
       "D    1.369043\n",
       "Name: 3, dtype: float64"
      ]
     },
     "execution_count": 132,
     "metadata": {},
     "output_type": "execute_result"
    }
   ],
   "source": [
    "s"
   ]
  },
  {
   "cell_type": "code",
   "execution_count": 133,
   "metadata": {
    "collapsed": false
   },
   "outputs": [
    {
     "data": {
      "text/plain": [
       "pandas.core.series.Series"
      ]
     },
     "execution_count": 133,
     "metadata": {},
     "output_type": "execute_result"
    }
   ],
   "source": [
    "type(s)"
   ]
  },
  {
   "cell_type": "code",
   "execution_count": 135,
   "metadata": {
    "collapsed": false
   },
   "outputs": [
    {
     "data": {
      "text/html": [
       "<div>\n",
       "<table border=\"1\" class=\"dataframe\">\n",
       "  <thead>\n",
       "    <tr style=\"text-align: right;\">\n",
       "      <th></th>\n",
       "      <th>A</th>\n",
       "      <th>B</th>\n",
       "      <th>C</th>\n",
       "      <th>D</th>\n",
       "    </tr>\n",
       "  </thead>\n",
       "  <tbody>\n",
       "    <tr>\n",
       "      <th>0</th>\n",
       "      <td>1.146563</td>\n",
       "      <td>-0.726762</td>\n",
       "      <td>-1.207254</td>\n",
       "      <td>-1.990453</td>\n",
       "    </tr>\n",
       "    <tr>\n",
       "      <th>1</th>\n",
       "      <td>1.785822</td>\n",
       "      <td>-0.693601</td>\n",
       "      <td>-0.026304</td>\n",
       "      <td>0.540159</td>\n",
       "    </tr>\n",
       "    <tr>\n",
       "      <th>2</th>\n",
       "      <td>-1.163965</td>\n",
       "      <td>0.330671</td>\n",
       "      <td>0.409422</td>\n",
       "      <td>-0.445169</td>\n",
       "    </tr>\n",
       "    <tr>\n",
       "      <th>3</th>\n",
       "      <td>0.530510</td>\n",
       "      <td>-0.726916</td>\n",
       "      <td>-0.996262</td>\n",
       "      <td>1.369043</td>\n",
       "    </tr>\n",
       "    <tr>\n",
       "      <th>4</th>\n",
       "      <td>0.394400</td>\n",
       "      <td>-0.380252</td>\n",
       "      <td>-0.398945</td>\n",
       "      <td>0.791884</td>\n",
       "    </tr>\n",
       "    <tr>\n",
       "      <th>5</th>\n",
       "      <td>-1.391003</td>\n",
       "      <td>-0.962875</td>\n",
       "      <td>0.820515</td>\n",
       "      <td>0.241671</td>\n",
       "    </tr>\n",
       "    <tr>\n",
       "      <th>6</th>\n",
       "      <td>0.873743</td>\n",
       "      <td>0.362619</td>\n",
       "      <td>-0.429556</td>\n",
       "      <td>0.436877</td>\n",
       "    </tr>\n",
       "    <tr>\n",
       "      <th>7</th>\n",
       "      <td>-1.845930</td>\n",
       "      <td>-1.156438</td>\n",
       "      <td>-0.641318</td>\n",
       "      <td>0.041103</td>\n",
       "    </tr>\n",
       "    <tr>\n",
       "      <th>8</th>\n",
       "      <td>0.530510</td>\n",
       "      <td>-0.726916</td>\n",
       "      <td>-0.996262</td>\n",
       "      <td>1.369043</td>\n",
       "    </tr>\n",
       "  </tbody>\n",
       "</table>\n",
       "</div>"
      ],
      "text/plain": [
       "          A         B         C         D\n",
       "0  1.146563 -0.726762 -1.207254 -1.990453\n",
       "1  1.785822 -0.693601 -0.026304  0.540159\n",
       "2 -1.163965  0.330671  0.409422 -0.445169\n",
       "3  0.530510 -0.726916 -0.996262  1.369043\n",
       "4  0.394400 -0.380252 -0.398945  0.791884\n",
       "5 -1.391003 -0.962875  0.820515  0.241671\n",
       "6  0.873743  0.362619 -0.429556  0.436877\n",
       "7 -1.845930 -1.156438 -0.641318  0.041103\n",
       "8  0.530510 -0.726916 -0.996262  1.369043"
      ]
     },
     "execution_count": 135,
     "metadata": {},
     "output_type": "execute_result"
    }
   ],
   "source": [
    "df.append(s,ignore_index=True)"
   ]
  },
  {
   "cell_type": "code",
   "execution_count": null,
   "metadata": {
    "collapsed": true
   },
   "outputs": [],
   "source": []
  }
 ],
 "metadata": {
  "kernelspec": {
   "display_name": "Python 3",
   "language": "python",
   "name": "python3"
  },
  "language_info": {
   "codemirror_mode": {
    "name": "ipython",
    "version": 3
   },
   "file_extension": ".py",
   "mimetype": "text/x-python",
   "name": "python",
   "nbconvert_exporter": "python",
   "pygments_lexer": "ipython3",
   "version": "3.6.0"
  }
 },
 "nbformat": 4,
 "nbformat_minor": 2
}
