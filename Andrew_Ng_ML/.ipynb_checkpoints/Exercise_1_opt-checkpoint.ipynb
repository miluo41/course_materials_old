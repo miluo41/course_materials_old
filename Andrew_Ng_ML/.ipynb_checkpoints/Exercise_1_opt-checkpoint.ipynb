{
 "cells": [
  {
   "cell_type": "code",
   "execution_count": 1,
   "metadata": {
    "collapsed": true
   },
   "outputs": [],
   "source": [
    "import numpy as np\n",
    "import matplotlib.pyplot as plt\n",
    "%matplotlib inline"
   ]
  },
  {
   "cell_type": "code",
   "execution_count": 5,
   "metadata": {
    "collapsed": true
   },
   "outputs": [],
   "source": [
    "my_data=np.loadtxt('ex1data2.txt',delimiter=',')\n",
    "m=my_data.shape[0]"
   ]
  },
  {
   "cell_type": "code",
   "execution_count": 40,
   "metadata": {
    "collapsed": true
   },
   "outputs": [],
   "source": [
    "def normalize(X):\n",
    "    n_col=X.shape[1]\n",
    "    Xc=X.copy()\n",
    "    for i in range(n_col):\n",
    "        Xc[:,i]=(Xc[:,i]-Xc[:,i].mean())/Xc[:,i].std()\n",
    "    return Xc\n",
    "    "
   ]
  },
  {
   "cell_type": "code",
   "execution_count": 42,
   "metadata": {},
   "outputs": [],
   "source": [
    "my_data_n=normalize(my_data)"
   ]
  },
  {
   "cell_type": "code",
   "execution_count": 47,
   "metadata": {},
   "outputs": [],
   "source": [
    "X=np.c_[np.ones((m,1)),my_data_n[:,[0,1]]]"
   ]
  },
  {
   "cell_type": "code",
   "execution_count": 51,
   "metadata": {},
   "outputs": [],
   "source": [
    "def compute_cost(X,theta):\n",
    "    m=X.shape[0]\n",
    "    res=np.dot(X,theta)-my_data_n[:,-1,np.newaxis]\n",
    "    return (res**2).sum()/(2*m)"
   ]
  },
  {
   "cell_type": "code",
   "execution_count": 52,
   "metadata": {
    "collapsed": true
   },
   "outputs": [],
   "source": [
    "theta=np.array([0,0,0]).reshape((3,1))"
   ]
  },
  {
   "cell_type": "code",
   "execution_count": 114,
   "metadata": {},
   "outputs": [],
   "source": [
    "def gradient_descent(X,y,theta,alpha,iterations):\n",
    "    J=[]\n",
    "    m=X.shape[0]\n",
    "    for i in range(iterations):\n",
    "        J.append(compute_cost(X,theta))\n",
    "        tmp=np.dot(X,theta)-y\n",
    "        for j in range(theta.shape[0]):\n",
    "            theta[j]=theta[j]-alpha/m*(tmp*X[:,j,np.newaxis]).sum()\n",
    "    return (J,theta)"
   ]
  },
  {
   "cell_type": "code",
   "execution_count": 121,
   "metadata": {},
   "outputs": [],
   "source": [
    "alpha=0.005\n",
    "theta=np.array([0,0,0],float).reshape((3,1))\n",
    "iterations=2000\n",
    "L=gradient_descent(X,my_data_n[:,-1,np.newaxis],theta,alpha,iterations)"
   ]
  },
  {
   "cell_type": "code",
   "execution_count": 122,
   "metadata": {},
   "outputs": [
    {
     "data": {
      "text/plain": [
       "array([[ -8.06594744e-17],\n",
       "       [  8.84758256e-01],\n",
       "       [ -5.31710877e-02]])"
      ]
     },
     "execution_count": 122,
     "metadata": {},
     "output_type": "execute_result"
    }
   ],
   "source": [
    "L[1]"
   ]
  },
  {
   "cell_type": "code",
   "execution_count": 124,
   "metadata": {},
   "outputs": [
    {
     "data": {
      "text/plain": [
       "0.13352749101196545"
      ]
     },
     "execution_count": 124,
     "metadata": {},
     "output_type": "execute_result"
    }
   ],
   "source": [
    "L[0][-1]"
   ]
  },
  {
   "cell_type": "code",
   "execution_count": null,
   "metadata": {
    "collapsed": true
   },
   "outputs": [],
   "source": []
  }
 ],
 "metadata": {
  "kernelspec": {
   "display_name": "Python 3",
   "language": "python",
   "name": "python3"
  },
  "language_info": {
   "codemirror_mode": {
    "name": "ipython",
    "version": 3
   },
   "file_extension": ".py",
   "mimetype": "text/x-python",
   "name": "python",
   "nbconvert_exporter": "python",
   "pygments_lexer": "ipython3",
   "version": "3.6.0"
  }
 },
 "nbformat": 4,
 "nbformat_minor": 2
}
