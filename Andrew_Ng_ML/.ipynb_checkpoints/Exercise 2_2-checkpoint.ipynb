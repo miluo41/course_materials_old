{
 "cells": [
  {
   "cell_type": "code",
   "execution_count": 1,
   "metadata": {
    "collapsed": true
   },
   "outputs": [],
   "source": [
    "import numpy as np\n",
    "import matplotlib.pyplot as plt\n",
    "import pandas as pd\n",
    "from scipy.optimize import minimize\n",
    "import seaborn as sns"
   ]
  },
  {
   "cell_type": "code",
   "execution_count": 2,
   "metadata": {
    "collapsed": true
   },
   "outputs": [],
   "source": [
    "%matplotlib inline"
   ]
  },
  {
   "cell_type": "code",
   "execution_count": 3,
   "metadata": {
    "collapsed": false
   },
   "outputs": [
    {
     "name": "stdout",
     "output_type": "stream",
     "text": [
      " Volume in drive C is TI10668700I\n",
      " Volume Serial Number is 2CE7-31D0\n",
      "\n",
      " Directory of C:\\Users\\miluo\\ML_A_Ng\n",
      "\n",
      "05/28/2017  02:51 PM    <DIR>          .\n",
      "05/28/2017  02:51 PM    <DIR>          ..\n",
      "05/27/2017  07:48 PM    <DIR>          .ipynb_checkpoints\n",
      "03/13/2017  06:40 PM             1,359 ex1data1.txt\n",
      "03/13/2017  06:40 PM               657 ex1data2.txt\n",
      "03/13/2017  06:40 PM             3,775 ex2data1.txt\n",
      "03/13/2017  06:40 PM             2,233 ex2data2.txt\n",
      "05/27/2017  10:05 PM            48,872 Exercise 2_1.ipynb\n",
      "05/28/2017  02:51 PM             6,231 Exercise 2_2.ipynb\n",
      "05/24/2017  12:06 PM            52,888 Exercise_1.ipynb\n",
      "05/24/2017  02:36 PM             5,723 Exercise_1_opt.ipynb\n",
      "03/19/2017  10:48 PM    <DIR>          machine-learning-ex1\n",
      "05/27/2017  10:28 AM            19,209 Untitled.ipynb\n",
      "               9 File(s)        140,947 bytes\n",
      "               4 Dir(s)  582,702,612,480 bytes free\n"
     ]
    }
   ],
   "source": [
    "%ls"
   ]
  },
  {
   "cell_type": "code",
   "execution_count": 4,
   "metadata": {
    "collapsed": true
   },
   "outputs": [],
   "source": [
    "df=pd.read_table('ex2data2.txt',sep=',',header=None, names=['test1','test2','y'])"
   ]
  },
  {
   "cell_type": "code",
   "execution_count": 5,
   "metadata": {
    "collapsed": false
   },
   "outputs": [
    {
     "data": {
      "text/plain": [
       "<seaborn.axisgrid.FacetGrid at 0x2250d3906a0>"
      ]
     },
     "execution_count": 5,
     "metadata": {},
     "output_type": "execute_result"
    },
    {
     "data": {
      "image/png": "[encoded data removed]",
      "text/plain": [
       "<matplotlib.figure.Figure at 0x2250d33aba8>"
      ]
     },
     "metadata": {},
     "output_type": "display_data"
    }
   ],
   "source": [
    "sns.lmplot('test1','test2',data=df,hue='y',fit_reg=False,markers=['o','x'])"
   ]
  },
  {
   "cell_type": "code",
   "execution_count": 7,
   "metadata": {
    "collapsed": false
   },
   "outputs": [],
   "source": [
    "df2=np.array(df[[0,1]])\n",
    "m=df2.shape[0]"
   ]
  },
  {
   "cell_type": "code",
   "execution_count": 8,
   "metadata": {
    "collapsed": false
   },
   "outputs": [],
   "source": [
    "x1=df2[:,[0]]\n",
    "x2=df2[:,[1]]"
   ]
  },
  {
   "cell_type": "code",
   "execution_count": 65,
   "metadata": {
    "collapsed": true
   },
   "outputs": [],
   "source": [
    "def map_features(x1,x2,degree):\n",
    "    m=x1.size\n",
    "    out=np.ones((m,1))\n",
    "    for i in range(1, degree + 1):\n",
    "        for j in range(i + 1):\n",
    "            r=np.array((x1**(i-j))*(x2**j)).reshape((m,1))\n",
    "            out=np.append(out,r,axis=1)\n",
    "    return out"
   ]
  },
  {
   "cell_type": "code",
   "execution_count": 10,
   "metadata": {
    "collapsed": false
   },
   "outputs": [],
   "source": [
    "out=map_features(x1,x2,6)"
   ]
  },
  {
   "cell_type": "code",
   "execution_count": 11,
   "metadata": {
    "collapsed": true
   },
   "outputs": [],
   "source": [
    "def sigmoid(a):\n",
    "    return 1/(1+np.exp(-a))"
   ]
  },
  {
   "cell_type": "code",
   "execution_count": 12,
   "metadata": {
    "collapsed": false
   },
   "outputs": [],
   "source": [
    "X=out\n",
    "y=df[[-1]]"
   ]
  },
  {
   "cell_type": "code",
   "execution_count": 13,
   "metadata": {
    "collapsed": false
   },
   "outputs": [],
   "source": [
    "def compute_cost(theta,X,y,lamb):\n",
    "    n=len(theta)\n",
    "    theta=np.reshape(theta,(n,1))\n",
    "    m=X.shape[0]\n",
    "    hx=sigmoid(X.dot(theta))\n",
    "    J=1/m*(-y.T.dot(np.log(hx))-(1-y).T.dot(np.log(1-hx)))+lamb/(2*m)*(theta.T.dot(theta))\n",
    "    return J[0][0]\n",
    "    \n"
   ]
  },
  {
   "cell_type": "code",
   "execution_count": 14,
   "metadata": {
    "collapsed": true
   },
   "outputs": [],
   "source": [
    "theta=np.zeros(28)"
   ]
  },
  {
   "cell_type": "code",
   "execution_count": 15,
   "metadata": {
    "collapsed": false
   },
   "outputs": [
    {
     "data": {
      "text/plain": [
       "0.6931471805599454"
      ]
     },
     "execution_count": 15,
     "metadata": {},
     "output_type": "execute_result"
    }
   ],
   "source": [
    "compute_cost(theta,X,y,10)"
   ]
  },
  {
   "cell_type": "code",
   "execution_count": 16,
   "metadata": {
    "collapsed": true
   },
   "outputs": [],
   "source": [
    "def compute_der(theta,X,y,lamb):\n",
    "    n=len(theta)\n",
    "    theta=np.reshape(theta,(n,1))\n",
    "    der=np.zeros(n)\n",
    "    m=X.shape[0]\n",
    "    hx=sigmoid(X.dot(theta))\n",
    "    der[0]=1/m*X[:,[0]].T.dot(hx-y)\n",
    "    for i in range(1,n):\n",
    "        der[i]=((1/m*((X[:,[i]]).T.dot(hx-y)))+(lamb/m)*theta[i])\n",
    "    return der"
   ]
  },
  {
   "cell_type": "code",
   "execution_count": 17,
   "metadata": {
    "collapsed": true
   },
   "outputs": [],
   "source": [
    "n=len(theta)\n",
    "tmp1=np.reshape(theta,(n,1))\n",
    "m=X.shape[0]\n",
    "hx=sigmoid(X.dot(tmp1))"
   ]
  },
  {
   "cell_type": "code",
   "execution_count": 41,
   "metadata": {
    "collapsed": false
   },
   "outputs": [],
   "source": [
    "res=minimize(compute_cost,theta,method=\"BFGS\",args=(X,y,1),jac=compute_der)"
   ]
  },
  {
   "cell_type": "code",
   "execution_count": 42,
   "metadata": {
    "collapsed": false
   },
   "outputs": [
    {
     "data": {
      "text/plain": [
       "array([ 1.22936289,  0.63244485,  1.19453878, -1.974858  , -0.91081349,\n",
       "       -1.31288739,  0.1278769 , -0.37280756, -0.38208417, -0.1659471 ,\n",
       "       -1.45886406, -0.09425439, -0.59816669, -0.28669511, -1.18162912,\n",
       "       -0.2465451 , -0.22356158, -0.06635879, -0.26965296, -0.30821223,\n",
       "       -0.50672174, -1.06313076, -0.0044257 , -0.2889401 , -0.00588416,\n",
       "       -0.31972433, -0.15633712, -0.98598224])"
      ]
     },
     "execution_count": 42,
     "metadata": {},
     "output_type": "execute_result"
    }
   ],
   "source": [
    "res.x"
   ]
  },
  {
   "cell_type": "code",
   "execution_count": 43,
   "metadata": {
    "collapsed": false
   },
   "outputs": [],
   "source": [
    "def predict(X,theta):\n",
    "    hx=sigmoid(X.dot(theta))\n",
    "    p=[]\n",
    "    for i in hx:\n",
    "        if i >= 0.5:\n",
    "            p.append(1.0)\n",
    "        else:\n",
    "            p.append(0.0)\n",
    "    m=len(p)\n",
    "    p=np.reshape(p,(m,1))\n",
    "    return p"
   ]
  },
  {
   "cell_type": "code",
   "execution_count": 44,
   "metadata": {
    "collapsed": false
   },
   "outputs": [],
   "source": [
    "def evaluate(pred,y):\n",
    "    return (pred[np.where(pred==y)].shape[0])/(pred.shape[0])"
   ]
  },
  {
   "cell_type": "code",
   "execution_count": 45,
   "metadata": {
    "collapsed": false
   },
   "outputs": [
    {
     "data": {
      "text/plain": [
       "0.8305084745762712"
      ]
     },
     "execution_count": 45,
     "metadata": {},
     "output_type": "execute_result"
    }
   ],
   "source": [
    "p=predict(X,res.x)\n",
    "evaluate(p,y)"
   ]
  },
  {
   "cell_type": "code",
   "execution_count": 48,
   "metadata": {
    "collapsed": true
   },
   "outputs": [],
   "source": [
    "u=np.linspace(-1,1.5,50)"
   ]
  },
  {
   "cell_type": "code",
   "execution_count": 49,
   "metadata": {
    "collapsed": true
   },
   "outputs": [],
   "source": [
    "v=np.linspace(-1,1.5,50)"
   ]
  },
  {
   "cell_type": "code",
   "execution_count": 53,
   "metadata": {
    "collapsed": false
   },
   "outputs": [],
   "source": [
    "z=np.zeros((len(u),len(v)))"
   ]
  },
  {
   "cell_type": "code",
   "execution_count": 68,
   "metadata": {
    "collapsed": false
   },
   "outputs": [],
   "source": [
    "for i in range(len(u)):\n",
    "    for j in range(len(v)):\n",
    "        z[i,j]=map_features(u[i],u[j],6).dot(res.x)"
   ]
  },
  {
   "cell_type": "code",
   "execution_count": 77,
   "metadata": {
    "collapsed": true
   },
   "outputs": [],
   "source": [
    "y2=np.array(y)"
   ]
  },
  {
   "cell_type": "code",
   "execution_count": 83,
   "metadata": {
    "collapsed": true
   },
   "outputs": [],
   "source": [
    "pos=np.where(y==1)\n",
    "neg=np.where(y==0)"
   ]
  },
  {
   "cell_type": "code",
   "execution_count": 92,
   "metadata": {
    "collapsed": false
   },
   "outputs": [
    {
     "data": {
      "text/plain": [
       "<matplotlib.contour.QuadContourSet at 0x2250f31bef0>"
      ]
     },
     "execution_count": 92,
     "metadata": {},
     "output_type": "execute_result"
    },
    {
     "data": {
      "image/png": "[encoded data removed]",
      "text/plain": [
       "<matplotlib.figure.Figure at 0x2250efa7d30>"
      ]
     },
     "metadata": {},
     "output_type": "display_data"
    }
   ],
   "source": [
    "plt.scatter(df2[pos,0],df2[pos,1],marker='o',c='b')\n",
    "plt.scatter(df2[neg,0],df2[neg,1],marker='x',c='r')\n",
    "plt.contour(u,v,z.T,1)"
   ]
  },
  {
   "cell_type": "code",
   "execution_count": 74,
   "metadata": {
    "collapsed": false
   },
   "outputs": [
    {
     "data": {
      "text/plain": [
       "Index(['test1', 'test2', 'y'], dtype='object')"
      ]
     },
     "execution_count": 74,
     "metadata": {},
     "output_type": "execute_result"
    }
   ],
   "source": [
    "df.columns"
   ]
  },
  {
   "cell_type": "code",
   "execution_count": 86,
   "metadata": {
    "collapsed": true
   },
   "outputs": [],
   "source": [
    "res2=minimize(compute_cost,theta,method=\"BFGS\",args=(X,y,0),jac=compute_der)"
   ]
  },
  {
   "cell_type": "code",
   "execution_count": 87,
   "metadata": {
    "collapsed": true
   },
   "outputs": [],
   "source": [
    "z2=np.zeros((len(u),len(v)))\n",
    "for i in range(len(u)):\n",
    "    for j in range(len(v)):\n",
    "        z2[i,j]=map_features(u[i],u[j],6).dot(res2.x)"
   ]
  },
  {
   "cell_type": "code",
   "execution_count": 91,
   "metadata": {
    "collapsed": false
   },
   "outputs": [
    {
     "data": {
      "text/plain": [
       "<matplotlib.contour.QuadContourSet at 0x2250f28ba58>"
      ]
     },
     "execution_count": 91,
     "metadata": {},
     "output_type": "execute_result"
    },
    {
     "data": {
      "image/png": "[encoded data removed]",
      "text/plain": [
       "<matplotlib.figure.Figure at 0x2250f0dc9e8>"
      ]
     },
     "metadata": {},
     "output_type": "display_data"
    }
   ],
   "source": [
    "plt.scatter(df2[pos,0],df2[pos,1],marker='o',c='b')\n",
    "plt.scatter(df2[neg,0],df2[neg,1],marker='x',c='r')\n",
    "plt.contour(u,v,z2.T,1)"
   ]
  },
  {
   "cell_type": "code",
   "execution_count": null,
   "metadata": {
    "collapsed": true
   },
   "outputs": [],
   "source": []
  }
 ],
 "metadata": {
  "kernelspec": {
   "display_name": "Python 3",
   "language": "python",
   "name": "python3"
  },
  "language_info": {
   "codemirror_mode": {
    "name": "ipython",
    "version": 3
   },
   "file_extension": ".py",
   "mimetype": "text/x-python",
   "name": "python",
   "nbconvert_exporter": "python",
   "pygments_lexer": "ipython3",
   "version": "3.6.0"
  }
 },
 "nbformat": 4,
 "nbformat_minor": 2
}
