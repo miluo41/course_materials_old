{
 "cells": [
  {
   "cell_type": "code",
   "execution_count": 1,
   "metadata": {
    "collapsed": true
   },
   "outputs": [],
   "source": [
    "import numpy as np\n",
    "import pandas as pd\n",
    "import matplotlib.pyplot as plt\n",
    "%matplotlib inline"
   ]
  },
  {
   "cell_type": "code",
   "execution_count": 2,
   "metadata": {},
   "outputs": [
    {
     "ename": "ImportError",
     "evalue": "cannot import name 'accuracy'",
     "output_type": "error",
     "traceback": [
      "\u001b[1;31m---------------------------------------------------------------------------\u001b[0m",
      "\u001b[1;31mImportError\u001b[0m                               Traceback (most recent call last)",
      "\u001b[1;32m<ipython-input-2-504ab2643599>\u001b[0m in \u001b[0;36m<module>\u001b[1;34m()\u001b[0m\n\u001b[1;32m----> 1\u001b[1;33m \u001b[1;32mfrom\u001b[0m \u001b[0msklearn\u001b[0m\u001b[1;33m.\u001b[0m\u001b[0mmetrics\u001b[0m \u001b[1;32mimport\u001b[0m \u001b[0maccuracy\u001b[0m\u001b[1;33m\u001b[0m\u001b[0m\n\u001b[0m",
      "\u001b[1;31mImportError\u001b[0m: cannot import name 'accuracy'"
     ]
    }
   ],
   "source": [
    "from sklearn.metrics import accuracy_scoreracy"
   ]
  },
  {
   "cell_type": "code",
   "execution_count": 4,
   "metadata": {},
   "outputs": [
    {
     "data": {
      "text/plain": [
       "[('r2', make_scorer(r2_score)),\n",
       " ('neg_median_absolute_error',\n",
       "  make_scorer(median_absolute_error, greater_is_better=False)),\n",
       " ('neg_mean_absolute_error',\n",
       "  make_scorer(mean_absolute_error, greater_is_better=False)),\n",
       " ('neg_mean_squared_error',\n",
       "  make_scorer(mean_squared_error, greater_is_better=False)),\n",
       " ('median_absolute_error',\n",
       "  make_scorer(median_absolute_error, greater_is_better=False)),\n",
       " ('mean_absolute_error',\n",
       "  make_scorer(mean_absolute_error, greater_is_better=False)),\n",
       " ('mean_squared_error',\n",
       "  make_scorer(mean_squared_error, greater_is_better=False)),\n",
       " ('accuracy', make_scorer(accuracy_score)),\n",
       " ('roc_auc', make_scorer(roc_auc_score, needs_threshold=True)),\n",
       " ('average_precision',\n",
       "  make_scorer(average_precision_score, needs_threshold=True)),\n",
       " ('log_loss',\n",
       "  make_scorer(log_loss, greater_is_better=False, needs_proba=True)),\n",
       " ('neg_log_loss',\n",
       "  make_scorer(log_loss, greater_is_better=False, needs_proba=True)),\n",
       " ('adjusted_rand_score', make_scorer(adjusted_rand_score)),\n",
       " ('precision', make_scorer(precision_score)),\n",
       " ('precision_macro',\n",
       "  make_scorer(precision_score, pos_label=None, average=macro)),\n",
       " ('precision_micro',\n",
       "  make_scorer(precision_score, pos_label=None, average=micro)),\n",
       " ('precision_samples',\n",
       "  make_scorer(precision_score, pos_label=None, average=samples)),\n",
       " ('precision_weighted',\n",
       "  make_scorer(precision_score, pos_label=None, average=weighted)),\n",
       " ('recall', make_scorer(recall_score)),\n",
       " ('recall_macro', make_scorer(recall_score, pos_label=None, average=macro)),\n",
       " ('recall_micro', make_scorer(recall_score, pos_label=None, average=micro)),\n",
       " ('recall_samples',\n",
       "  make_scorer(recall_score, pos_label=None, average=samples)),\n",
       " ('recall_weighted',\n",
       "  make_scorer(recall_score, pos_label=None, average=weighted)),\n",
       " ('f1', make_scorer(f1_score)),\n",
       " ('f1_macro', make_scorer(f1_score, pos_label=None, average=macro)),\n",
       " ('f1_micro', make_scorer(f1_score, pos_label=None, average=micro)),\n",
       " ('f1_samples', make_scorer(f1_score, pos_label=None, average=samples)),\n",
       " ('f1_weighted', make_scorer(f1_score, pos_label=None, average=weighted))]"
      ]
     },
     "execution_count": 4,
     "metadata": {},
     "output_type": "execute_result"
    }
   ],
   "source": [
    "from sklearn.metrics.scorer import SCORERS\n",
    "list(SCORERS.items())"
   ]
  },
  {
   "cell_type": "code",
   "execution_count": null,
   "metadata": {
    "collapsed": true
   },
   "outputs": [],
   "source": []
  }
 ],
 "metadata": {
  "kernelspec": {
   "display_name": "Python 3",
   "language": "python",
   "name": "python3"
  },
  "language_info": {
   "codemirror_mode": {
    "name": "ipython",
    "version": 3
   },
   "file_extension": ".py",
   "mimetype": "text/x-python",
   "name": "python",
   "nbconvert_exporter": "python",
   "pygments_lexer": "ipython3",
   "version": "3.6.1"
  },
  "varInspector": {
   "cols": {
    "lenName": 16,
    "lenType": 16,
    "lenVar": 40
   },
   "kernels_config": {
    "python": {
     "delete_cmd_postfix": "",
     "delete_cmd_prefix": "del ",
     "library": "var_list.py",
     "varRefreshCmd": "print(var_dic_list())"
    },
    "r": {
     "delete_cmd_postfix": ") ",
     "delete_cmd_prefix": "rm(",
     "library": "var_list.r",
     "varRefreshCmd": "cat(var_dic_list()) "
    }
   },
   "types_to_exclude": [
    "module",
    "function",
    "builtin_function_or_method",
    "instance",
    "_Feature"
   ],
   "window_display": false
  }
 },
 "nbformat": 4,
 "nbformat_minor": 2
}
