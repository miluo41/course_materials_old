{
 "cells": [
  {
   "cell_type": "code",
   "execution_count": 1,
   "metadata": {
    "collapsed": true
   },
   "outputs": [],
   "source": [
    "import numpy as np\n",
    "import math\n",
    "infile=np.loadtxt('IntegerArray.txt')\n",
    "in_list=list(infile)"
   ]
  },
  {
   "cell_type": "markdown",
   "metadata": {},
   "source": [
    "#### My first shot"
   ]
  },
  {
   "cell_type": "code",
   "execution_count": 2,
   "metadata": {
    "collapsed": true
   },
   "outputs": [],
   "source": [
    "def merge_sort(L):\n",
    "    if len(L)==1:\n",
    "        return L\n",
    "    cut=math.ceil(len(L)/2)\n",
    "    L1=merge_sort(L[:cut])\n",
    "    L2=merge_sort(L[cut:])\n",
    "    S=[]\n",
    "    i=0\n",
    "    j=0\n",
    "    while i<=(len(L1)-1) and j<=(len(L2)-1):     # this statement is very stupid, simply use i<len(L1) will suffice\n",
    "        if L1[i]<=L2[j]:\n",
    "            S.append(L1[i])\n",
    "            i+=1\n",
    "        else:\n",
    "            S.append(L2[j])\n",
    "            j+=1\n",
    "    if i>(len(L1)-1):      # there is a cleaner way to do this. In python L[len(L)] will be out of range, while L[len(L):]\n",
    "        S=S+L2             # will simply return empty list. simply implement S+L1[i:],S+L2[j:] WITHOUT if/else statement will be\n",
    "    else:                  # fine\n",
    "        S=S+L1\n",
    "    return S"
   ]
  },
  {
   "cell_type": "code",
   "execution_count": 3,
   "metadata": {
    "collapsed": true
   },
   "outputs": [],
   "source": [
    "import timeit"
   ]
  },
  {
   "cell_type": "code",
   "execution_count": 4,
   "metadata": {},
   "outputs": [
    {
     "name": "stdout",
     "output_type": "stream",
     "text": [
      "Time needed for merge sort is 31.135063420703496\n"
     ]
    }
   ],
   "source": [
    "t1=timeit.default_timer()\n",
    "out_list=merge_sort(in_list)\n",
    "t2=timeit.default_timer()\n",
    "merge_sort_t=t2-t1\n",
    "print('Time needed for merge sort is {}'.format(merge_sort_t))"
   ]
  },
  {
   "cell_type": "code",
   "execution_count": 5,
   "metadata": {},
   "outputs": [
    {
     "name": "stdout",
     "output_type": "stream",
     "text": [
      "Time needed for python default sorting routine is 0.06878283486380354\n"
     ]
    }
   ],
   "source": [
    "t3=timeit.default_timer()\n",
    "out_list2=sorted(in_list)\n",
    "t4=timeit.default_timer()\n",
    "python_sort=t4-t3\n",
    "print('Time needed for python default sorting routine is {}'.format(python_sort))"
   ]
  },
  {
   "cell_type": "code",
   "execution_count": 6,
   "metadata": {
    "collapsed": true
   },
   "outputs": [],
   "source": [
    "#just like the case in Karatsuba multiplication, the default python function for carry out sorting is way faster \n",
    "#than my implemnetation."
   ]
  },
  {
   "cell_type": "markdown",
   "metadata": {},
   "source": [
    "#### Second shot\n",
    "After reading ChuntaoLu's code I think have a seperate function for merge gives a cleaner code"
   ]
  },
  {
   "cell_type": "code",
   "execution_count": 7,
   "metadata": {
    "collapsed": true
   },
   "outputs": [],
   "source": [
    "def merge(L1,L2):\n",
    "    L1_len=len(L1)\n",
    "    L2_len=len(L2)\n",
    "    i,j=0,0\n",
    "    M=[]\n",
    "    while i<L1_len and j<L2_len:\n",
    "        if L1[i]<=L2[j]:\n",
    "            M.append(L1[i])\n",
    "            i+=1\n",
    "        else:\n",
    "            M.append(L2[j])\n",
    "            j+=1\n",
    "    M=M+L1[i:]+L2[j:]\n",
    "    return M\n",
    "\n",
    "def merge_sort2(L):\n",
    "    L_len=len(L)\n",
    "    if L_len==1:\n",
    "        return L\n",
    "    else:\n",
    "        cutpoint=int(L_len/2)\n",
    "        L1=merge_sort2(L[:cutpoint])\n",
    "        L2=merge_sort2(L[cutpoint:])\n",
    "        S=merge(L1,L2)\n",
    "    return S"
   ]
  },
  {
   "cell_type": "code",
   "execution_count": 8,
   "metadata": {},
   "outputs": [
    {
     "name": "stdout",
     "output_type": "stream",
     "text": [
      "0.9297171578335366\n"
     ]
    }
   ],
   "source": [
    "t1_2=timeit.default_timer()\n",
    "out_list2=merge_sort2(in_list)\n",
    "t2_2=timeit.default_timer()\n",
    "print(t2_2-t1_2)"
   ]
  },
  {
   "cell_type": "code",
   "execution_count": 48,
   "metadata": {
    "collapsed": true
   },
   "outputs": [],
   "source": [
    "# This code become significantly faster, some changes from the original code 1. the output from len() was saved and avoided\n",
    "# repeated computation. 2. The last two if/else statements were avoided"
   ]
  },
  {
   "cell_type": "markdown",
   "metadata": {},
   "source": [
    "#### Counting total number of inversions"
   ]
  },
  {
   "cell_type": "code",
   "execution_count": null,
   "metadata": {
    "collapsed": true
   },
   "outputs": [],
   "source": [
    "def merge2(L1,L2):\n",
    "    i,j,count=0,0,0\n",
    "    S=[]\n",
    "    L1_len=len(L1)\n",
    "    L2_len=len(L2)\n",
    "    while i<L1_len and j<L2_len:\n",
    "        if L1[i]<=L2[j]:\n",
    "            S.append(L1[i])\n",
    "            i+=1\n",
    "        else:\n",
    "            S.append(L2[j])\n",
    "            count+=len(L1[i:])\n",
    "            j+=1\n",
    "    S=S+L1[i:]+L2[j:]\n",
    "    return S,count\n",
    "\n",
    "def count_inv(L):\n",
    "    L_len=len(L)\n",
    "    if L_len==1:\n",
    "        return L,0\n",
    "    cut_point=int(L_len/2)\n",
    "    L1,count_L1=count_inv(L[:cut_point])\n",
    "#     print(L1,count_L1)\n",
    "    L2,count_L2=count_inv(L[cut_point:])\n",
    "#     print(L2,count_L2)\n",
    "    S,count_L=merge2(L1,L2)\n",
    "#     print(S,count_L)\n",
    "    return S,count_L+count_L1+count_L2\n",
    "    "
   ]
  },
  {
   "cell_type": "code",
   "execution_count": 66,
   "metadata": {
    "collapsed": true
   },
   "outputs": [],
   "source": [
    "out_file,inv_num=count_inv(in_list)"
   ]
  },
  {
   "cell_type": "code",
   "execution_count": 68,
   "metadata": {},
   "outputs": [
    {
     "data": {
      "text/plain": [
       "2407905288"
      ]
     },
     "execution_count": 68,
     "metadata": {},
     "output_type": "execute_result"
    }
   ],
   "source": [
    "inv_num"
   ]
  },
  {
   "cell_type": "code",
   "execution_count": 9,
   "metadata": {
    "collapsed": true
   },
   "outputs": [],
   "source": [
    "import pandas as pd"
   ]
  },
  {
   "cell_type": "code",
   "execution_count": 10,
   "metadata": {
    "collapsed": true
   },
   "outputs": [],
   "source": [
    "import numpy as np"
   ]
  },
  {
   "cell_type": "code",
   "execution_count": 11,
   "metadata": {
    "collapsed": true
   },
   "outputs": [],
   "source": [
    "import math"
   ]
  },
  {
   "cell_type": "code",
   "execution_count": null,
   "metadata": {
    "collapsed": true
   },
   "outputs": [],
   "source": []
  }
 ],
 "metadata": {
  "kernelspec": {
   "display_name": "Python 3",
   "language": "python",
   "name": "python3"
  },
  "language_info": {
   "codemirror_mode": {
    "name": "ipython",
    "version": 3
   },
   "file_extension": ".py",
   "mimetype": "text/x-python",
   "name": "python",
   "nbconvert_exporter": "python",
   "pygments_lexer": "ipython3",
   "version": "3.6.1"
  },
  "varInspector": {
   "cols": {
    "lenName": 16,
    "lenType": 16,
    "lenVar": 40
   },
   "kernels_config": {
    "python": {
     "delete_cmd_postfix": "",
     "delete_cmd_prefix": "del ",
     "library": "var_list.py",
     "varRefreshCmd": "print(var_dic_list())"
    },
    "r": {
     "delete_cmd_postfix": ") ",
     "delete_cmd_prefix": "rm(",
     "library": "var_list.r",
     "varRefreshCmd": "cat(var_dic_list()) "
    }
   },
   "types_to_exclude": [
    "module",
    "function",
    "builtin_function_or_method",
    "instance",
    "_Feature"
   ],
   "window_display": false
  }
 },
 "nbformat": 4,
 "nbformat_minor": 2
}
