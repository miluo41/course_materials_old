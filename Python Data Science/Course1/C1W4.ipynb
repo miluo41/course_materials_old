{
 "cells": [
  {
   "cell_type": "code",
   "execution_count": 1,
   "metadata": {
    "collapsed": true
   },
   "outputs": [],
   "source": [
    "import numpy as np\n",
    "import pandas as pd"
   ]
  },
  {
   "cell_type": "code",
   "execution_count": 13,
   "metadata": {},
   "outputs": [
    {
     "data": {
      "text/plain": [
       "0.0030000000000000001"
      ]
     },
     "execution_count": 13,
     "metadata": {},
     "output_type": "execute_result"
    }
   ],
   "source": [
    "np.mean(np.random.binomial(20,0.5,1000)>15)"
   ]
  },
  {
   "cell_type": "code",
   "execution_count": 14,
   "metadata": {},
   "outputs": [
    {
     "data": {
      "text/plain": [
       "7.203765462471857"
      ]
     },
     "execution_count": 14,
     "metadata": {},
     "output_type": "execute_result"
    }
   ],
   "source": [
    "np.random.uniform(10)"
   ]
  },
  {
   "cell_type": "code",
   "execution_count": 15,
   "metadata": {
    "collapsed": true
   },
   "outputs": [],
   "source": [
    "np.random.normal?"
   ]
  },
  {
   "cell_type": "code",
   "execution_count": 16,
   "metadata": {},
   "outputs": [
    {
     "data": {
      "text/plain": [
       "array([ -1.26220078e+00,   1.02951776e+00,  -5.67550684e-01,\n",
       "         2.30294108e-01,  -1.57422744e-01,  -3.99232420e-01,\n",
       "        -4.32403505e-01,  -1.20789536e-01,  -1.05635152e-01,\n",
       "         1.09526184e+00,   1.54301960e-01,   3.54236255e-01,\n",
       "         1.94241875e-01,   1.62155045e+00,   2.15130891e+00,\n",
       "        -4.03648627e-01,  -3.04188861e-01,  -1.93575543e-01,\n",
       "         1.86699453e+00,  -4.59630754e-01,   4.54242615e-01,\n",
       "        -3.54204117e-01,  -7.09895312e-01,  -4.91157819e-01,\n",
       "        -1.53204791e-01,  -5.07212377e-01,  -4.39866253e-01,\n",
       "        -4.92323235e-01,  -1.21411366e+00,  -1.73977367e-01,\n",
       "         3.19912278e-03,   1.22155932e+00,  -4.04250704e-01,\n",
       "        -1.09123251e-01,  -7.80958879e-01,   2.17938966e-01,\n",
       "        -4.66629673e-01,   1.66409440e+00,   5.54018494e-01,\n",
       "         4.63575884e-01,  -6.71244941e-01,  -1.28239632e+00,\n",
       "         2.07633731e-01,   5.52188186e-01,   9.04044935e-01,\n",
       "        -1.34999445e+00,   5.15283506e-01,  -1.48645066e+00,\n",
       "         6.96250600e-02,   3.76530229e-01,   6.61376033e-01,\n",
       "         8.36747379e-01,  -2.33035248e+00,  -5.53299224e-01,\n",
       "        -2.32185679e+00,   1.19132782e+00,   1.24813427e+00,\n",
       "         8.82336585e-02,   4.39920142e-01,  -2.94039450e-01,\n",
       "        -9.56554853e-04,   4.50818601e-01,   2.21388215e-01,\n",
       "         5.61516055e-01,  -9.29121913e-01,   8.86178128e-01,\n",
       "         2.72548432e-01,   1.57454395e+00,  -8.02322911e-01,\n",
       "         1.15376390e+00,   9.00488628e-01,   2.75827281e-01,\n",
       "         2.24440617e-02,   1.36077561e+00,  -1.22229445e-01,\n",
       "         2.77483891e-01,   6.93516554e-01,   9.66834546e-01,\n",
       "        -2.36155139e-01,   4.85730643e-01,  -6.81613118e-01,\n",
       "        -7.69873117e-01,   1.81192927e+00,  -1.11915007e+00,\n",
       "         8.15013674e-01,   1.62034130e+00,  -2.86563643e-01,\n",
       "         6.35701743e-01,   9.29639599e-01,   5.31037522e-01,\n",
       "        -8.46930329e-01,  -1.48850214e-01,   9.54654453e-01,\n",
       "        -6.35099247e-02,   1.12811673e+00,  -9.28303834e-01,\n",
       "        -8.43763668e-02,  -3.21908814e-01,   7.77494508e-01,\n",
       "         1.56506849e+00])"
      ]
     },
     "execution_count": 16,
     "metadata": {},
     "output_type": "execute_result"
    }
   ],
   "source": [
    "np.random.normal(size=100)"
   ]
  },
  {
   "cell_type": "code",
   "execution_count": 17,
   "metadata": {
    "collapsed": true
   },
   "outputs": [],
   "source": [
    "import scipy.stats as stats"
   ]
  },
  {
   "cell_type": "code",
   "execution_count": null,
   "metadata": {
    "collapsed": true
   },
   "outputs": [],
   "source": []
  }
 ],
 "metadata": {
  "kernelspec": {
   "display_name": "Python 3",
   "language": "python",
   "name": "python3"
  },
  "language_info": {
   "codemirror_mode": {
    "name": "ipython",
    "version": 3
   },
   "file_extension": ".py",
   "mimetype": "text/x-python",
   "name": "python",
   "nbconvert_exporter": "python",
   "pygments_lexer": "ipython3",
   "version": "3.6.1"
  },
  "varInspector": {
   "cols": {
    "lenName": 16,
    "lenType": 16,
    "lenVar": 40
   },
   "kernels_config": {
    "python": {
     "delete_cmd_postfix": "",
     "delete_cmd_prefix": "del ",
     "library": "var_list.py",
     "varRefreshCmd": "print(var_dic_list())"
    },
    "r": {
     "delete_cmd_postfix": ") ",
     "delete_cmd_prefix": "rm(",
     "library": "var_list.r",
     "varRefreshCmd": "cat(var_dic_list()) "
    }
   },
   "types_to_exclude": [
    "module",
    "function",
    "builtin_function_or_method",
    "instance",
    "_Feature"
   ],
   "window_display": false
  }
 },
 "nbformat": 4,
 "nbformat_minor": 2
}
